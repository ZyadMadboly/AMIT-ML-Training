{
 "cells": [
  {
   "cell_type": "markdown",
   "metadata": {
    "collapsed": true
   },
   "source": [
    "# QUIZ\n",
    "Let's test your knowledge!"
   ]
  },
  {
   "cell_type": "markdown",
   "metadata": {},
   "source": [
    "_____\n",
    "**Use <code>for</code>, .split(), and <code>if</code> to create a Statement that will print out words that start with 's':**"
   ]
  },
  {
   "cell_type": "code",
   "execution_count": 2,
   "metadata": {},
   "outputs": [],
   "source": [
    "st = 'Print only the words that start with s in this sentence'"
   ]
  },
  {
   "cell_type": "code",
   "execution_count": 17,
   "metadata": {},
   "outputs": [
    {
     "name": "stdout",
     "output_type": "stream",
     "text": [
      "['Print', 'only', 'the', 'words', 'that', 'start', 'with', 's', 'in', 'this', 'sentence']\n",
      "The Word Starts with 's' is \"start\"\n",
      "The Word Starts with 's' is \"s\"\n",
      "The Word Starts with 's' is \"sentence\"\n"
     ]
    }
   ],
   "source": [
    "a=st.split() # use the split method to split the words of the strings in list\n",
    "\n",
    "print(a) # print the list \n",
    "\n",
    "for word in a: # use for loop to iterate over the list\n",
    "    \n",
    "    if word[0]=='s': #use  if statment to determine if the index 0 of every word in list starts with the character 's' or not\n",
    "        \n",
    "        print(f\"The Word Starts with 's' is \\\"{word}\\\"\") # # print the word that starts with character 's'\n"
   ]
  },
  {
   "cell_type": "markdown",
   "metadata": {},
   "source": [
    "______\n",
    "**Use range() to print all the even numbers from 0 to 10.**"
   ]
  },
  {
   "cell_type": "code",
   "execution_count": 18,
   "metadata": {},
   "outputs": [
    {
     "name": "stdout",
     "output_type": "stream",
     "text": [
      "The Number 0 is Even\n",
      "The Number 2 is Even\n",
      "The Number 4 is Even\n",
      "The Number 6 is Even\n",
      "The Number 8 is Even\n",
      "The Number 10 is Even\n"
     ]
    }
   ],
   "source": [
    "for number in range(0,11): # use range() method to generate numbers from 0 to 10 then use for loop to iterate on the numbers\n",
    "    \n",
    "    if (number % 2 ==0): # use if condation to determine if the number can be divided by 2 or not \n",
    "        \n",
    "        print (f\"The Number {number} is Even\") # print the number that can be divided by 2"
   ]
  },
  {
   "cell_type": "markdown",
   "metadata": {},
   "source": [
    "___\n",
    "**Use a List Comprehension to create a list of all numbers between 1 and 50 that are divisible by 3.**"
   ]
  },
  {
   "cell_type": "code",
   "execution_count": 30,
   "metadata": {},
   "outputs": [
    {
     "data": {
      "text/plain": [
       "[3, 6, 9, 12, 15, 18, 21, 24, 27, 30, 33, 36, 39, 42, 45, 48]"
      ]
     },
     "execution_count": 30,
     "metadata": {},
     "output_type": "execute_result"
    }
   ],
   "source": [
    "[number for number in range(1,51) if number %3 ==0] # print in list of Comprehension the numbers that can divide by 3"
   ]
  },
  {
   "cell_type": "markdown",
   "metadata": {},
   "source": [
    "_____\n",
    "**Go through the string below and if the length of a word is even print \"even!\"**"
   ]
  },
  {
   "cell_type": "code",
   "execution_count": null,
   "metadata": {},
   "outputs": [],
   "source": [
    "st = 'Print every word in this sentence that has an even number of letters'"
   ]
  },
  {
   "cell_type": "code",
   "execution_count": 16,
   "metadata": {},
   "outputs": [
    {
     "name": "stdout",
     "output_type": "stream",
     "text": [
      "['Print', 'only', 'the', 'words', 'that', 'start', 'with', 's', 'in', 'this', 'sentence']\n",
      "The Length of the word \"only\" is Even\n",
      "The Length of the word \"that\" is Even\n",
      "The Length of the word \"with\" is Even\n",
      "The Length of the word \"in\" is Even\n",
      "The Length of the word \"this\" is Even\n",
      "The Length of the word \"sentence\" is Even\n"
     ]
    }
   ],
   "source": [
    "a=st.split() # use the split method to split the words of the strings in list\n",
    "\n",
    "print(a) # print the list \n",
    "\n",
    "for word in a:  #use for loop to iterate over the list\n",
    "    \n",
    "    if len(word) %2 ==0: #  use if condation to determine if the length of the word can by divide by 2 or not\n",
    "        \n",
    "        print(f\"The Length of the word \\\"{word}\\\" is Even\") #print the word can by divide by 2 'Even'\n"
   ]
  },
  {
   "cell_type": "markdown",
   "metadata": {},
   "source": [
    "____\n",
    "**Write a program that prints the integers from 1 to 100. But for multiples of three print \"Fizz\" instead of the number, and for the multiples of five print \"Buzz\". For numbers which are multiples of both three and five print \"FizzBuzz\".**"
   ]
  },
  {
   "cell_type": "code",
   "execution_count": 12,
   "metadata": {},
   "outputs": [
    {
     "name": "stdout",
     "output_type": "stream",
     "text": [
      "1 => un identified\n",
      "2 => un identified\n",
      "3 => is Fizz\n",
      "4 => un identified\n",
      "5 => is Buzz\n",
      "6 => is Fizz\n",
      "7 => un identified\n",
      "8 => un identified\n",
      "9 => is Fizz\n",
      "10 => is Buzz\n",
      "11 => un identified\n",
      "12 => is Fizz\n",
      "13 => un identified\n",
      "14 => un identified\n",
      "15 => is FizzBuzz\n",
      "16 => un identified\n",
      "17 => un identified\n",
      "18 => is Fizz\n",
      "19 => un identified\n",
      "20 => is Buzz\n",
      "21 => is Fizz\n",
      "22 => un identified\n",
      "23 => un identified\n",
      "24 => is Fizz\n",
      "25 => is Buzz\n",
      "26 => un identified\n",
      "27 => is Fizz\n",
      "28 => un identified\n",
      "29 => un identified\n",
      "30 => is FizzBuzz\n",
      "31 => un identified\n",
      "32 => un identified\n",
      "33 => is Fizz\n",
      "34 => un identified\n",
      "35 => is Buzz\n",
      "36 => is Fizz\n",
      "37 => un identified\n",
      "38 => un identified\n",
      "39 => is Fizz\n",
      "40 => is Buzz\n",
      "41 => un identified\n",
      "42 => is Fizz\n",
      "43 => un identified\n",
      "44 => un identified\n",
      "45 => is FizzBuzz\n",
      "46 => un identified\n",
      "47 => un identified\n",
      "48 => is Fizz\n",
      "49 => un identified\n",
      "50 => is Buzz\n",
      "51 => is Fizz\n",
      "52 => un identified\n",
      "53 => un identified\n",
      "54 => is Fizz\n",
      "55 => is Buzz\n",
      "56 => un identified\n",
      "57 => is Fizz\n",
      "58 => un identified\n",
      "59 => un identified\n",
      "60 => is FizzBuzz\n",
      "61 => un identified\n",
      "62 => un identified\n",
      "63 => is Fizz\n",
      "64 => un identified\n",
      "65 => is Buzz\n",
      "66 => is Fizz\n",
      "67 => un identified\n",
      "68 => un identified\n",
      "69 => is Fizz\n",
      "70 => is Buzz\n",
      "71 => un identified\n",
      "72 => is Fizz\n",
      "73 => un identified\n",
      "74 => un identified\n",
      "75 => is FizzBuzz\n",
      "76 => un identified\n",
      "77 => un identified\n",
      "78 => is Fizz\n",
      "79 => un identified\n",
      "80 => is Buzz\n",
      "81 => is Fizz\n",
      "82 => un identified\n",
      "83 => un identified\n",
      "84 => is Fizz\n",
      "85 => is Buzz\n",
      "86 => un identified\n",
      "87 => is Fizz\n",
      "88 => un identified\n",
      "89 => un identified\n",
      "90 => is FizzBuzz\n",
      "91 => un identified\n",
      "92 => un identified\n",
      "93 => is Fizz\n",
      "94 => un identified\n",
      "95 => is Buzz\n",
      "96 => is Fizz\n",
      "97 => un identified\n",
      "98 => un identified\n",
      "99 => is Fizz\n",
      "100 => is Buzz\n"
     ]
    }
   ],
   "source": [
    "for number in range (1,101): # use range() method to generate numbers from 0 to 10 then use for loop to iterate on the numbers\n",
    "     \n",
    "    if (number % 3 ==0 and number % 5==0 ):  # if condation to determine if the number can be divided by both 3 and 5 or not \n",
    "        \n",
    "        print(f\"{number} => is FizzBuzz\") # print 'FizzBuzz' if the number can be divided by both 3 and 5 \n",
    "        \n",
    "    elif (number % 3 ==0 ): # if condation to determine if the number can be divided by 3 \n",
    "        \n",
    "        print(f\"{number} => is Fizz\") # print 'Fizz' if the number can be divided by  3 \n",
    "        \n",
    "    elif  (number % 5==0 ): # if condation to determine if the number can be divided by 5\n",
    "        \n",
    "        print(f\"{number} => is Buzz\") # print 'Buzz' if the number can be divided by 5\n",
    "        \n",
    "    else : print(f\"{number} => un identified\") # if non of the condations above is true then print 'un identified'"
   ]
  },
  {
   "cell_type": "markdown",
   "metadata": {},
   "source": [
    "____\n",
    "**Use List Comprehension to create a list of the first letters of every word in the string below:**"
   ]
  },
  {
   "cell_type": "code",
   "execution_count": 37,
   "metadata": {},
   "outputs": [],
   "source": [
    "st = 'Create a list of the first letters of every word in this string'"
   ]
  },
  {
   "cell_type": "code",
   "execution_count": 42,
   "metadata": {},
   "outputs": [
    {
     "data": {
      "text/plain": [
       "['C', 'a', 'l', 'o', 't', 'f', 'l', 'o', 'e', 'w', 'i', 't', 's']"
      ]
     },
     "execution_count": 42,
     "metadata": {},
     "output_type": "execute_result"
    }
   ],
   "source": [
    "[word[0] for word in st.split()]"
   ]
  },
  {
   "cell_type": "markdown",
   "metadata": {},
   "source": [
    "### Great Job!"
   ]
  }
 ],
 "metadata": {
  "kernelspec": {
   "display_name": "Python 3 (ipykernel)",
   "language": "python",
   "name": "python3"
  },
  "language_info": {
   "codemirror_mode": {
    "name": "ipython",
    "version": 3
   },
   "file_extension": ".py",
   "mimetype": "text/x-python",
   "name": "python",
   "nbconvert_exporter": "python",
   "pygments_lexer": "ipython3",
   "version": "3.9.12"
  }
 },
 "nbformat": 4,
 "nbformat_minor": 1
}
