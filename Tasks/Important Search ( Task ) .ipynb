{
 "cells": [
  {
   "cell_type": "markdown",
   "id": "7f251024",
   "metadata": {},
   "source": [
    "# Dunder or Magic Methods "
   ]
  },
  {
   "cell_type": "code",
   "execution_count": 1,
   "id": "2d09fa64",
   "metadata": {},
   "outputs": [],
   "source": [
    "class String:\n",
    "      \n",
    "# magic method to initiate the Constructor\n",
    "def __init__(self, string):\n",
    "    \n",
    "    self.string = string\n",
    "          \n",
    "# print object\n",
    "def __repr__(self):\n",
    "    \n",
    "    return f'Object: {self.string}'\n",
    "  \n"
   ]
  },
  {
   "cell_type": "code",
   "execution_count": 2,
   "id": "e1dbff77",
   "metadata": {},
   "outputs": [
    {
     "name": "stdout",
     "output_type": "stream",
     "text": [
      "Object: Hello\n"
     ]
    }
   ],
   "source": [
    "# object creation\n",
    "\n",
    "string1 = String(\"Hello\")\n",
    "  \n",
    "# print object location\n",
    "\n",
    "print(string1)"
   ]
  },
  {
   "cell_type": "markdown",
   "id": "4ef293d7",
   "metadata": {},
   "source": [
    "# *Args & **KWArgs"
   ]
  },
  {
   "cell_type": "code",
   "execution_count": 3,
   "id": "9a9cb767",
   "metadata": {},
   "outputs": [
    {
     "name": "stdout",
     "output_type": "stream",
     "text": [
      "Hello Zeiad\n",
      "Hello Mohamed\n",
      "Hello Madboly\n",
      "Hello Mezo\n"
     ]
    }
   ],
   "source": [
    "# Funcation Packing , Un Packing Arguments (*Arg)\n",
    "\n",
    "def say_hello(*people):  # \"*people \" Un Pack to the parameter people ,it enables u to pass many argument in the calling of the funcation without limits\n",
    "    # and without being restricted by a certain number of arguments\n",
    "\n",
    "    # list_name = [x, y, z]\n",
    "    for variable in people:\n",
    "    \n",
    "        print(f\"Hello {variable}\")\n",
    "\n",
    "\n",
    "say_hello(\"Zeiad\", \"Mohamed\", \"Madboly\", \"Mezo\")"
   ]
  },
  {
   "cell_type": "code",
   "execution_count": 4,
   "id": "fdd69915",
   "metadata": {},
   "outputs": [
    {
     "name": "stdout",
     "output_type": "stream",
     "text": [
      "HTML => 29%\n",
      "CSS => 59%\n",
      "Python => 43%\n"
     ]
    }
   ],
   "source": [
    "# Funcation Packing ,Un Packing Keyword Arguments (**Arg)\n",
    "\n",
    "# Create Dictionary\n",
    "skills = {\n",
    "    \"HTML\": \"29%\",\n",
    "    \"CSS\": \"59%\",\n",
    "    \"Python\": \"43%\"\n",
    "} \n",
    "\n",
    "#Create Function\n",
    "def show_Skills(**skills):\n",
    "\n",
    "    for skill, value in skills.items():\n",
    "        \n",
    "        print(f\"{skill} => {value}\")\n",
    "\n",
    "\n",
    "show_Skills(**skills)\n"
   ]
  },
  {
   "cell_type": "code",
   "execution_count": 5,
   "id": "a4a5a4d0",
   "metadata": {},
   "outputs": [
    {
     "name": "stdout",
     "output_type": "stream",
     "text": [
      "Skill with Out Progress Are :\n",
      "HTML 3\n",
      "React Framework\n",
      "Autonmation\n",
      "Skills With Progress Are :\n",
      "Python => 40%\n",
      "Excel_Skills => 30%\n",
      "AI_Learning => 20%\n"
     ]
    }
   ],
   "source": [
    "def showAllSkills(*skillnoProgress, **skillwithProgress): \n",
    "    \n",
    "    print(\"Skill with Out Progress Are :\")\n",
    "    \n",
    "    for skill in skillnoProgress: # Loop \n",
    "        \n",
    "        print(skill)\n",
    "        \n",
    "    print(\"Skills With Progress Are :\")\n",
    "    \n",
    "    for skill_key_progress, skill_value_progress in skillwithProgress.items():\n",
    "        \n",
    "        print(f\"{skill_key_progress} => {skill_value_progress}\")\n",
    "\n",
    "\n",
    "showAllSkills(\"HTML 3\", \"React Framework\", \"Autonmation\",\n",
    "              Python=\"40%\", Excel_Skills=\"30%\", AI_Learning=\"20%\") \n"
   ]
  },
  {
   "cell_type": "markdown",
   "id": "a78cea1d",
   "metadata": {},
   "source": [
    "# OOP Encapsulation"
   ]
  },
  {
   "cell_type": "code",
   "execution_count": 6,
   "id": "e4891d6c",
   "metadata": {},
   "outputs": [
    {
     "name": "stdout",
     "output_type": "stream",
     "text": [
      "Calling protected member of base class:  2\n",
      "Calling modified protected member outside class:  3\n",
      "Accessing protected member of obj1:  3\n",
      "Accessing protected member of obj2:  2\n"
     ]
    }
   ],
   "source": [
    "class Base:\n",
    "    def __init__(self):\n",
    " \n",
    "        # Protected member\n",
    "        self._a = 2\n",
    " \n",
    "# Creating a derived class\n",
    "class Derived(Base):\n",
    "    def __init__(self):\n",
    " \n",
    "        # Calling constructor of Base class\n",
    "        Base.__init__(self)\n",
    "        print(f\"Calling protected member of base class:{self._a} \")\n",
    " \n",
    "        # Modify the protected variable:\n",
    "        self._a = 3\n",
    "        print(f\"Calling modified protected member outside class:{self._a} \"\n",
    "              )\n",
    " \n",
    " \n",
    "obj1 = Derived()\n",
    " \n",
    "obj2 = Base()\n",
    " \n",
    "# Calling protected member\n",
    "# Can be accessed but should not be done due to convention\n",
    "print(f\"Accessing protected member of obj1: {obj1._a} \")\n",
    " \n",
    "# Accessing the protected variable outside\n",
    "print(f\"Accessing protected member of obj2: {obj2._a} \")"
   ]
  },
  {
   "cell_type": "markdown",
   "id": "1760b260",
   "metadata": {},
   "source": [
    "# Abstraction OOP"
   ]
  },
  {
   "cell_type": "code",
   "execution_count": 8,
   "id": "c9a0a681",
   "metadata": {},
   "outputs": [
    {
     "name": "stdout",
     "output_type": "stream",
     "text": [
      "I have 3 sides\n",
      "I have 4 sides\n",
      "I have 5 sides\n",
      "I have 6 sides\n"
     ]
    }
   ],
   "source": [
    "from abc import ABC, abstractmethod\n",
    " \n",
    "class Polygon(ABC):\n",
    " \n",
    "   \n",
    "    def noofsides(self):\n",
    "        pass\n",
    " \n",
    "class Triangle(Polygon):\n",
    " \n",
    "    # overriding abstract method\n",
    "    def noofsides(self):\n",
    "        print(\"I have 3 sides\")\n",
    " \n",
    "class Pentagon(Polygon):\n",
    " \n",
    "    # overriding abstract method\n",
    "    def noofsides(self):\n",
    "        print(\"I have 5 sides\")\n",
    " \n",
    "class Hexagon(Polygon):\n",
    " \n",
    "    # overriding abstract method\n",
    "    def noofsides(self):\n",
    "        print(\"I have 6 sides\")\n",
    " \n",
    "class Quadrilateral(Polygon):\n",
    " \n",
    "    # overriding abstract method\n",
    "    def noofsides(self):\n",
    "        print(\"I have 4 sides\")\n",
    " \n",
    "\n",
    "R = Triangle()\n",
    "R.noofsides()\n",
    " \n",
    "K = Quadrilateral()\n",
    "K.noofsides()\n",
    " \n",
    "R = Pentagon()\n",
    "R.noofsides()\n",
    " \n",
    "K = Hexagon()\n",
    "K.noofsides()"
   ]
  },
  {
   "cell_type": "code",
   "execution_count": null,
   "id": "b68daa01",
   "metadata": {},
   "outputs": [],
   "source": []
  }
 ],
 "metadata": {
  "kernelspec": {
   "display_name": "Python 3 (ipykernel)",
   "language": "python",
   "name": "python3"
  },
  "language_info": {
   "codemirror_mode": {
    "name": "ipython",
    "version": 3
   },
   "file_extension": ".py",
   "mimetype": "text/x-python",
   "name": "python",
   "nbconvert_exporter": "python",
   "pygments_lexer": "ipython3",
   "version": "3.9.12"
  }
 },
 "nbformat": 4,
 "nbformat_minor": 5
}
