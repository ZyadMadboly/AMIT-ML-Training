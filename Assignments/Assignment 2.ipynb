{
 "cells": [
  {
   "cell_type": "markdown",
   "metadata": {},
   "source": [
    "# Assignment 1"
   ]
  },
  {
   "cell_type": "markdown",
   "metadata": {
    "collapsed": true
   },
   "source": [
    "## Test your knowledge. \n",
    "\n",
    "** Answer the following questions **"
   ]
  },
  {
   "cell_type": "markdown",
   "metadata": {},
   "source": [
    "## Strings"
   ]
  },
  {
   "cell_type": "markdown",
   "metadata": {},
   "source": [
    "Given the string 'hello' give an index command that returns 'e'. Enter your code in the cell below:"
   ]
  },
  {
   "cell_type": "code",
   "execution_count": 1,
   "metadata": {},
   "outputs": [
    {
     "data": {
      "text/plain": [
       "'e'"
      ]
     },
     "execution_count": 1,
     "metadata": {},
     "output_type": "execute_result"
    }
   ],
   "source": [
    "s = 'hello'\n",
    "# Print out 'e' using indexing\n",
    "print(s[1]) # Indexing the String Hello to get to the index of charcter 'e' which is in index 1 \n"
   ]
  },
  {
   "cell_type": "markdown",
   "metadata": {},
   "source": [
    "Reverse the string 'hello' using slicing:"
   ]
  },
  {
   "cell_type": "code",
   "execution_count": 2,
   "metadata": {},
   "outputs": [
    {
     "name": "stdout",
     "output_type": "stream",
     "text": [
      "olleh\n"
     ]
    }
   ],
   "source": [
    "s ='hello'\n",
    "# Reverse the string using slicing\n",
    "print(s[::-1])   # Reverse the string by using the slicing method and put -1 in the step cell"
   ]
  },
  {
   "cell_type": "markdown",
   "metadata": {},
   "source": [
    "Given the string hello, give two methods of producing the letter 'o' using indexing."
   ]
  },
  {
   "cell_type": "code",
   "execution_count": 3,
   "metadata": {},
   "outputs": [
    {
     "name": "stdout",
     "output_type": "stream",
     "text": [
      "o\n"
     ]
    }
   ],
   "source": [
    "s ='hello'\n",
    "# Print out the 'o'\n",
    "\n",
    "# Method 1:\n",
    "\n",
    "print(s[-1]) # Indexing the String Hello to get to the index of charcter 'o' which is in index -1 from the right  "
   ]
  },
  {
   "cell_type": "code",
   "execution_count": 4,
   "metadata": {},
   "outputs": [
    {
     "name": "stdout",
     "output_type": "stream",
     "text": [
      "o\n"
     ]
    }
   ],
   "source": [
    "# Method 2:\n",
    "\n",
    "print(s[4]) # Indexing the String Hello to get to the index of charcter 'o' which is in index 4 from the left  "
   ]
  },
  {
   "cell_type": "markdown",
   "metadata": {},
   "source": [
    "## Lists"
   ]
  },
  {
   "cell_type": "markdown",
   "metadata": {},
   "source": [
    "Build this list [0,0,0] two separate ways."
   ]
  },
  {
   "cell_type": "code",
   "execution_count": 8,
   "metadata": {},
   "outputs": [
    {
     "name": "stdout",
     "output_type": "stream",
     "text": [
      "[0, 0, 0]\n"
     ]
    }
   ],
   "source": [
    "# Method 1:\n",
    "\n",
    "list1=[] #create an empty list\n",
    "\n",
    "list1.append(0) #Use append which is list method to add the number 0 to the last place in the list\n",
    "\n",
    "print(list1) # print the list to make sure that the element has been added\n",
    "\n",
    "list1.append(0) #Use append which is list method to add the number 0 to the last place in the list\n",
    "\n",
    "print(list1) # print the list to make sure that the element has been added\n",
    "\n",
    "list1.append(0) #Use append which is list method to add the number 0 to the last place in the list\n",
    "\n",
    "print(list1) # print the list to make sure that the element has been added"
   ]
  },
  {
   "cell_type": "code",
   "execution_count": 20,
   "metadata": {},
   "outputs": [
    {
     "name": "stdout",
     "output_type": "stream",
     "text": [
      "[0]\n",
      "[0, 0]\n",
      "[0, 0, 0]\n"
     ]
    }
   ],
   "source": [
    "# Method 2:\n",
    "x=[]  #create an empty list\n",
    "x.insert(0,0) #Use insert which is list method to add the number 0 with a specific postion 'index 0' to the list => insert(postion,element)\n",
    "\n",
    "print(x) #print the list to make sure that the number has been added with a specific postion\n",
    "\n",
    "x.insert(1,0) #Use insert which is list method to add the number 0 with a specific postion 'index 1' to the list\n",
    "\n",
    "print(x) #print the list to make sure that the number has been added with a specific postion\n",
    "\n",
    "x.insert(2,0) #Use insert which is list method to add the number 0 with a specific postion 'index 2' to the list\n",
    "\n",
    "print(x) #print the list to make sure that the number has been added with a specific postion\n"
   ]
  },
  {
   "cell_type": "markdown",
   "metadata": {},
   "source": [
    "Reassign 'hello' in this nested list to say 'goodbye' instead:"
   ]
  },
  {
   "cell_type": "code",
   "execution_count": 22,
   "metadata": {},
   "outputs": [
    {
     "name": "stdout",
     "output_type": "stream",
     "text": [
      "[1, 2, [3, 4, 'goodbye']]\n"
     ]
    }
   ],
   "source": [
    "list3 = [1,2,[3,4,'hello']]\n",
    "\n",
    "list3[2][2]=\"goodbye\" # Indexing the the list with index 2 for the element we want then we acces the list element \"hello\" which index 2 and reassign the value\n",
    "\n",
    "print(list3) # print the list to make sure that the value has been reassgined"
   ]
  },
  {
   "cell_type": "markdown",
   "metadata": {},
   "source": [
    "Sort the list below:"
   ]
  },
  {
   "cell_type": "code",
   "execution_count": 25,
   "metadata": {},
   "outputs": [
    {
     "name": "stdout",
     "output_type": "stream",
     "text": [
      "{1, 3, 4, 5, 6}\n",
      "[1, 3, 4, 5, 6]\n"
     ]
    }
   ],
   "source": [
    "list4 = [5,3,4,6,1]\n",
    "\n",
    "e=set(list4) # converting list to set cause one of sets properties is that it sorts the element\n",
    "\n",
    "print(e) # print the set\n",
    "\n",
    "e=list(e) # converting the set back to list\n",
    " \n",
    "print(e) # print the list"
   ]
  },
  {
   "cell_type": "markdown",
   "metadata": {},
   "source": [
    "## Dictionaries"
   ]
  },
  {
   "cell_type": "markdown",
   "metadata": {},
   "source": [
    "Using keys and indexing, grab the 'hello' from the following dictionaries:"
   ]
  },
  {
   "cell_type": "code",
   "execution_count": 27,
   "metadata": {},
   "outputs": [
    {
     "data": {
      "text/plain": [
       "'hello'"
      ]
     },
     "execution_count": 27,
     "metadata": {},
     "output_type": "execute_result"
    }
   ],
   "source": [
    "d = {'simple_key':'hello'}\n",
    "# Grab 'hello'\n",
    "\n",
    "print(d['simple_key']) # the indexing method in dictionaries \n"
   ]
  },
  {
   "cell_type": "code",
   "execution_count": 28,
   "metadata": {},
   "outputs": [
    {
     "name": "stdout",
     "output_type": "stream",
     "text": [
      "hello\n"
     ]
    }
   ],
   "source": [
    "d = {'k1':{'k2':'hello'}}\n",
    "# Grab 'hello'\n",
    "print(d['k1']['k2']) # the indexing method in dictionaries "
   ]
  },
  {
   "cell_type": "code",
   "execution_count": 39,
   "metadata": {},
   "outputs": [
    {
     "data": {
      "text/plain": [
       "['hello']"
      ]
     },
     "execution_count": 39,
     "metadata": {},
     "output_type": "execute_result"
    }
   ],
   "source": [
    "d = {'k1':[{'nest_key':['this is deep',['hello']]}]}\n",
    "\n",
    "#Grab hello\n",
    "print(d['k1']) # Indexing the value of the dictionary\n",
    "\n",
    "print(d['k1'][0]) # Indexing the value of the dictionary which is list and its index is 0\n",
    "\n",
    "print(d['k1'][0]['nest_key']) # Indexing the Valiue of Dictionary which is list\n",
    "\n",
    "print(d['k1'][0]['nest_key'][1]) # Indexing the second element of the list which have index '1'\n",
    "\n",
    "print(d['k1'][0]['nest_key'][1][0]) # indexing the element of the list\n"
   ]
  },
  {
   "cell_type": "code",
   "execution_count": 47,
   "metadata": {},
   "outputs": [
    {
     "name": "stdout",
     "output_type": "stream",
     "text": [
      "[1, 2, {'k2': ['this is tricky', {'tough': [1, 2, ['hello']]}]}]\n",
      "{'k2': ['this is tricky', {'tough': [1, 2, ['hello']]}]}\n",
      "['this is tricky', {'tough': [1, 2, ['hello']]}]\n",
      "{'tough': [1, 2, ['hello']]}\n",
      "[1, 2, ['hello']]\n",
      "hello\n"
     ]
    }
   ],
   "source": [
    "d = {'k1':[1,2,{'k2':['this is tricky',{'tough':[1,2,['hello']]}]}]}\n",
    "#Grab hello\n",
    "\n",
    "print(d['k1']) # Indexing the Value dictionary\n",
    "\n",
    "print(d['k1'][2]) # Indexing the third element with the index 2 which is a dictionary\n",
    "\n",
    "print(d['k1'][2]['k2']) # indexing the value of dictionary which is list\n",
    "\n",
    "print(d['k1'][2]['k2'][1]) # Indexing the Second element with the index 1 which is a dictionary\n",
    "\n",
    "print(d['k1'][2]['k2'][1]['tough']) # Indexing the value of the dictionary\n",
    "\n",
    "print(d['k1'][2]['k2'][1]['tough'][2][0]) # Indexing the element 'hello'"
   ]
  },
  {
   "cell_type": "markdown",
   "metadata": {},
   "source": [
    "** Given the variables:**\n",
    "\n",
    "    planet = \"Earth\"\n",
    "    diameter = 12742\n",
    "\n",
    "** Use .format() to print the following string: **\n",
    "\n",
    "    The diameter of Earth is 12742 kilometers."
   ]
  },
  {
   "cell_type": "code",
   "execution_count": 79,
   "metadata": {},
   "outputs": [
    {
     "name": "stdout",
     "output_type": "stream",
     "text": [
      "The diameter of Earth is 12742 kilometers.\n"
     ]
    }
   ],
   "source": [
    "planet = \"Earth\"\n",
    "diameter = 12742\n",
    "\n",
    "print(\"The diameter of {} is {} kilometers.\".format(planet,diameter)) # formating The string\n"
   ]
  },
  {
   "cell_type": "markdown",
   "metadata": {},
   "source": [
    "** Given this nested list, use indexing to grab the word \"hello\" **"
   ]
  },
  {
   "cell_type": "code",
   "execution_count": 53,
   "metadata": {},
   "outputs": [],
   "source": [
    "lst = [1,2,[3,4],[5,[100,200,['hello']],23,11],1,7]"
   ]
  },
  {
   "cell_type": "code",
   "execution_count": 57,
   "metadata": {},
   "outputs": [
    {
     "name": "stdout",
     "output_type": "stream",
     "text": [
      "['hello']\n"
     ]
    }
   ],
   "source": [
    "print(lst[3][1][2][0]) # Indexing the lists until we reach to the word hello"
   ]
  },
  {
   "cell_type": "markdown",
   "metadata": {},
   "source": [
    "** Given this nested dictionary grab the word \"hello\". **"
   ]
  },
  {
   "cell_type": "code",
   "execution_count": 59,
   "metadata": {},
   "outputs": [],
   "source": [
    "d = {'k1':[1,2,3,{'tricky':['oh','man','inception',{'target':[1,2,3,'hello']}]}]}"
   ]
  },
  {
   "cell_type": "code",
   "execution_count": 65,
   "metadata": {},
   "outputs": [
    {
     "name": "stdout",
     "output_type": "stream",
     "text": [
      "[1, 2, 3, {'tricky': ['oh', 'man', 'inception', {'target': [1, 2, 3, 'hello']}]}]\n",
      "{'tricky': ['oh', 'man', 'inception', {'target': [1, 2, 3, 'hello']}]}\n",
      "['oh', 'man', 'inception', {'target': [1, 2, 3, 'hello']}]\n",
      "{'target': [1, 2, 3, 'hello']}\n",
      "[1, 2, 3, 'hello']\n",
      "hello\n"
     ]
    }
   ],
   "source": [
    "print(d['k1']) # Indexing the Value dictionary\n",
    "\n",
    "print(d['k1'][3])  # Indexing the forth element with the index 3 which is a dictionary\n",
    "\n",
    "print(d['k1'][3]['tricky']) # indexing the value of dictionary which is list\n",
    "\n",
    "print(d['k1'][3]['tricky'][3]) # Indexing the forth element with the index 3 which is a dictionary\n",
    "\n",
    "print(d['k1'][3]['tricky'][3]['target']) # Indexing the value of the dictionary\n",
    "\n",
    "print(d['k1'][3]['tricky'][3]['target'][3]) # Indexing the element 'hello'\n",
    "\n",
    "\n",
    "\n",
    "        \n",
    "        "
   ]
  },
  {
   "cell_type": "markdown",
   "metadata": {},
   "source": [
    "### Write a Python program to swap two variables.\n"
   ]
  },
  {
   "cell_type": "code",
   "execution_count": 66,
   "metadata": {},
   "outputs": [
    {
     "name": "stdout",
     "output_type": "stream",
     "text": [
      "23\n",
      "12\n"
     ]
    }
   ],
   "source": [
    "a=12\n",
    "b=23\n",
    "a,b=b,a\n",
    "\n",
    "print(a)\n",
    "print(b)"
   ]
  },
  {
   "cell_type": "markdown",
   "metadata": {},
   "source": [
    "## Thanks"
   ]
  }
 ],
 "metadata": {
  "anaconda-cloud": {},
  "kernelspec": {
   "display_name": "Python 3 (ipykernel)",
   "language": "python",
   "name": "python3"
  },
  "language_info": {
   "codemirror_mode": {
    "name": "ipython",
    "version": 3
   },
   "file_extension": ".py",
   "mimetype": "text/x-python",
   "name": "python",
   "nbconvert_exporter": "python",
   "pygments_lexer": "ipython3",
   "version": "3.9.12"
  }
 },
 "nbformat": 4,
 "nbformat_minor": 1
}
