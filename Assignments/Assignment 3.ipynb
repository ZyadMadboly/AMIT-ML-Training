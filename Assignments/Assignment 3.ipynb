{
 "cells": [
  {
   "cell_type": "markdown",
   "metadata": {},
   "source": [
    "# Assignment 3"
   ]
  },
  {
   "cell_type": "markdown",
   "metadata": {},
   "source": [
    "### Write a function to count the number 4 in a given list."
   ]
  },
  {
   "cell_type": "code",
   "execution_count": 2,
   "metadata": {},
   "outputs": [],
   "source": [
    "def countnumber(list): # define a function with the parameter list\n",
    "    \n",
    "    print(list.count(4))  # printing the count of the number 4"
   ]
  },
  {
   "cell_type": "code",
   "execution_count": 3,
   "metadata": {},
   "outputs": [
    {
     "name": "stdout",
     "output_type": "stream",
     "text": [
      "3\n"
     ]
    }
   ],
   "source": [
    "list1=[1,2,3,4,5,4,6,4]  # list of numbers\n",
    "\n",
    "countnumber(list1)   # calling the function to count the number 4"
   ]
  },
  {
   "cell_type": "markdown",
   "metadata": {},
   "source": [
    "### write a  function to check whether a number is divisible by another number."
   ]
  },
  {
   "cell_type": "code",
   "execution_count": 8,
   "metadata": {},
   "outputs": [
    {
     "name": "stdout",
     "output_type": "stream",
     "text": [
      "Please Enter First Number 4\n",
      "Please Enter Second Number 2\n"
     ]
    }
   ],
   "source": [
    "number1=int(input(\"Please Enter First Number \")) # Accepting the first input from the user \n",
    "\n",
    "number2=int(input(\"Please Enter Second Number \"))   #Accepting the Second input from the user\n",
    "\n",
    "def checkdiv(num1,num2): # define function checkdiv which takes two numbers as parameters\n",
    "    \n",
    "    if (num1 % num2 == 0):  # determine if the num1 is divisble by num2 or not \n",
    "        \n",
    "        print(f\"The Number {num1} is Divisble by {num2}\") # if the the num1 is divisble by num2 print this \n",
    "        \n",
    "    else :\n",
    "        \n",
    "        print(\"Number isn't Divisible by another Number\")  # if the the num1 isn't divisble by num2 print this"
   ]
  },
  {
   "cell_type": "code",
   "execution_count": 9,
   "metadata": {},
   "outputs": [
    {
     "name": "stdout",
     "output_type": "stream",
     "text": [
      "The Number 4 is Divisble by 2\n"
     ]
    }
   ],
   "source": [
    "checkdiv(number1,number2) # call the function and pass to it the two inputs from the user "
   ]
  },
  {
   "cell_type": "markdown",
   "metadata": {},
   "source": [
    "### write a function to find the maximum and minimum numbers from a sequence of numbers."
   ]
  },
  {
   "cell_type": "code",
   "execution_count": 1,
   "metadata": {},
   "outputs": [],
   "source": [
    "def max_min(choice,list): # define a function that takes two parameters\n",
    "    \n",
    "    for number in list: # loop on the list parameter\n",
    "        if (choice==\"max\"): # if the choice is to get maximum \n",
    "            \n",
    "            if(list[number]==list[number+1]): # if the index of the list equal to the next index of the list \n",
    "                \n",
    "                return list[number+1:]+ max_min(\"max\",list) #  then return from the the next index of the list till end 'list[number+1:]' and re call the function\n",
    "            \n",
    "            elif(list[number]>list[number+1]): # if the index of the list bigger to the next index of the list \n",
    "                \n",
    "                return list[number] # return the index of the list\n",
    "            \n",
    "            else:\n",
    "                \n",
    "                return list[number+1] + max_min(\"max\",list) # if non of above condations are true retrun the next index of the list and re call the function \n",
    "            \n",
    "        elif (choice==\"min\"): # if the choice is to get minimum \n",
    "            \n",
    "             if(list[number]==list[number+1]): # if the index of the list equal to the next index of the list \n",
    "                    \n",
    "                return list[number+1:]+ max_min(\"min\",list)#  then return from the the next index of the list till end 'list[number+1:]' and re call the function\n",
    "            \n",
    "             elif(list[number]>list[number+1]): # if the index of the list bigger to the next index of the list \n",
    "                    \n",
    "                return list[number+1:] + max_min(\"min\",list) # retrun the next index of the list and re call the function \n",
    "            \n",
    "             else:\n",
    "                    \n",
    "                return list[number] # if non of the above condations are true return the the index of the list \n",
    "            \n",
    "       "
   ]
  },
  {
   "cell_type": "code",
   "execution_count": null,
   "metadata": {},
   "outputs": [],
   "source": [
    "list2=[1,1,3,4,5,6]\n",
    "max_min(\"max\",list2)"
   ]
  },
  {
   "cell_type": "markdown",
   "metadata": {},
   "source": [
    "### Write a Python function that takes two lists and returns True if they have at least one common member."
   ]
  },
  {
   "cell_type": "code",
   "execution_count": 1,
   "metadata": {},
   "outputs": [],
   "source": [
    "list1=[1,3,4,5,9,6] # define list1 \n",
    "list2=[3,6,7,2,0,4]  # define list2 \n",
    "\n",
    "def CommonNumber(list1,list2):\n",
    "    \n",
    "    for x in list1:\n",
    "        \n",
    "        for y in list2:\n",
    "            \n",
    "            if x == y:\n",
    "                \n",
    "                return True \n",
    "        \n",
    "            "
   ]
  },
  {
   "cell_type": "code",
   "execution_count": null,
   "metadata": {},
   "outputs": [],
   "source": [
    "CommonNumber(list1,list2)"
   ]
  },
  {
   "cell_type": "markdown",
   "metadata": {},
   "source": [
    "### Write a Python function to calculate the factorial of a number (a non-negative integer). The function accepts the number from the user"
   ]
  },
  {
   "cell_type": "code",
   "execution_count": 32,
   "metadata": {},
   "outputs": [],
   "source": [
    "def factorial(Number): # define the function factorial\n",
    "    \n",
    "    if Number == 1 : # determine if the parameter passed equal to 1 or not \n",
    "        \n",
    "        return 1  # if equal to 1 then return 1\n",
    "     \n",
    "    else :\n",
    "        \n",
    "        return (Number * factorial(Number-1)) # if the parameter passed isn't equal to 1 then return the number and the function factorial(Number-1)\n",
    "    "
   ]
  },
  {
   "cell_type": "code",
   "execution_count": 33,
   "metadata": {},
   "outputs": [
    {
     "name": "stdout",
     "output_type": "stream",
     "text": [
      "Please Enter Number 4\n"
     ]
    },
    {
     "data": {
      "text/plain": [
       "24"
      ]
     },
     "execution_count": 33,
     "metadata": {},
     "output_type": "execute_result"
    }
   ],
   "source": [
    "num5=int(input(\"Please Enter Number \")) # Accepting Input from the user\n",
    "\n",
    "factorial(num5)  # Call the function and pass the input from the user to it "
   ]
  },
  {
   "cell_type": "markdown",
   "metadata": {},
   "source": [
    "### Write a Python function to check whether a number is in a given range.\n",
    "\n",
    "### The range is from 3 to 11\n"
   ]
  },
  {
   "cell_type": "code",
   "execution_count": 35,
   "metadata": {},
   "outputs": [],
   "source": [
    "num0=4 # define num0 and assign the value 4 to it \n",
    "\n",
    "def CheckNumInRange(number):  # define the function\n",
    "    \n",
    "    if number in range (3,11): # determine if the number is in a given range from 3 to 11\n",
    "        \n",
    "        print(\"The Number is in The Range\") # if tbe number in the range print this\n",
    "        \n",
    "    else : \n",
    "        \n",
    "        print(\"The Number isn't in The Range\") # if the first codation isn't true print this"
   ]
  },
  {
   "cell_type": "code",
   "execution_count": 36,
   "metadata": {},
   "outputs": [
    {
     "name": "stdout",
     "output_type": "stream",
     "text": [
      "The Number is in The Range\n"
     ]
    }
   ],
   "source": [
    "CheckNumInRange(num0)"
   ]
  },
  {
   "cell_type": "markdown",
   "metadata": {},
   "source": [
    "### Write a  program to create the multiplication table (from 1 to 10) of a number."
   ]
  },
  {
   "cell_type": "code",
   "execution_count": 17,
   "metadata": {},
   "outputs": [
    {
     "name": "stdout",
     "output_type": "stream",
     "text": [
      "Please Enter A Number 6\n"
     ]
    }
   ],
   "source": [
    "number=int(input(\"Please Enter A Number \")) # Accepting an input from the user "
   ]
  },
  {
   "cell_type": "code",
   "execution_count": 19,
   "metadata": {},
   "outputs": [
    {
     "name": "stdout",
     "output_type": "stream",
     "text": [
      "The Multiplication of 6 and 1 is 6\n",
      "The Multiplication of 6 and 2 is 12\n",
      "The Multiplication of 6 and 3 is 18\n",
      "The Multiplication of 6 and 4 is 24\n",
      "The Multiplication of 6 and 5 is 30\n",
      "The Multiplication of 6 and 6 is 36\n",
      "The Multiplication of 6 and 7 is 42\n",
      "The Multiplication of 6 and 8 is 48\n",
      "The Multiplication of 6 and 9 is 54\n",
      "The Multiplication of 6 and 10 is 60\n"
     ]
    }
   ],
   "source": [
    "for i in range(1,11): # using for loop to iterate on range from 1 to 10 \n",
    "    \n",
    "    print (f\"The Multiplication of {number} and {i} is {number * i}\") #  # print the multiplication table of the input number "
   ]
  },
  {
   "cell_type": "markdown",
   "metadata": {},
   "source": [
    "#### LESSER OF TWO EVENS: Write a function that returns the lesser of two given numbers *if* both numbers are even, but returns the greater if one or both numbers are odd\n",
    "    lesser_of_two_evens(2,4) --> 2\n",
    "    lesser_of_two_evens(2,5) --> 5"
   ]
  },
  {
   "cell_type": "code",
   "execution_count": 20,
   "metadata": {},
   "outputs": [],
   "source": [
    "def lesser_of_two_evens(num1,num2): # define the function \"lesser_of_two_evens\" which takes 2 numbers as parameters\n",
    "     \n",
    "    if num1 % 2 == 0 and num2 % 2 == 0 : # if both numbers are divisble to number 2 it means that both is even\n",
    "        \n",
    "        if num1 < num2: # determine if num2 bigger than num1 \n",
    "            \n",
    "            print(f\"lesser_of_two_evens({num1},{num2}) --> {num1}\") # print the less number which is num1\n",
    "            \n",
    "        elif num1 > num2: # determine if num2 smaller than num1 \n",
    "            \n",
    "            print(f\"lesser_of_two_evens({num1},{num2}) --> {num2}\") # print the less number which is num2\n",
    "            \n",
    "    elif num1 % 2 != 0 and num2 % 2 != 0 : # if both numbers aren't divisble to number 2 it means that both is even\n",
    "        \n",
    "        if num1 < num2: # determine if num2 bigger than num1 \n",
    "            \n",
    "            print(f\"lesser_of_two_evens({num1},{num2}) --> {num2}\") # print the bigger number which is num2\n",
    "            \n",
    "        elif num1 > num2:  # determine if num1 bigger than num2 \n",
    "            \n",
    "            print(f\"lesser_of_two_evens({num1},{num2}) --> {num1}\") # print the bigger number which is num1\n",
    "            \n",
    "    elif num1 % 2 != 0 and num2 % 2 or  num1 % 2 == 0 and num2 % 2 != 0  == 0 : # determine if num1 isn't divisble to number 2 (odd) and num2 is divisable to 2 (even) or num2 isn't divisble to number 2 (odd) and num1 is divisable to 2 (even) \n",
    "        \n",
    "        if num1 < num2:  # determine if num2 bigger than num1 \n",
    "            \n",
    "            print(f\"lesser_of_two_evens({num1},{num2}) --> {num2}\") # print the bigger num\n",
    "            \n",
    "        elif num1 > num2: # determine if num1 bigger than num2\n",
    "            \n",
    "            print(f\"lesser_of_two_evens({num1},{num2}) --> {num1}\") # print the bigger num\n",
    "            "
   ]
  },
  {
   "cell_type": "code",
   "execution_count": 21,
   "metadata": {},
   "outputs": [
    {
     "name": "stdout",
     "output_type": "stream",
     "text": [
      "lesser_of_two_evens(2,4) --> 2\n"
     ]
    }
   ],
   "source": [
    "lesser_of_two_evens(2,4)"
   ]
  },
  {
   "cell_type": "code",
   "execution_count": 22,
   "metadata": {},
   "outputs": [
    {
     "name": "stdout",
     "output_type": "stream",
     "text": [
      "lesser_of_two_evens(2,5) --> 5\n"
     ]
    }
   ],
   "source": [
    "lesser_of_two_evens(2,5)"
   ]
  },
  {
   "cell_type": "code",
   "execution_count": 4,
   "metadata": {},
   "outputs": [
    {
     "name": "stdout",
     "output_type": "stream",
     "text": [
      "lesser_of_two_evens(7,9) --> 9\n"
     ]
    }
   ],
   "source": [
    "lesser_of_two_evens(7,9)"
   ]
  }
 ],
 "metadata": {
  "kernelspec": {
   "display_name": "Python 3 (ipykernel)",
   "language": "python",
   "name": "python3"
  },
  "language_info": {
   "codemirror_mode": {
    "name": "ipython",
    "version": 3
   },
   "file_extension": ".py",
   "mimetype": "text/x-python",
   "name": "python",
   "nbconvert_exporter": "python",
   "pygments_lexer": "ipython3",
   "version": "3.9.12"
  }
 },
 "nbformat": 4,
 "nbformat_minor": 2
}
