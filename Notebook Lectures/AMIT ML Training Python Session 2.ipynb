{
 "cells": [
  {
   "cell_type": "code",
   "execution_count": 1,
   "id": "0ccf9b8b",
   "metadata": {
    "scrolled": false
   },
   "outputs": [
    {
     "name": "stdout",
     "output_type": "stream",
     "text": [
      "My name is zeiad and my age is 21\n"
     ]
    }
   ],
   "source": [
    "name =\"zeiad\"\n",
    "age = 21\n",
    "print (f\"My name is {name} and my age is {age}\")"
   ]
  },
  {
   "cell_type": "code",
   "execution_count": 2,
   "id": "a0ccd1e0",
   "metadata": {},
   "outputs": [
    {
     "name": "stdout",
     "output_type": "stream",
     "text": [
      "My name is zeiad and my age is 21\n"
     ]
    }
   ],
   "source": [
    "print (\"My name is {} and my age is {}\".format(name,age))"
   ]
  },
  {
   "cell_type": "code",
   "execution_count": 3,
   "id": "fc95670b",
   "metadata": {},
   "outputs": [
    {
     "name": "stdout",
     "output_type": "stream",
     "text": [
      "My name is \"ِAhmed\"\n"
     ]
    }
   ],
   "source": [
    "print(\"My name is \\\"ِAhmed\\\"\")"
   ]
  },
  {
   "cell_type": "code",
   "execution_count": 4,
   "id": "cd819b8c",
   "metadata": {},
   "outputs": [
    {
     "name": "stdout",
     "output_type": "stream",
     "text": [
      "My name is \\Ahmed\n"
     ]
    }
   ],
   "source": [
    "print(\"My name is \\\\Ahmed\")"
   ]
  },
  {
   "cell_type": "code",
   "execution_count": 6,
   "id": "b40d8367",
   "metadata": {},
   "outputs": [
    {
     "name": "stdout",
     "output_type": "stream",
     "text": [
      "My name is \n",
      "Ahmed\n"
     ]
    }
   ],
   "source": [
    "print(\"My name is \\nAhmed\")"
   ]
  },
  {
   "cell_type": "code",
   "execution_count": 7,
   "id": "176c63b0",
   "metadata": {},
   "outputs": [
    {
     "name": "stdout",
     "output_type": "stream",
     "text": [
      "My name is \bAhmed\n"
     ]
    }
   ],
   "source": [
    "print(\"My name is \\bAhmed\")"
   ]
  },
  {
   "cell_type": "code",
   "execution_count": 8,
   "id": "04dbca7c",
   "metadata": {},
   "outputs": [
    {
     "name": "stdout",
     "output_type": "stream",
     "text": [
      "My name is \tAhmed\n"
     ]
    }
   ],
   "source": [
    "print(\"My name is \\tAhmed\")"
   ]
  },
  {
   "cell_type": "code",
   "execution_count": 9,
   "id": "0826c333",
   "metadata": {},
   "outputs": [
    {
     "name": "stdout",
     "output_type": "stream",
     "text": [
      "--------------------------------------------------\n"
     ]
    }
   ],
   "source": [
    "print(\"-\"*50)"
   ]
  },
  {
   "cell_type": "markdown",
   "id": "0607e503",
   "metadata": {},
   "source": [
    "# Operators "
   ]
  },
  {
   "cell_type": "code",
   "execution_count": 10,
   "id": "cdde5023",
   "metadata": {},
   "outputs": [
    {
     "data": {
      "text/plain": [
       "0.42857142857142855"
      ]
     },
     "execution_count": 10,
     "metadata": {},
     "output_type": "execute_result"
    }
   ],
   "source": [
    "3/7"
   ]
  },
  {
   "cell_type": "code",
   "execution_count": 11,
   "id": "48a197a8",
   "metadata": {},
   "outputs": [
    {
     "data": {
      "text/plain": [
       "0"
      ]
     },
     "execution_count": 11,
     "metadata": {},
     "output_type": "execute_result"
    }
   ],
   "source": [
    "3//7 #بيطلعلك اقرب رقم صحيح"
   ]
  },
  {
   "cell_type": "code",
   "execution_count": 12,
   "id": "00061dd1",
   "metadata": {},
   "outputs": [
    {
     "data": {
      "text/plain": [
       "1"
      ]
     },
     "execution_count": 12,
     "metadata": {},
     "output_type": "execute_result"
    }
   ],
   "source": [
    "7%3 #باقي القسمه"
   ]
  },
  {
   "cell_type": "code",
   "execution_count": 13,
   "id": "67cbcb2c",
   "metadata": {},
   "outputs": [
    {
     "data": {
      "text/plain": [
       "4"
      ]
     },
     "execution_count": 13,
     "metadata": {},
     "output_type": "execute_result"
    }
   ],
   "source": [
    "2**2"
   ]
  },
  {
   "cell_type": "code",
   "execution_count": 14,
   "id": "c0c9f7de",
   "metadata": {},
   "outputs": [
    {
     "data": {
      "text/plain": [
       "0"
      ]
     },
     "execution_count": 14,
     "metadata": {},
     "output_type": "execute_result"
    }
   ],
   "source": [
    "2^2"
   ]
  },
  {
   "cell_type": "code",
   "execution_count": 15,
   "id": "11d6c399",
   "metadata": {},
   "outputs": [
    {
     "data": {
      "text/plain": [
       "True"
      ]
     },
     "execution_count": 15,
     "metadata": {},
     "output_type": "execute_result"
    }
   ],
   "source": [
    "5>3"
   ]
  },
  {
   "cell_type": "code",
   "execution_count": 16,
   "id": "24cf1e2e",
   "metadata": {},
   "outputs": [
    {
     "data": {
      "text/plain": [
       "True"
      ]
     },
     "execution_count": 16,
     "metadata": {},
     "output_type": "execute_result"
    }
   ],
   "source": [
    "4<6"
   ]
  },
  {
   "cell_type": "code",
   "execution_count": 17,
   "id": "efc804d7",
   "metadata": {},
   "outputs": [
    {
     "data": {
      "text/plain": [
       "3"
      ]
     },
     "execution_count": 17,
     "metadata": {},
     "output_type": "execute_result"
    }
   ],
   "source": [
    "3"
   ]
  },
  {
   "cell_type": "code",
   "execution_count": 18,
   "id": "723aa1e4",
   "metadata": {},
   "outputs": [
    {
     "data": {
      "text/plain": [
       "False"
      ]
     },
     "execution_count": 18,
     "metadata": {},
     "output_type": "execute_result"
    }
   ],
   "source": [
    "3<1"
   ]
  },
  {
   "cell_type": "code",
   "execution_count": 19,
   "id": "8cf057b5",
   "metadata": {},
   "outputs": [
    {
     "data": {
      "text/plain": [
       "True"
      ]
     },
     "execution_count": 19,
     "metadata": {},
     "output_type": "execute_result"
    }
   ],
   "source": [
    "4<=6"
   ]
  },
  {
   "cell_type": "code",
   "execution_count": 20,
   "id": "2491c164",
   "metadata": {},
   "outputs": [
    {
     "data": {
      "text/plain": [
       "True"
      ]
     },
     "execution_count": 20,
     "metadata": {},
     "output_type": "execute_result"
    }
   ],
   "source": [
    "3!=6"
   ]
  },
  {
   "cell_type": "code",
   "execution_count": 21,
   "id": "ff1616ec",
   "metadata": {},
   "outputs": [],
   "source": [
    "temp_sensor=29"
   ]
  },
  {
   "cell_type": "code",
   "execution_count": 25,
   "id": "fce8b8a1",
   "metadata": {},
   "outputs": [
    {
     "name": "stdout",
     "output_type": "stream",
     "text": [
      "It's Cool\n"
     ]
    }
   ],
   "source": [
    "if temp_sensor > 23 :\n",
    "    print (\"It's Hot\")\n",
    "else : \n",
    "    print (\"It's Cool\")"
   ]
  },
  {
   "cell_type": "code",
   "execution_count": 26,
   "id": "c94e75d8",
   "metadata": {},
   "outputs": [],
   "source": [
    "a =2 \n",
    "b=3"
   ]
  },
  {
   "cell_type": "code",
   "execution_count": 27,
   "id": "01ae050a",
   "metadata": {},
   "outputs": [
    {
     "data": {
      "text/plain": [
       "False"
      ]
     },
     "execution_count": 27,
     "metadata": {},
     "output_type": "execute_result"
    }
   ],
   "source": [
    "a is b "
   ]
  },
  {
   "cell_type": "markdown",
   "id": "62740b8a",
   "metadata": {},
   "source": [
    "## Finding The Gravtational Force"
   ]
  },
  {
   "cell_type": "code",
   "execution_count": 32,
   "id": "88d34608",
   "metadata": {},
   "outputs": [],
   "source": [
    "# GMm/r^2\n",
    "\n",
    "G=6.67*10**-11 # Gravity \n",
    "\n",
    "M=6.0*10**24 # Mass of Earth \n",
    "\n",
    "m=7.34*10**22 # Mass Of The Moon \n",
    "\n",
    "r=3.84*10**8 # Radius"
   ]
  },
  {
   "cell_type": "code",
   "execution_count": 33,
   "id": "888d048d",
   "metadata": {},
   "outputs": [],
   "source": [
    "F = (G*M*m)/r**2 # Gravational Force "
   ]
  },
  {
   "cell_type": "code",
   "execution_count": 34,
   "id": "d7035063",
   "metadata": {},
   "outputs": [
    {
     "name": "stdout",
     "output_type": "stream",
     "text": [
      "1.9920979817708333e+20\n"
     ]
    }
   ],
   "source": [
    "print(F)"
   ]
  },
  {
   "cell_type": "markdown",
   "id": "a1fc7d0e",
   "metadata": {},
   "source": [
    "# Lists"
   ]
  },
  {
   "cell_type": "code",
   "execution_count": 36,
   "id": "c4c27eea",
   "metadata": {},
   "outputs": [],
   "source": [
    "x=[1,3,54,3,123]"
   ]
  },
  {
   "cell_type": "code",
   "execution_count": 37,
   "id": "60c9bf85",
   "metadata": {},
   "outputs": [
    {
     "data": {
      "text/plain": [
       "list"
      ]
     },
     "execution_count": 37,
     "metadata": {},
     "output_type": "execute_result"
    }
   ],
   "source": [
    "type(x)"
   ]
  },
  {
   "cell_type": "code",
   "execution_count": 40,
   "id": "06a52dbc",
   "metadata": {},
   "outputs": [],
   "source": [
    "x.append(\"Zeiad\")"
   ]
  },
  {
   "cell_type": "code",
   "execution_count": 41,
   "id": "a3106cf6",
   "metadata": {},
   "outputs": [
    {
     "name": "stdout",
     "output_type": "stream",
     "text": [
      "[1, 3, 54, 3, 123, 'Zeiad']\n"
     ]
    }
   ],
   "source": [
    "print(x)"
   ]
  },
  {
   "cell_type": "code",
   "execution_count": 42,
   "id": "5d12caf3",
   "metadata": {},
   "outputs": [
    {
     "data": {
      "text/plain": [
       "'Zeiad'"
      ]
     },
     "execution_count": 42,
     "metadata": {},
     "output_type": "execute_result"
    }
   ],
   "source": [
    "x[-1]"
   ]
  },
  {
   "cell_type": "code",
   "execution_count": 43,
   "id": "d97c972f",
   "metadata": {},
   "outputs": [
    {
     "data": {
      "text/plain": [
       "'i'"
      ]
     },
     "execution_count": 43,
     "metadata": {},
     "output_type": "execute_result"
    }
   ],
   "source": [
    "x[-1][2]"
   ]
  },
  {
   "cell_type": "code",
   "execution_count": 44,
   "id": "e430ceda",
   "metadata": {},
   "outputs": [],
   "source": [
    "x.append([1,235,231])"
   ]
  },
  {
   "cell_type": "code",
   "execution_count": 45,
   "id": "4cae4db9",
   "metadata": {},
   "outputs": [
    {
     "name": "stdout",
     "output_type": "stream",
     "text": [
      "[1, 3, 54, 3, 123, 'Zeiad', [1, 235, 231]]\n"
     ]
    }
   ],
   "source": [
    "print(x)"
   ]
  },
  {
   "cell_type": "code",
   "execution_count": 46,
   "id": "8208ca5a",
   "metadata": {},
   "outputs": [
    {
     "data": {
      "text/plain": [
       "235"
      ]
     },
     "execution_count": 46,
     "metadata": {},
     "output_type": "execute_result"
    }
   ],
   "source": [
    "x[-1][1]"
   ]
  },
  {
   "cell_type": "code",
   "execution_count": 47,
   "id": "b6d08767",
   "metadata": {},
   "outputs": [
    {
     "data": {
      "text/plain": [
       "3"
      ]
     },
     "execution_count": 47,
     "metadata": {},
     "output_type": "execute_result"
    }
   ],
   "source": [
    "len(x[-1])"
   ]
  },
  {
   "cell_type": "code",
   "execution_count": 49,
   "id": "72732a74",
   "metadata": {},
   "outputs": [],
   "source": [
    "# Methods \n",
    "\n",
    "x.append(3)"
   ]
  },
  {
   "cell_type": "code",
   "execution_count": 50,
   "id": "917263ce",
   "metadata": {},
   "outputs": [
    {
     "data": {
      "text/plain": [
       "[1, 3, 54, 3, 123, 'Zeiad', [1, 235, 231], 3]"
      ]
     },
     "execution_count": 50,
     "metadata": {},
     "output_type": "execute_result"
    }
   ],
   "source": [
    "x"
   ]
  },
  {
   "cell_type": "code",
   "execution_count": 51,
   "id": "f01a0491",
   "metadata": {},
   "outputs": [],
   "source": [
    "x.insert(3,\"hamada\")"
   ]
  },
  {
   "cell_type": "code",
   "execution_count": 52,
   "id": "34a29281",
   "metadata": {},
   "outputs": [
    {
     "data": {
      "text/plain": [
       "[1, 3, 54, 'hamada', 3, 123, 'Zeiad', [1, 235, 231], 3]"
      ]
     },
     "execution_count": 52,
     "metadata": {},
     "output_type": "execute_result"
    }
   ],
   "source": [
    "x"
   ]
  },
  {
   "cell_type": "code",
   "execution_count": 53,
   "id": "67bd7188",
   "metadata": {},
   "outputs": [],
   "source": [
    "x.remove(3)"
   ]
  },
  {
   "cell_type": "code",
   "execution_count": 54,
   "id": "d4966f24",
   "metadata": {},
   "outputs": [
    {
     "data": {
      "text/plain": [
       "[1, 54, 'hamada', 3, 123, 'Zeiad', [1, 235, 231], 3]"
      ]
     },
     "execution_count": 54,
     "metadata": {},
     "output_type": "execute_result"
    }
   ],
   "source": [
    "x"
   ]
  },
  {
   "cell_type": "code",
   "execution_count": 61,
   "id": "f0299051",
   "metadata": {},
   "outputs": [
    {
     "ename": "IndexError",
     "evalue": "pop from empty list",
     "output_type": "error",
     "traceback": [
      "\u001b[1;31m---------------------------------------------------------------------------\u001b[0m",
      "\u001b[1;31mIndexError\u001b[0m                                Traceback (most recent call last)",
      "Input \u001b[1;32mIn [61]\u001b[0m, in \u001b[0;36m<cell line: 1>\u001b[1;34m()\u001b[0m\n\u001b[1;32m----> 1\u001b[0m \u001b[43mx\u001b[49m\u001b[38;5;241;43m.\u001b[39;49m\u001b[43mpop\u001b[49m\u001b[43m(\u001b[49m\u001b[43m)\u001b[49m\n",
      "\u001b[1;31mIndexError\u001b[0m: pop from empty list"
     ]
    }
   ],
   "source": [
    "x.pop()"
   ]
  },
  {
   "cell_type": "code",
   "execution_count": 56,
   "id": "67fd7478",
   "metadata": {},
   "outputs": [],
   "source": [
    "v=x.copy()"
   ]
  },
  {
   "cell_type": "code",
   "execution_count": 57,
   "id": "da4e0c11",
   "metadata": {},
   "outputs": [
    {
     "data": {
      "text/plain": [
       "[1, 54, 'hamada', 3, 123, 'Zeiad', [1, 235, 231]]"
      ]
     },
     "execution_count": 57,
     "metadata": {},
     "output_type": "execute_result"
    }
   ],
   "source": [
    "v"
   ]
  },
  {
   "cell_type": "code",
   "execution_count": 58,
   "id": "d6b06684",
   "metadata": {},
   "outputs": [],
   "source": [
    "x.clear()"
   ]
  },
  {
   "cell_type": "code",
   "execution_count": 59,
   "id": "46027035",
   "metadata": {},
   "outputs": [
    {
     "data": {
      "text/plain": [
       "[]"
      ]
     },
     "execution_count": 59,
     "metadata": {},
     "output_type": "execute_result"
    }
   ],
   "source": [
    "x"
   ]
  },
  {
   "cell_type": "markdown",
   "id": "1ec7ce94",
   "metadata": {},
   "source": [
    "# Tuples "
   ]
  },
  {
   "cell_type": "code",
   "execution_count": 62,
   "id": "fb683f75",
   "metadata": {},
   "outputs": [
    {
     "data": {
      "text/plain": [
       "3"
      ]
     },
     "execution_count": 62,
     "metadata": {},
     "output_type": "execute_result"
    }
   ],
   "source": [
    "i=(2,123,12)\n",
    "len(i)"
   ]
  },
  {
   "cell_type": "code",
   "execution_count": 63,
   "id": "50a34cff",
   "metadata": {},
   "outputs": [
    {
     "data": {
      "text/plain": [
       "tuple"
      ]
     },
     "execution_count": 63,
     "metadata": {},
     "output_type": "execute_result"
    }
   ],
   "source": [
    "type(i)"
   ]
  },
  {
   "cell_type": "code",
   "execution_count": 64,
   "id": "a7f32bf5",
   "metadata": {},
   "outputs": [],
   "source": [
    "j=(\"MEMO\",12,1,\"MOHAMED\")"
   ]
  },
  {
   "cell_type": "code",
   "execution_count": 65,
   "id": "d82420dd",
   "metadata": {},
   "outputs": [],
   "source": [
    "j=list(j)"
   ]
  },
  {
   "cell_type": "code",
   "execution_count": 66,
   "id": "69341d5e",
   "metadata": {},
   "outputs": [
    {
     "data": {
      "text/plain": [
       "['MEMO', 12, 1, 'MOHAMED']"
      ]
     },
     "execution_count": 66,
     "metadata": {},
     "output_type": "execute_result"
    }
   ],
   "source": [
    "j"
   ]
  },
  {
   "cell_type": "code",
   "execution_count": 67,
   "id": "f56d0326",
   "metadata": {},
   "outputs": [],
   "source": [
    "j.append(\"MEZO\")"
   ]
  },
  {
   "cell_type": "code",
   "execution_count": 68,
   "id": "d28654db",
   "metadata": {},
   "outputs": [
    {
     "data": {
      "text/plain": [
       "['MEMO', 12, 1, 'MOHAMED', 'MEZO']"
      ]
     },
     "execution_count": 68,
     "metadata": {},
     "output_type": "execute_result"
    }
   ],
   "source": [
    "j"
   ]
  },
  {
   "cell_type": "code",
   "execution_count": 69,
   "id": "f4b07adc",
   "metadata": {},
   "outputs": [],
   "source": [
    "j=tuple(j)"
   ]
  },
  {
   "cell_type": "code",
   "execution_count": 70,
   "id": "d97369e9",
   "metadata": {},
   "outputs": [
    {
     "data": {
      "text/plain": [
       "('MEMO', 12, 1, 'MOHAMED', 'MEZO')"
      ]
     },
     "execution_count": 70,
     "metadata": {},
     "output_type": "execute_result"
    }
   ],
   "source": [
    "j"
   ]
  },
  {
   "cell_type": "code",
   "execution_count": 71,
   "id": "7b572ebe",
   "metadata": {},
   "outputs": [
    {
     "data": {
      "text/plain": [
       "1"
      ]
     },
     "execution_count": 71,
     "metadata": {},
     "output_type": "execute_result"
    }
   ],
   "source": [
    "j.count(12)"
   ]
  },
  {
   "cell_type": "code",
   "execution_count": 75,
   "id": "c312d91a",
   "metadata": {},
   "outputs": [
    {
     "data": {
      "text/plain": [
       "1"
      ]
     },
     "execution_count": 75,
     "metadata": {},
     "output_type": "execute_result"
    }
   ],
   "source": [
    "j.index(12)"
   ]
  },
  {
   "cell_type": "code",
   "execution_count": 73,
   "id": "996ddbc5",
   "metadata": {},
   "outputs": [
    {
     "data": {
      "text/plain": [
       "2"
      ]
     },
     "execution_count": 73,
     "metadata": {},
     "output_type": "execute_result"
    }
   ],
   "source": [
    "j.index(1)"
   ]
  },
  {
   "cell_type": "markdown",
   "id": "402b8e10",
   "metadata": {},
   "source": [
    "# Sets"
   ]
  },
  {
   "cell_type": "code",
   "execution_count": 76,
   "id": "0636b808",
   "metadata": {},
   "outputs": [
    {
     "ename": "AttributeError",
     "evalue": "'tuple' object has no attribute 'set'",
     "output_type": "error",
     "traceback": [
      "\u001b[1;31m---------------------------------------------------------------------------\u001b[0m",
      "\u001b[1;31mAttributeError\u001b[0m                            Traceback (most recent call last)",
      "Input \u001b[1;32mIn [76]\u001b[0m, in \u001b[0;36m<cell line: 1>\u001b[1;34m()\u001b[0m\n\u001b[1;32m----> 1\u001b[0m j\u001b[38;5;241m=\u001b[39m\u001b[43mj\u001b[49m\u001b[38;5;241;43m.\u001b[39;49m\u001b[43mset\u001b[49m()\n",
      "\u001b[1;31mAttributeError\u001b[0m: 'tuple' object has no attribute 'set'"
     ]
    }
   ],
   "source": [
    "j=j.set()"
   ]
  },
  {
   "cell_type": "code",
   "execution_count": 77,
   "id": "0d42299d",
   "metadata": {},
   "outputs": [],
   "source": [
    "y=set()"
   ]
  },
  {
   "cell_type": "code",
   "execution_count": 78,
   "id": "9de0b916",
   "metadata": {},
   "outputs": [],
   "source": [
    "y.add(2)"
   ]
  },
  {
   "cell_type": "code",
   "execution_count": 79,
   "id": "f3b7476a",
   "metadata": {},
   "outputs": [
    {
     "data": {
      "text/plain": [
       "{2}"
      ]
     },
     "execution_count": 79,
     "metadata": {},
     "output_type": "execute_result"
    }
   ],
   "source": [
    "y"
   ]
  },
  {
   "cell_type": "code",
   "execution_count": 80,
   "id": "1aab255a",
   "metadata": {},
   "outputs": [],
   "source": [
    "y.add(7)"
   ]
  },
  {
   "cell_type": "code",
   "execution_count": 81,
   "id": "c747b115",
   "metadata": {},
   "outputs": [],
   "source": [
    "y=list(y)"
   ]
  },
  {
   "cell_type": "code",
   "execution_count": 82,
   "id": "8a4eeaf2",
   "metadata": {},
   "outputs": [
    {
     "data": {
      "text/plain": [
       "[2, 7, 2, 2, 2, 2]"
      ]
     },
     "execution_count": 82,
     "metadata": {},
     "output_type": "execute_result"
    }
   ],
   "source": [
    "y.append(2)\n",
    "y.append(2)\n",
    "y.append(2)\n",
    "y.append(2)\n",
    "y"
   ]
  },
  {
   "cell_type": "code",
   "execution_count": 83,
   "id": "760212fc",
   "metadata": {},
   "outputs": [],
   "source": [
    "n=set(y)"
   ]
  },
  {
   "cell_type": "code",
   "execution_count": 84,
   "id": "40e744c0",
   "metadata": {},
   "outputs": [
    {
     "data": {
      "text/plain": [
       "{2, 7}"
      ]
     },
     "execution_count": 84,
     "metadata": {},
     "output_type": "execute_result"
    }
   ],
   "source": [
    "n"
   ]
  },
  {
   "cell_type": "code",
   "execution_count": 85,
   "id": "0f69f275",
   "metadata": {},
   "outputs": [],
   "source": [
    "n.add(3)"
   ]
  },
  {
   "cell_type": "code",
   "execution_count": 86,
   "id": "39a9195e",
   "metadata": {},
   "outputs": [
    {
     "data": {
      "text/plain": [
       "{2, 3, 7}"
      ]
     },
     "execution_count": 86,
     "metadata": {},
     "output_type": "execute_result"
    }
   ],
   "source": [
    "n"
   ]
  },
  {
   "cell_type": "code",
   "execution_count": 87,
   "id": "44dd483f",
   "metadata": {},
   "outputs": [],
   "source": [
    "n.add(\"MOhamed\")"
   ]
  },
  {
   "cell_type": "code",
   "execution_count": 88,
   "id": "1ecd4253",
   "metadata": {},
   "outputs": [
    {
     "data": {
      "text/plain": [
       "{2, 3, 7, 'MOhamed'}"
      ]
     },
     "execution_count": 88,
     "metadata": {},
     "output_type": "execute_result"
    }
   ],
   "source": [
    "n"
   ]
  },
  {
   "cell_type": "markdown",
   "id": "2998d483",
   "metadata": {},
   "source": [
    "# Dictionaries"
   ]
  },
  {
   "cell_type": "code",
   "execution_count": 94,
   "id": "0a7d9675",
   "metadata": {},
   "outputs": [],
   "source": [
    "b={\"Name\":(\"Zeiad\",\"Mohamed\",\"Sayed\"),\n",
    "   \"Age\":[21,51,17]\n",
    "  }\n"
   ]
  },
  {
   "cell_type": "code",
   "execution_count": 90,
   "id": "95dae2e8",
   "metadata": {},
   "outputs": [
    {
     "data": {
      "text/plain": [
       "dict"
      ]
     },
     "execution_count": 90,
     "metadata": {},
     "output_type": "execute_result"
    }
   ],
   "source": [
    "type(b)"
   ]
  },
  {
   "cell_type": "code",
   "execution_count": 95,
   "id": "838e65b3",
   "metadata": {},
   "outputs": [
    {
     "data": {
      "text/plain": [
       "('Zeiad', 'Mohamed', 'Sayed')"
      ]
     },
     "execution_count": 95,
     "metadata": {},
     "output_type": "execute_result"
    }
   ],
   "source": [
    "b[\"Name\"]"
   ]
  },
  {
   "cell_type": "code",
   "execution_count": 96,
   "id": "fd201bbf",
   "metadata": {},
   "outputs": [
    {
     "data": {
      "text/plain": [
       "[21, 51, 17]"
      ]
     },
     "execution_count": 96,
     "metadata": {},
     "output_type": "execute_result"
    }
   ],
   "source": [
    "b[\"Age\"]"
   ]
  },
  {
   "cell_type": "code",
   "execution_count": 100,
   "id": "46cb4751",
   "metadata": {},
   "outputs": [
    {
     "data": {
      "text/plain": [
       "'MOHAMED'"
      ]
     },
     "execution_count": 100,
     "metadata": {},
     "output_type": "execute_result"
    }
   ],
   "source": [
    "b[\"Name\"][1].upper()"
   ]
  },
  {
   "cell_type": "code",
   "execution_count": 101,
   "id": "628e1acd",
   "metadata": {},
   "outputs": [],
   "source": [
    "b[\"Age\"].append(221)"
   ]
  },
  {
   "cell_type": "code",
   "execution_count": 102,
   "id": "bbebdb28",
   "metadata": {},
   "outputs": [
    {
     "data": {
      "text/plain": [
       "[21, 51, 17, 221]"
      ]
     },
     "execution_count": 102,
     "metadata": {},
     "output_type": "execute_result"
    }
   ],
   "source": [
    "b[\"Age\"]"
   ]
  },
  {
   "cell_type": "code",
   "execution_count": 103,
   "id": "50df6305",
   "metadata": {},
   "outputs": [
    {
     "data": {
      "text/plain": [
       "dict_keys(['Name', 'Age'])"
      ]
     },
     "execution_count": 103,
     "metadata": {},
     "output_type": "execute_result"
    }
   ],
   "source": [
    "b.keys()"
   ]
  },
  {
   "cell_type": "code",
   "execution_count": 104,
   "id": "cbeb6db8",
   "metadata": {},
   "outputs": [
    {
     "data": {
      "text/plain": [
       "dict_values([('Zeiad', 'Mohamed', 'Sayed'), [21, 51, 17, 221]])"
      ]
     },
     "execution_count": 104,
     "metadata": {},
     "output_type": "execute_result"
    }
   ],
   "source": [
    "b.values()"
   ]
  },
  {
   "cell_type": "code",
   "execution_count": 106,
   "id": "893f6e7f",
   "metadata": {},
   "outputs": [
    {
     "data": {
      "text/plain": [
       "dict_items([('Name', ('Zeiad', 'Mohamed', 'Sayed')), ('Age', [21, 51, 17, 221])])"
      ]
     },
     "execution_count": 106,
     "metadata": {},
     "output_type": "execute_result"
    }
   ],
   "source": [
    "b.items() #ليه ال Output List of Tuples "
   ]
  },
  {
   "cell_type": "markdown",
   "id": "cd1c9038",
   "metadata": {},
   "source": [
    "# Quiz Problem Solving"
   ]
  },
  {
   "cell_type": "code",
   "execution_count": 107,
   "id": "db1a60dc",
   "metadata": {},
   "outputs": [],
   "source": [
    "d={\"k1\":[1,2,{\"k2\":[\"this is tricky\",{\"tough\":[1,2,[\"hello\"]]}]}]}"
   ]
  },
  {
   "cell_type": "code",
   "execution_count": 115,
   "id": "3c404bd6",
   "metadata": {},
   "outputs": [
    {
     "data": {
      "text/plain": [
       "[1, 2, {'k2': ['this is tricky', {'tough': [1, 2, ['hello']]}]}]"
      ]
     },
     "execution_count": 115,
     "metadata": {},
     "output_type": "execute_result"
    }
   ],
   "source": [
    "d[\"k1\"]"
   ]
  },
  {
   "cell_type": "code",
   "execution_count": 117,
   "id": "79838ace",
   "metadata": {},
   "outputs": [
    {
     "data": {
      "text/plain": [
       "{'k2': ['this is tricky', {'tough': [1, 2, ['hello']]}]}"
      ]
     },
     "execution_count": 117,
     "metadata": {},
     "output_type": "execute_result"
    }
   ],
   "source": [
    "d[\"k1\"][2]"
   ]
  },
  {
   "cell_type": "code",
   "execution_count": 118,
   "id": "892faad0",
   "metadata": {},
   "outputs": [
    {
     "data": {
      "text/plain": [
       "['this is tricky', {'tough': [1, 2, ['hello']]}]"
      ]
     },
     "execution_count": 118,
     "metadata": {},
     "output_type": "execute_result"
    }
   ],
   "source": [
    "d[\"k1\"][2][\"k2\"]"
   ]
  },
  {
   "cell_type": "code",
   "execution_count": 119,
   "id": "33d28ff4",
   "metadata": {},
   "outputs": [
    {
     "data": {
      "text/plain": [
       "{'tough': [1, 2, ['hello']]}"
      ]
     },
     "execution_count": 119,
     "metadata": {},
     "output_type": "execute_result"
    }
   ],
   "source": [
    "d[\"k1\"][2][\"k2\"][1]"
   ]
  },
  {
   "cell_type": "code",
   "execution_count": 120,
   "id": "9e2451e2",
   "metadata": {},
   "outputs": [
    {
     "data": {
      "text/plain": [
       "[1, 2, ['hello']]"
      ]
     },
     "execution_count": 120,
     "metadata": {},
     "output_type": "execute_result"
    }
   ],
   "source": [
    "d[\"k1\"][2][\"k2\"][1][\"tough\"]"
   ]
  },
  {
   "cell_type": "code",
   "execution_count": 122,
   "id": "1a7dfec5",
   "metadata": {},
   "outputs": [
    {
     "data": {
      "text/plain": [
       "['hello']"
      ]
     },
     "execution_count": 122,
     "metadata": {},
     "output_type": "execute_result"
    }
   ],
   "source": [
    "d[\"k1\"][2][\"k2\"][1][\"tough\"][2]"
   ]
  },
  {
   "cell_type": "code",
   "execution_count": 123,
   "id": "d0db8105",
   "metadata": {},
   "outputs": [
    {
     "data": {
      "text/plain": [
       "'hello'"
      ]
     },
     "execution_count": 123,
     "metadata": {},
     "output_type": "execute_result"
    }
   ],
   "source": [
    "d[\"k1\"][2][\"k2\"][1][\"tough\"][2][-1]"
   ]
  },
  {
   "cell_type": "code",
   "execution_count": 124,
   "id": "65d02314",
   "metadata": {},
   "outputs": [
    {
     "data": {
      "text/plain": [
       "'o'"
      ]
     },
     "execution_count": 124,
     "metadata": {},
     "output_type": "execute_result"
    }
   ],
   "source": [
    "d[\"k1\"][2][\"k2\"][1][\"tough\"][2][-1][-1]"
   ]
  },
  {
   "cell_type": "markdown",
   "id": "7e17094f",
   "metadata": {},
   "source": [
    "# Task "
   ]
  },
  {
   "cell_type": "code",
   "execution_count": 1,
   "id": "a9428531",
   "metadata": {},
   "outputs": [
    {
     "name": "stdout",
     "output_type": "stream",
     "text": [
      "Please Enter Number 2,3,4,5\n"
     ]
    }
   ],
   "source": [
    "a,b,c,d=input(\"Please Enter Number \").split(\",\")"
   ]
  },
  {
   "cell_type": "code",
   "execution_count": 13,
   "id": "f09f26b9",
   "metadata": {},
   "outputs": [],
   "source": [
    "e=[a,b,c,d]"
   ]
  },
  {
   "cell_type": "code",
   "execution_count": 8,
   "id": "4b3b7c54",
   "metadata": {},
   "outputs": [
    {
     "data": {
      "text/plain": [
       "['2', '3', '4', '5']"
      ]
     },
     "execution_count": 8,
     "metadata": {},
     "output_type": "execute_result"
    }
   ],
   "source": [
    "e"
   ]
  },
  {
   "cell_type": "code",
   "execution_count": 10,
   "id": "772ff236",
   "metadata": {},
   "outputs": [
    {
     "data": {
      "text/plain": [
       "('2', '3', '4', '5')"
      ]
     },
     "execution_count": 10,
     "metadata": {},
     "output_type": "execute_result"
    }
   ],
   "source": [
    "tuple(e)"
   ]
  },
  {
   "cell_type": "markdown",
   "id": "55cbbb6b",
   "metadata": {},
   "source": [
    "# If Statments "
   ]
  },
  {
   "cell_type": "code",
   "execution_count": 15,
   "id": "d69b06d1",
   "metadata": {},
   "outputs": [
    {
     "name": "stdout",
     "output_type": "stream",
     "text": [
      "Error\n"
     ]
    }
   ],
   "source": [
    "x =5\n",
    "if x > 5 : \n",
    "    print(\"Not Okey\")\n",
    "elif x < 5 :\n",
    "    print (\"Okey\")\n",
    "else : \n",
    "    print(\"Error\")"
   ]
  },
  {
   "cell_type": "code",
   "execution_count": 16,
   "id": "e3ba3fb7",
   "metadata": {},
   "outputs": [
    {
     "name": "stdout",
     "output_type": "stream",
     "text": [
      "Okey\n"
     ]
    }
   ],
   "source": [
    "y=8\n",
    "if x >4:\n",
    "    if (y>5):\n",
    "        print(\"Okey\")"
   ]
  },
  {
   "cell_type": "code",
   "execution_count": 17,
   "id": "f1211eeb",
   "metadata": {},
   "outputs": [
    {
     "name": "stdout",
     "output_type": "stream",
     "text": [
      "Ok\n"
     ]
    }
   ],
   "source": [
    "if x>4 and y>5:\n",
    "    print(\"Ok\")"
   ]
  },
  {
   "cell_type": "markdown",
   "id": "858e6b3f",
   "metadata": {},
   "source": [
    "# Task"
   ]
  },
  {
   "cell_type": "code",
   "execution_count": 35,
   "id": "18e995f2",
   "metadata": {},
   "outputs": [
    {
     "name": "stdout",
     "output_type": "stream",
     "text": [
      "Please Enter Your Grade 53\n"
     ]
    }
   ],
   "source": [
    "h=int(input(\"Please Enter Your Grade \"))\n"
   ]
  },
  {
   "cell_type": "code",
   "execution_count": 37,
   "id": "5caa55de",
   "metadata": {},
   "outputs": [
    {
     "name": "stdout",
     "output_type": "stream",
     "text": [
      "Your Grade is D\n"
     ]
    }
   ],
   "source": [
    "if 85<= h <=100 :\n",
    "    print (\"Your Grade is A\")\n",
    "elif 75<= h < 85:\n",
    "    print (\"Your Grade is B\")  \n",
    "elif 65<= h < 75:\n",
    "    print (\"Your Grade is C\")\n",
    "elif 50<= h < 65:\n",
    "    print (\"Your Grade is D\")\n",
    "elif h < 50 : \n",
    "    print (\"Your Grade is F\")\n",
    "else :\n",
    "    print(\"Wrong Grade\")\n",
    "    "
   ]
  },
  {
   "cell_type": "markdown",
   "id": "1789e64f",
   "metadata": {},
   "source": [
    "# Loops "
   ]
  },
  {
   "cell_type": "markdown",
   "id": "9573068a",
   "metadata": {},
   "source": [
    "   ##    For Loops"
   ]
  },
  {
   "cell_type": "code",
   "execution_count": 40,
   "id": "682e7cca",
   "metadata": {},
   "outputs": [],
   "source": [
    "list1=[1,2,3,4,5,6,7,8,9,10]"
   ]
  },
  {
   "cell_type": "code",
   "execution_count": 41,
   "id": "d218878a",
   "metadata": {},
   "outputs": [
    {
     "name": "stdout",
     "output_type": "stream",
     "text": [
      "1\n",
      "2\n",
      "3\n",
      "4\n",
      "5\n",
      "6\n",
      "7\n",
      "8\n",
      "9\n",
      "10\n"
     ]
    }
   ],
   "source": [
    "for number in list1 :\n",
    "    print(number)"
   ]
  },
  {
   "cell_type": "code",
   "execution_count": 42,
   "id": "faf14098",
   "metadata": {},
   "outputs": [
    {
     "name": "stdout",
     "output_type": "stream",
     "text": [
      "Odd is 1\n",
      "Even is 2\n",
      "Odd is 3\n",
      "Even is 4\n",
      "Odd is 5\n",
      "Even is 6\n",
      "Odd is 7\n",
      "Even is 8\n",
      "Odd is 9\n",
      "Even is 10\n"
     ]
    }
   ],
   "source": [
    "for num in list1 : \n",
    "    if num % 2 == 0:\n",
    "        print(f\"Even is {num}\")\n",
    "    else : \n",
    "        print(f\"Odd is {num}\")"
   ]
  },
  {
   "cell_type": "code",
   "execution_count": 52,
   "id": "c28af430",
   "metadata": {},
   "outputs": [
    {
     "name": "stdout",
     "output_type": "stream",
     "text": [
      "The Multiplicaiton in This Iteration is 1\n",
      "The Multiplicaiton in This Iteration is 2\n",
      "The Multiplicaiton in This Iteration is 6\n",
      "The Multiplicaiton in This Iteration is 24\n",
      "The Multiplicaiton in This Iteration is 120\n",
      "The Multiplicaiton in This Iteration is 720\n",
      "The Multiplicaiton in This Iteration is 5040\n",
      "The Multiplicaiton in This Iteration is 40320\n",
      "The Multiplicaiton in This Iteration is 362880\n",
      "The Multiplicaiton in This Iteration is 3628800\n",
      "**************************************************\n",
      "The Multiplication of The All Numbers is  3628800\n"
     ]
    }
   ],
   "source": [
    "\n",
    "list_sum=1\n",
    "for num in list1:\n",
    "    list_sum=list_sum*num \n",
    "    print (f\"The Multiplicaiton in This Iteration is {list_sum}\")\n",
    "print(\"*\"*50)    \n",
    "print(f\"The Multiplication of The All Numbers is  {list_sum}\")    "
   ]
  },
  {
   "cell_type": "code",
   "execution_count": 46,
   "id": "6a79c127",
   "metadata": {},
   "outputs": [
    {
     "name": "stdout",
     "output_type": "stream",
     "text": [
      "T\n",
      "h\n",
      "i\n",
      "s\n",
      " \n",
      "i\n",
      "s\n",
      " \n",
      "a\n",
      " \n",
      "s\n",
      "t\n",
      "r\n",
      "i\n",
      "n\n",
      "g\n"
     ]
    }
   ],
   "source": [
    "for letter in \"This is a string\":\n",
    "    print(letter)"
   ]
  },
  {
   "cell_type": "code",
   "execution_count": 53,
   "id": "bf21a93d",
   "metadata": {},
   "outputs": [
    {
     "name": "stdout",
     "output_type": "stream",
     "text": [
      "1\n",
      "2\n",
      "3\n",
      "4\n",
      "5\n"
     ]
    }
   ],
   "source": [
    "tup=(1,2,3,4,5)\n",
    "\n",
    "for t in tup: \n",
    "    print (t)"
   ]
  },
  {
   "cell_type": "code",
   "execution_count": 54,
   "id": "780407fd",
   "metadata": {},
   "outputs": [],
   "source": [
    "list2=[(1,2),(3,4),(5,6)]\n"
   ]
  },
  {
   "cell_type": "code",
   "execution_count": 55,
   "id": "481d13e2",
   "metadata": {},
   "outputs": [
    {
     "name": "stdout",
     "output_type": "stream",
     "text": [
      "(1, 2)\n",
      "(3, 4)\n",
      "(5, 6)\n"
     ]
    }
   ],
   "source": [
    "for element in list2:\n",
    "    print(element)"
   ]
  },
  {
   "cell_type": "code",
   "execution_count": 56,
   "id": "599dbfed",
   "metadata": {},
   "outputs": [
    {
     "name": "stdout",
     "output_type": "stream",
     "text": [
      "1\n",
      "3\n",
      "5\n"
     ]
    }
   ],
   "source": [
    "for (t1,t2) in list2:\n",
    "    print(t1)\n",
    "    "
   ]
  },
  {
   "cell_type": "code",
   "execution_count": 57,
   "id": "121475f8",
   "metadata": {},
   "outputs": [
    {
     "data": {
      "text/plain": [
       "[1, 4, 7]"
      ]
     },
     "execution_count": 57,
     "metadata": {},
     "output_type": "execute_result"
    }
   ],
   "source": [
    "x=[[1,2,3],[4,5,6],[7,8,9]]\n",
    "\n",
    "x=[num[0] for num in x] #list Comprehension\n",
    "x"
   ]
  },
  {
   "cell_type": "code",
   "execution_count": 58,
   "id": "f7d703f2",
   "metadata": {},
   "outputs": [],
   "source": [
    "d={\n",
    "    \"k1\":1,\n",
    "    \"k2\":2,\n",
    "    \"k3\":3\n",
    "}\n"
   ]
  },
  {
   "cell_type": "code",
   "execution_count": 59,
   "id": "7cbb10e8",
   "metadata": {},
   "outputs": [
    {
     "data": {
      "text/plain": [
       "dict_items([('k1', 1), ('k2', 2), ('k3', 3)])"
      ]
     },
     "execution_count": 59,
     "metadata": {},
     "output_type": "execute_result"
    }
   ],
   "source": [
    "d.items()"
   ]
  },
  {
   "cell_type": "code",
   "execution_count": 64,
   "id": "b6fcba33",
   "metadata": {},
   "outputs": [
    {
     "name": "stdout",
     "output_type": "stream",
     "text": [
      "This is key ==> k1\n",
      "This is value ==> 1\n",
      "This is key ==> k2\n",
      "This is value ==> 2\n",
      "This is key ==> k3\n",
      "This is value ==> 3\n"
     ]
    }
   ],
   "source": [
    "for Key,Value in d.items():\n",
    "    print (f\"This is key ==> {Key}\")\n",
    "    print (f\"This is value ==> {Value}\")"
   ]
  },
  {
   "cell_type": "code",
   "execution_count": 65,
   "id": "44d4a349",
   "metadata": {},
   "outputs": [
    {
     "name": "stdout",
     "output_type": "stream",
     "text": [
      "0\n",
      "1\n",
      "2\n",
      "3\n",
      "4\n",
      "5\n",
      "6\n",
      "7\n",
      "8\n",
      "9\n"
     ]
    }
   ],
   "source": [
    "for i in range(10):\n",
    "    print(i)"
   ]
  },
  {
   "cell_type": "code",
   "execution_count": 66,
   "id": "24218746",
   "metadata": {},
   "outputs": [],
   "source": [
    "x=list(range(0,91,2)) "
   ]
  },
  {
   "cell_type": "code",
   "execution_count": 67,
   "id": "3ec00afd",
   "metadata": {},
   "outputs": [
    {
     "data": {
      "text/plain": [
       "[0,\n",
       " 2,\n",
       " 4,\n",
       " 6,\n",
       " 8,\n",
       " 10,\n",
       " 12,\n",
       " 14,\n",
       " 16,\n",
       " 18,\n",
       " 20,\n",
       " 22,\n",
       " 24,\n",
       " 26,\n",
       " 28,\n",
       " 30,\n",
       " 32,\n",
       " 34,\n",
       " 36,\n",
       " 38,\n",
       " 40,\n",
       " 42,\n",
       " 44,\n",
       " 46,\n",
       " 48,\n",
       " 50,\n",
       " 52,\n",
       " 54,\n",
       " 56,\n",
       " 58,\n",
       " 60,\n",
       " 62,\n",
       " 64,\n",
       " 66,\n",
       " 68,\n",
       " 70,\n",
       " 72,\n",
       " 74,\n",
       " 76,\n",
       " 78,\n",
       " 80,\n",
       " 82,\n",
       " 84,\n",
       " 86,\n",
       " 88,\n",
       " 90]"
      ]
     },
     "execution_count": 67,
     "metadata": {},
     "output_type": "execute_result"
    }
   ],
   "source": [
    "x"
   ]
  },
  {
   "cell_type": "markdown",
   "id": "ddfa25ca",
   "metadata": {},
   "source": [
    "# Quiz\n"
   ]
  },
  {
   "cell_type": "code",
   "execution_count": 70,
   "id": "56325a91",
   "metadata": {},
   "outputs": [
    {
     "name": "stdout",
     "output_type": "stream",
     "text": [
      "Number is 1 => Not Identified \n",
      "Number is 2 => Not Identified \n",
      "Number is 3 => Fizz\n",
      "Number is 4 => Not Identified \n",
      "Number is 5 => Buzz\n",
      "Number is 6 => Fizz\n",
      "Number is 7 => Not Identified \n",
      "Number is 8 => Not Identified \n",
      "Number is 9 => Fizz\n",
      "Number is 10 => Buzz\n",
      "Number is 11 => Not Identified \n",
      "Number is 12 => Fizz\n",
      "Number is 13 => Not Identified \n",
      "Number is 14 => Not Identified \n",
      "Number is 15 => FizzBuzz\n",
      "Number is 16 => Not Identified \n",
      "Number is 17 => Not Identified \n",
      "Number is 18 => Fizz\n",
      "Number is 19 => Not Identified \n",
      "Number is 20 => Buzz\n",
      "Number is 21 => Fizz\n",
      "Number is 22 => Not Identified \n",
      "Number is 23 => Not Identified \n",
      "Number is 24 => Fizz\n",
      "Number is 25 => Buzz\n",
      "Number is 26 => Not Identified \n",
      "Number is 27 => Fizz\n",
      "Number is 28 => Not Identified \n",
      "Number is 29 => Not Identified \n",
      "Number is 30 => FizzBuzz\n",
      "Number is 31 => Not Identified \n",
      "Number is 32 => Not Identified \n",
      "Number is 33 => Fizz\n",
      "Number is 34 => Not Identified \n",
      "Number is 35 => Buzz\n",
      "Number is 36 => Fizz\n",
      "Number is 37 => Not Identified \n",
      "Number is 38 => Not Identified \n",
      "Number is 39 => Fizz\n",
      "Number is 40 => Buzz\n",
      "Number is 41 => Not Identified \n",
      "Number is 42 => Fizz\n",
      "Number is 43 => Not Identified \n",
      "Number is 44 => Not Identified \n",
      "Number is 45 => FizzBuzz\n",
      "Number is 46 => Not Identified \n",
      "Number is 47 => Not Identified \n",
      "Number is 48 => Fizz\n",
      "Number is 49 => Not Identified \n",
      "Number is 50 => Buzz\n",
      "Number is 51 => Fizz\n",
      "Number is 52 => Not Identified \n",
      "Number is 53 => Not Identified \n",
      "Number is 54 => Fizz\n",
      "Number is 55 => Buzz\n",
      "Number is 56 => Not Identified \n",
      "Number is 57 => Fizz\n",
      "Number is 58 => Not Identified \n",
      "Number is 59 => Not Identified \n",
      "Number is 60 => FizzBuzz\n",
      "Number is 61 => Not Identified \n",
      "Number is 62 => Not Identified \n",
      "Number is 63 => Fizz\n",
      "Number is 64 => Not Identified \n",
      "Number is 65 => Buzz\n",
      "Number is 66 => Fizz\n",
      "Number is 67 => Not Identified \n",
      "Number is 68 => Not Identified \n",
      "Number is 69 => Fizz\n",
      "Number is 70 => Buzz\n",
      "Number is 71 => Not Identified \n",
      "Number is 72 => Fizz\n",
      "Number is 73 => Not Identified \n",
      "Number is 74 => Not Identified \n",
      "Number is 75 => FizzBuzz\n",
      "Number is 76 => Not Identified \n",
      "Number is 77 => Not Identified \n",
      "Number is 78 => Fizz\n",
      "Number is 79 => Not Identified \n",
      "Number is 80 => Buzz\n",
      "Number is 81 => Fizz\n",
      "Number is 82 => Not Identified \n",
      "Number is 83 => Not Identified \n",
      "Number is 84 => Fizz\n",
      "Number is 85 => Buzz\n",
      "Number is 86 => Not Identified \n",
      "Number is 87 => Fizz\n",
      "Number is 88 => Not Identified \n",
      "Number is 89 => Not Identified \n",
      "Number is 90 => FizzBuzz\n",
      "Number is 91 => Not Identified \n",
      "Number is 92 => Not Identified \n",
      "Number is 93 => Fizz\n",
      "Number is 94 => Not Identified \n",
      "Number is 95 => Buzz\n",
      "Number is 96 => Fizz\n",
      "Number is 97 => Not Identified \n",
      "Number is 98 => Not Identified \n",
      "Number is 99 => Fizz\n",
      "Number is 100 => Buzz\n"
     ]
    }
   ],
   "source": [
    "for i in list(range(1,101)):\n",
    "    if i % 3 ==0 and i % 5 ==0  :\n",
    "        print(f\"Number is {i} => FizzBuzz\")\n",
    "    elif i % 3 ==0 :\n",
    "        print(f\"Number is {i} => Fizz\")\n",
    "    elif i % 5 ==0 :\n",
    "        print(f\"Number is {i} => Buzz\") \n",
    "    \n",
    "    else : \n",
    "        print(f\"Number is {i} => Not Identified \")"
   ]
  },
  {
   "cell_type": "code",
   "execution_count": null,
   "id": "84a6a3a1",
   "metadata": {},
   "outputs": [],
   "source": []
  }
 ],
 "metadata": {
  "kernelspec": {
   "display_name": "Python 3 (ipykernel)",
   "language": "python",
   "name": "python3"
  },
  "language_info": {
   "codemirror_mode": {
    "name": "ipython",
    "version": 3
   },
   "file_extension": ".py",
   "mimetype": "text/x-python",
   "name": "python",
   "nbconvert_exporter": "python",
   "pygments_lexer": "ipython3",
   "version": "3.9.12"
  }
 },
 "nbformat": 4,
 "nbformat_minor": 5
}
