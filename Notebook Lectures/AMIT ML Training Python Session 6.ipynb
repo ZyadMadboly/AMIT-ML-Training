{
 "cells": [
  {
   "cell_type": "markdown",
   "id": "849fd558",
   "metadata": {},
   "source": [
    "## Metrices Multiplication "
   ]
  },
  {
   "cell_type": "code",
   "execution_count": 8,
   "id": "a87c5b12",
   "metadata": {},
   "outputs": [],
   "source": [
    "a=[[1,2,3],[4,5,6]]\n",
    "b=[[1,2,3],[4,5,6]]\n",
    "def multi_element_wise (v,w):\n",
    "    assert len(v)==len(w)\n",
    "    return [v_i * w_i for v_i , w_i in zip (v,w)]\n",
    "\n",
    "def matrix_mult_element_wise(a,b):\n",
    "    c=[]\n",
    "    for i in range (len(a)):\n",
    "        c.append(multi_element_wise(a[i],b[i]))\n",
    "    return c"
   ]
  },
  {
   "cell_type": "code",
   "execution_count": 9,
   "id": "c19dda18",
   "metadata": {},
   "outputs": [
    {
     "data": {
      "text/plain": [
       "[[1, 4, 9], [16, 25, 36]]"
      ]
     },
     "execution_count": 9,
     "metadata": {},
     "output_type": "execute_result"
    }
   ],
   "source": [
    "matrix_mult_element_wise(a,b)"
   ]
  },
  {
   "cell_type": "markdown",
   "id": "93ea6004",
   "metadata": {},
   "source": [
    "## Metrices-Vector Multiplication"
   ]
  },
  {
   "cell_type": "code",
   "execution_count": 47,
   "id": "d5063afc",
   "metadata": {},
   "outputs": [],
   "source": [
    "m=[[1,2],[3,4],[5,6]]\n",
    "vector1=[0.5,0.5]\n",
    "def Matrix_Vector_Multiplication (m,v):\n",
    "    assert len(m)==len(v)\n",
    "    return sum([m_i * v_i for v_i , m_i in zip (m,v)])\n"
   ]
  },
  {
   "cell_type": "code",
   "execution_count": 23,
   "id": "3ef3d8d1",
   "metadata": {},
   "outputs": [],
   "source": [
    "def matrix_vector_mutlti(a,b):\n",
    "    c=[]\n",
    "    for i in range (len(a)):\n",
    "        c.append(Matrix_Vector_Multiplication(a[i],b))\n",
    "    return c"
   ]
  },
  {
   "cell_type": "code",
   "execution_count": 24,
   "id": "d20d86b3",
   "metadata": {},
   "outputs": [
    {
     "data": {
      "text/plain": [
       "[1.5, 3.5, 5.5]"
      ]
     },
     "execution_count": 24,
     "metadata": {},
     "output_type": "execute_result"
    }
   ],
   "source": [
    "matrix_vector_mutlti(m,vector1)"
   ]
  },
  {
   "cell_type": "markdown",
   "id": "090e67e0",
   "metadata": {},
   "source": [
    "## Matrix-Scaler Multiplicaiton"
   ]
  },
  {
   "cell_type": "code",
   "execution_count": 55,
   "id": "5f77d5aa",
   "metadata": {},
   "outputs": [],
   "source": [
    "s=2\n",
    "def Scaler_Multiplicaiton (c,v):\n",
    "    return [c * v_i for v_i in v]\n",
    "\n",
    "def Matrix_Scaler_Multiplicaiton(A,b):\n",
    "    c=[]\n",
    "    for i in range(len(A)):\n",
    "        c.append(Scaler_Multiplicaiton(b,A[i]))\n",
    "    return c"
   ]
  },
  {
   "cell_type": "code",
   "execution_count": 56,
   "id": "31b2bd0a",
   "metadata": {},
   "outputs": [
    {
     "data": {
      "text/plain": [
       "[[2, 4], [6, 8], [10, 12]]"
      ]
     },
     "execution_count": 56,
     "metadata": {},
     "output_type": "execute_result"
    }
   ],
   "source": [
    "Matrix_Scaler_Multiplicaiton(m,s)"
   ]
  },
  {
   "cell_type": "markdown",
   "id": "2ec0dd24",
   "metadata": {},
   "source": [
    "# Numpy"
   ]
  },
  {
   "cell_type": "code",
   "execution_count": 57,
   "id": "aa92eb17",
   "metadata": {},
   "outputs": [],
   "source": [
    "import numpy as np # for array 'Linar Algebra & Math'"
   ]
  },
  {
   "cell_type": "code",
   "execution_count": 58,
   "id": "cca612df",
   "metadata": {},
   "outputs": [
    {
     "data": {
      "text/plain": [
       "list"
      ]
     },
     "execution_count": 58,
     "metadata": {},
     "output_type": "execute_result"
    }
   ],
   "source": [
    "my_list=[1,2,3]\n",
    "type(my_list)"
   ]
  },
  {
   "cell_type": "code",
   "execution_count": 59,
   "id": "b59fad2d",
   "metadata": {},
   "outputs": [
    {
     "data": {
      "text/plain": [
       "array([1, 2, 3])"
      ]
     },
     "execution_count": 59,
     "metadata": {},
     "output_type": "execute_result"
    }
   ],
   "source": [
    "np.array(my_list)"
   ]
  },
  {
   "cell_type": "code",
   "execution_count": 60,
   "id": "43c75f6e",
   "metadata": {},
   "outputs": [
    {
     "data": {
      "text/plain": [
       "[[1, 2, 3], [4, 5, 6], [7, 8, 9]]"
      ]
     },
     "execution_count": 60,
     "metadata": {},
     "output_type": "execute_result"
    }
   ],
   "source": [
    "my_matrix=[[1,2,3],[4,5,6],[7,8,9]]\n",
    "my_matrix"
   ]
  },
  {
   "cell_type": "code",
   "execution_count": 63,
   "id": "5b1ae410",
   "metadata": {},
   "outputs": [],
   "source": [
    "x=np.array(my_matrix)"
   ]
  },
  {
   "cell_type": "code",
   "execution_count": 64,
   "id": "aaa7b3ba",
   "metadata": {},
   "outputs": [
    {
     "data": {
      "text/plain": [
       "array([[1, 2, 3],\n",
       "       [4, 5, 6],\n",
       "       [7, 8, 9]])"
      ]
     },
     "execution_count": 64,
     "metadata": {},
     "output_type": "execute_result"
    }
   ],
   "source": [
    "x"
   ]
  },
  {
   "cell_type": "code",
   "execution_count": 65,
   "id": "6d5de551",
   "metadata": {},
   "outputs": [
    {
     "data": {
      "text/plain": [
       "(3, 3)"
      ]
     },
     "execution_count": 65,
     "metadata": {},
     "output_type": "execute_result"
    }
   ],
   "source": [
    "x.shape"
   ]
  },
  {
   "cell_type": "markdown",
   "id": "037be385",
   "metadata": {},
   "source": [
    "## arange"
   ]
  },
  {
   "cell_type": "code",
   "execution_count": 66,
   "id": "79fc286a",
   "metadata": {},
   "outputs": [
    {
     "data": {
      "text/plain": [
       "array([0, 1, 2, 3, 4, 5, 6, 7, 8, 9])"
      ]
     },
     "execution_count": 66,
     "metadata": {},
     "output_type": "execute_result"
    }
   ],
   "source": [
    "np.arange(0,10)"
   ]
  },
  {
   "cell_type": "code",
   "execution_count": 68,
   "id": "d8db5763",
   "metadata": {},
   "outputs": [
    {
     "data": {
      "text/plain": [
       "array([ 0,  2,  4,  6,  8, 10])"
      ]
     },
     "execution_count": 68,
     "metadata": {},
     "output_type": "execute_result"
    }
   ],
   "source": [
    "np.arange(0,11,2)"
   ]
  },
  {
   "cell_type": "markdown",
   "id": "cf6a150b",
   "metadata": {},
   "source": [
    "### Generate array of zeros and ones"
   ]
  },
  {
   "cell_type": "code",
   "execution_count": 69,
   "id": "8d0dd456",
   "metadata": {},
   "outputs": [
    {
     "data": {
      "text/plain": [
       "array([0., 0., 0.])"
      ]
     },
     "execution_count": 69,
     "metadata": {},
     "output_type": "execute_result"
    }
   ],
   "source": [
    "np.zeros(3)"
   ]
  },
  {
   "cell_type": "code",
   "execution_count": 71,
   "id": "99bab116",
   "metadata": {},
   "outputs": [
    {
     "data": {
      "text/plain": [
       "array([[0., 0., 0., 0., 0.],\n",
       "       [0., 0., 0., 0., 0.],\n",
       "       [0., 0., 0., 0., 0.],\n",
       "       [0., 0., 0., 0., 0.],\n",
       "       [0., 0., 0., 0., 0.]])"
      ]
     },
     "execution_count": 71,
     "metadata": {},
     "output_type": "execute_result"
    }
   ],
   "source": [
    "np.zeros((5,5))"
   ]
  },
  {
   "cell_type": "code",
   "execution_count": 73,
   "id": "40a34bf5",
   "metadata": {},
   "outputs": [
    {
     "data": {
      "text/plain": [
       "array([1., 1., 1.])"
      ]
     },
     "execution_count": 73,
     "metadata": {},
     "output_type": "execute_result"
    }
   ],
   "source": [
    "np.ones(3)"
   ]
  },
  {
   "cell_type": "code",
   "execution_count": 75,
   "id": "d2f2ec53",
   "metadata": {},
   "outputs": [
    {
     "data": {
      "text/plain": [
       "array([[1., 1., 1.],\n",
       "       [1., 1., 1.],\n",
       "       [1., 1., 1.]])"
      ]
     },
     "execution_count": 75,
     "metadata": {},
     "output_type": "execute_result"
    }
   ],
   "source": [
    "np.ones((3,3))"
   ]
  },
  {
   "cell_type": "code",
   "execution_count": 76,
   "id": "69adbbb0",
   "metadata": {},
   "outputs": [
    {
     "data": {
      "text/plain": [
       "array([ 0.,  5., 10.])"
      ]
     },
     "execution_count": 76,
     "metadata": {},
     "output_type": "execute_result"
    }
   ],
   "source": [
    "np.linspace(0,10,3)"
   ]
  },
  {
   "cell_type": "code",
   "execution_count": 77,
   "id": "25fbef66",
   "metadata": {},
   "outputs": [
    {
     "data": {
      "text/plain": [
       "array([ 0.        ,  0.20408163,  0.40816327,  0.6122449 ,  0.81632653,\n",
       "        1.02040816,  1.2244898 ,  1.42857143,  1.63265306,  1.83673469,\n",
       "        2.04081633,  2.24489796,  2.44897959,  2.65306122,  2.85714286,\n",
       "        3.06122449,  3.26530612,  3.46938776,  3.67346939,  3.87755102,\n",
       "        4.08163265,  4.28571429,  4.48979592,  4.69387755,  4.89795918,\n",
       "        5.10204082,  5.30612245,  5.51020408,  5.71428571,  5.91836735,\n",
       "        6.12244898,  6.32653061,  6.53061224,  6.73469388,  6.93877551,\n",
       "        7.14285714,  7.34693878,  7.55102041,  7.75510204,  7.95918367,\n",
       "        8.16326531,  8.36734694,  8.57142857,  8.7755102 ,  8.97959184,\n",
       "        9.18367347,  9.3877551 ,  9.59183673,  9.79591837, 10.        ])"
      ]
     },
     "execution_count": 77,
     "metadata": {},
     "output_type": "execute_result"
    }
   ],
   "source": [
    "np.linspace(0,10,50)"
   ]
  },
  {
   "cell_type": "markdown",
   "id": "22427c87",
   "metadata": {},
   "source": [
    "### Eye "
   ]
  },
  {
   "cell_type": "code",
   "execution_count": 79,
   "id": "2994d9cb",
   "metadata": {},
   "outputs": [
    {
     "data": {
      "text/plain": [
       "array([[1., 0., 0.],\n",
       "       [0., 1., 0.],\n",
       "       [0., 0., 1.]])"
      ]
     },
     "execution_count": 79,
     "metadata": {},
     "output_type": "execute_result"
    }
   ],
   "source": [
    "np.eye(3) # Identity Matrix"
   ]
  },
  {
   "cell_type": "markdown",
   "id": "bb94c90c",
   "metadata": {},
   "source": [
    "## Random "
   ]
  },
  {
   "cell_type": "code",
   "execution_count": 82,
   "id": "4e3b8f1c",
   "metadata": {},
   "outputs": [
    {
     "data": {
      "text/plain": [
       "array([0.07769555, 0.01985162, 0.8418539 ])"
      ]
     },
     "execution_count": 82,
     "metadata": {},
     "output_type": "execute_result"
    }
   ],
   "source": [
    "np.random.rand(3)  # generate numbers according to uniform distribution from 0 to 1 "
   ]
  },
  {
   "cell_type": "code",
   "execution_count": 83,
   "id": "d55fb336",
   "metadata": {},
   "outputs": [
    {
     "data": {
      "text/plain": [
       "array([[0.38753274, 0.75073374, 0.18935539, 0.12954159, 0.47985153],\n",
       "       [0.4783999 , 0.30400414, 0.51927937, 0.1864929 , 0.72523365],\n",
       "       [0.11777359, 0.62176972, 0.18297188, 0.87763484, 0.89464431],\n",
       "       [0.14812169, 0.54435495, 0.1039779 , 0.56289591, 0.86396356],\n",
       "       [0.46630616, 0.65145755, 0.50627969, 0.53943135, 0.84872909]])"
      ]
     },
     "execution_count": 83,
     "metadata": {},
     "output_type": "execute_result"
    }
   ],
   "source": [
    "np.random.rand(5,5)  "
   ]
  },
  {
   "cell_type": "code",
   "execution_count": 92,
   "id": "bd3ba464",
   "metadata": {},
   "outputs": [
    {
     "data": {
      "text/plain": [
       "array([-0.31758329, -0.82337589])"
      ]
     },
     "execution_count": 92,
     "metadata": {},
     "output_type": "execute_result"
    }
   ],
   "source": [
    "np.random.randn(2) # generate numbers according to Normal distribution from -3.5 to 3.5 "
   ]
  },
  {
   "cell_type": "code",
   "execution_count": 93,
   "id": "94dac860",
   "metadata": {},
   "outputs": [
    {
     "data": {
      "text/plain": [
       "array([[-1.14064134,  0.08007293, -0.38885681, -0.1072898 , -0.49050102],\n",
       "       [-0.88741213, -0.67393715, -1.29281399,  0.20894361, -0.35751926],\n",
       "       [-1.65512704,  0.66471801, -0.24632557,  0.86760292, -0.40466501],\n",
       "       [ 1.11571374, -0.98386167, -1.2327388 ,  1.02768837, -3.46136969],\n",
       "       [-0.9435013 ,  0.99037197,  0.85443712, -1.54498258, -1.12830548]])"
      ]
     },
     "execution_count": 93,
     "metadata": {},
     "output_type": "execute_result"
    }
   ],
   "source": [
    "np.random.randn(5,5)"
   ]
  },
  {
   "cell_type": "code",
   "execution_count": 94,
   "id": "d7eb8155",
   "metadata": {},
   "outputs": [
    {
     "data": {
      "text/plain": [
       "60"
      ]
     },
     "execution_count": 94,
     "metadata": {},
     "output_type": "execute_result"
    }
   ],
   "source": [
    "np.random.randint(1,100) # generate integer numbers "
   ]
  },
  {
   "cell_type": "code",
   "execution_count": 95,
   "id": "6d99be87",
   "metadata": {},
   "outputs": [
    {
     "data": {
      "text/plain": [
       "array([17, 72, 80, 75, 56, 61, 76, 84, 44, 34])"
      ]
     },
     "execution_count": 95,
     "metadata": {},
     "output_type": "execute_result"
    }
   ],
   "source": [
    "np.random.randint(1,100,10) # generate integer numbers of 10 vectors"
   ]
  },
  {
   "cell_type": "code",
   "execution_count": 96,
   "id": "d7316aca",
   "metadata": {},
   "outputs": [
    {
     "data": {
      "text/plain": [
       "array([[95, 81],\n",
       "       [85, 76]])"
      ]
     },
     "execution_count": 96,
     "metadata": {},
     "output_type": "execute_result"
    }
   ],
   "source": [
    "np.random.randint(1,100,(2,2)) # generate integer numbers of matrix"
   ]
  },
  {
   "cell_type": "markdown",
   "id": "c999635b",
   "metadata": {},
   "source": [
    "## Array Attributes and Methods "
   ]
  },
  {
   "cell_type": "code",
   "execution_count": 97,
   "id": "a372d5e7",
   "metadata": {},
   "outputs": [],
   "source": [
    "arr =np.arange(25)\n",
    "\n",
    "ranarr=np.random.randint(0,50,10)"
   ]
  },
  {
   "cell_type": "code",
   "execution_count": 98,
   "id": "d7e00b3c",
   "metadata": {},
   "outputs": [
    {
     "data": {
      "text/plain": [
       "array([ 0,  1,  2,  3,  4,  5,  6,  7,  8,  9, 10, 11, 12, 13, 14, 15, 16,\n",
       "       17, 18, 19, 20, 21, 22, 23, 24])"
      ]
     },
     "execution_count": 98,
     "metadata": {},
     "output_type": "execute_result"
    }
   ],
   "source": [
    "arr "
   ]
  },
  {
   "cell_type": "code",
   "execution_count": 99,
   "id": "6f47b820",
   "metadata": {},
   "outputs": [
    {
     "data": {
      "text/plain": [
       "array([21, 16, 18, 49,  6,  2,  9, 21, 33, 26])"
      ]
     },
     "execution_count": 99,
     "metadata": {},
     "output_type": "execute_result"
    }
   ],
   "source": [
    "ranarr"
   ]
  },
  {
   "cell_type": "code",
   "execution_count": 101,
   "id": "6ed0d4ea",
   "metadata": {},
   "outputs": [
    {
     "data": {
      "text/plain": [
       "array([[ 0,  1,  2,  3,  4],\n",
       "       [ 5,  6,  7,  8,  9],\n",
       "       [10, 11, 12, 13, 14],\n",
       "       [15, 16, 17, 18, 19],\n",
       "       [20, 21, 22, 23, 24]])"
      ]
     },
     "execution_count": 101,
     "metadata": {},
     "output_type": "execute_result"
    }
   ],
   "source": [
    "arr.reshape(5,5) # "
   ]
  },
  {
   "cell_type": "code",
   "execution_count": 102,
   "id": "40dcd2ac",
   "metadata": {},
   "outputs": [
    {
     "data": {
      "text/plain": [
       "49"
      ]
     },
     "execution_count": 102,
     "metadata": {},
     "output_type": "execute_result"
    }
   ],
   "source": [
    "ranarr.max() # return the maximum number of the array "
   ]
  },
  {
   "cell_type": "code",
   "execution_count": 103,
   "id": "f8129800",
   "metadata": {},
   "outputs": [
    {
     "data": {
      "text/plain": [
       "3"
      ]
     },
     "execution_count": 103,
     "metadata": {},
     "output_type": "execute_result"
    }
   ],
   "source": [
    "ranarr.argmax()   # return the location of  maximum number of the array "
   ]
  },
  {
   "cell_type": "code",
   "execution_count": 104,
   "id": "2d6922f6",
   "metadata": {},
   "outputs": [
    {
     "data": {
      "text/plain": [
       "2"
      ]
     },
     "execution_count": 104,
     "metadata": {},
     "output_type": "execute_result"
    }
   ],
   "source": [
    "ranarr.min()     # return the minimum number of the array "
   ]
  },
  {
   "cell_type": "code",
   "execution_count": 105,
   "id": "af752af1",
   "metadata": {},
   "outputs": [
    {
     "data": {
      "text/plain": [
       "5"
      ]
     },
     "execution_count": 105,
     "metadata": {},
     "output_type": "execute_result"
    }
   ],
   "source": [
    "ranarr.argmin()   # return the location of minimun number of the array "
   ]
  },
  {
   "cell_type": "markdown",
   "id": "29c4283c",
   "metadata": {},
   "source": [
    "# Numpy Indexing and Selection"
   ]
  },
  {
   "cell_type": "code",
   "execution_count": 106,
   "id": "e72df7b5",
   "metadata": {},
   "outputs": [],
   "source": [
    "# creating sample array\n",
    "arr1=np.arange(0,11)"
   ]
  },
  {
   "cell_type": "code",
   "execution_count": 108,
   "id": "5a4a6d85",
   "metadata": {},
   "outputs": [
    {
     "data": {
      "text/plain": [
       "array([ 0,  1,  2,  3,  4,  5,  6,  7,  8,  9, 10, 11, 12, 13, 14, 15, 16,\n",
       "       17, 18, 19, 20, 21, 22, 23, 24])"
      ]
     },
     "execution_count": 108,
     "metadata": {},
     "output_type": "execute_result"
    }
   ],
   "source": [
    "#Show \n",
    "arr"
   ]
  },
  {
   "cell_type": "markdown",
   "id": "f12720f9",
   "metadata": {},
   "source": [
    "## Numpy Indexing and Selection"
   ]
  },
  {
   "cell_type": "code",
   "execution_count": 109,
   "id": "397dfabc",
   "metadata": {},
   "outputs": [
    {
     "data": {
      "text/plain": [
       "8"
      ]
     },
     "execution_count": 109,
     "metadata": {},
     "output_type": "execute_result"
    }
   ],
   "source": [
    "# get a value at an index \n",
    "arr[8]"
   ]
  },
  {
   "cell_type": "code",
   "execution_count": 110,
   "id": "6e67b111",
   "metadata": {},
   "outputs": [
    {
     "data": {
      "text/plain": [
       "array([0, 1, 2, 3, 4])"
      ]
     },
     "execution_count": 110,
     "metadata": {},
     "output_type": "execute_result"
    }
   ],
   "source": [
    "#get values in a range \n",
    "arr[0:5]"
   ]
  },
  {
   "cell_type": "code",
   "execution_count": 111,
   "id": "e0faaef1",
   "metadata": {},
   "outputs": [
    {
     "data": {
      "text/plain": [
       "array([ 1,  2,  3,  4,  5,  6,  7,  8,  9, 10, 11, 12, 13, 14, 15, 16, 17,\n",
       "       18, 19, 20, 21, 22, 23, 24])"
      ]
     },
     "execution_count": 111,
     "metadata": {},
     "output_type": "execute_result"
    }
   ],
   "source": [
    "#get values in a range \n",
    "arr[1:]"
   ]
  },
  {
   "cell_type": "code",
   "execution_count": 112,
   "id": "74cd8076",
   "metadata": {},
   "outputs": [
    {
     "data": {
      "text/plain": [
       "array([100, 100, 100, 100, 100,   5,   6,   7,   8,   9,  10])"
      ]
     },
     "execution_count": 112,
     "metadata": {},
     "output_type": "execute_result"
    }
   ],
   "source": [
    "# setting a value with index range (BroadCasting)\n",
    "\n",
    "arr1[0:5]=100\n",
    "\n",
    "arr1"
   ]
  },
  {
   "cell_type": "code",
   "execution_count": 113,
   "id": "d127c131",
   "metadata": {},
   "outputs": [],
   "source": [
    "# Reset Array m we 'kk'"
   ]
  },
  {
   "cell_type": "code",
   "execution_count": null,
   "id": "407d1fc1",
   "metadata": {},
   "outputs": [],
   "source": []
  },
  {
   "cell_type": "code",
   "execution_count": 116,
   "id": "96158f96",
   "metadata": {},
   "outputs": [
    {
     "data": {
      "text/plain": [
       "array([0, 1, 2, 3, 4, 5])"
      ]
     },
     "execution_count": 116,
     "metadata": {},
     "output_type": "execute_result"
    }
   ],
   "source": [
    "# important notes and slices \n",
    "slice_of_arr= arr[0:6]\n",
    "\n",
    "#show Slice\n",
    "slice_of_arr"
   ]
  },
  {
   "cell_type": "code",
   "execution_count": 117,
   "id": "d3723c91",
   "metadata": {},
   "outputs": [
    {
     "data": {
      "text/plain": [
       "array([99, 99, 99, 99, 99, 99])"
      ]
     },
     "execution_count": 117,
     "metadata": {},
     "output_type": "execute_result"
    }
   ],
   "source": [
    "#change the slice \n",
    "slice_of_arr[:]=99\n",
    "\n",
    "#show slice again\n",
    "slice_of_arr"
   ]
  },
  {
   "cell_type": "code",
   "execution_count": 118,
   "id": "0ff51667",
   "metadata": {},
   "outputs": [
    {
     "data": {
      "text/plain": [
       "array([99, 99, 99, 99, 99, 99,  6,  7,  8,  9, 10, 11, 12, 13, 14, 15, 16,\n",
       "       17, 18, 19, 20, 21, 22, 23, 24])"
      ]
     },
     "execution_count": 118,
     "metadata": {},
     "output_type": "execute_result"
    }
   ],
   "source": [
    "arr"
   ]
  },
  {
   "cell_type": "code",
   "execution_count": 120,
   "id": "87c36793",
   "metadata": {},
   "outputs": [],
   "source": [
    "# copy of the data \n",
    "copy_arr=arr.copy()"
   ]
  },
  {
   "cell_type": "markdown",
   "id": "cf7401e5",
   "metadata": {},
   "source": [
    "## Indexing a 2D Array ( Metrices ) "
   ]
  },
  {
   "cell_type": "code",
   "execution_count": 121,
   "id": "e33a0b40",
   "metadata": {},
   "outputs": [
    {
     "data": {
      "text/plain": [
       "array([[ 5, 10,  5],\n",
       "       [20, 25, 30],\n",
       "       [35, 40, 45]])"
      ]
     },
     "execution_count": 121,
     "metadata": {},
     "output_type": "execute_result"
    }
   ],
   "source": [
    "arr_2d=np.array(([5,10,5],[20,25,30],[35,40,45]))\n",
    "\n",
    "#show\n",
    "arr_2d"
   ]
  },
  {
   "cell_type": "code",
   "execution_count": 122,
   "id": "abfd6b97",
   "metadata": {},
   "outputs": [
    {
     "data": {
      "text/plain": [
       "array([[ 5, 10,  5],\n",
       "       [20, 25, 30]])"
      ]
     },
     "execution_count": 122,
     "metadata": {},
     "output_type": "execute_result"
    }
   ],
   "source": [
    "#indexing row \n",
    "arr_2d[0:2]"
   ]
  },
  {
   "cell_type": "code",
   "execution_count": 127,
   "id": "c9241137",
   "metadata": {},
   "outputs": [
    {
     "data": {
      "text/plain": [
       "5"
      ]
     },
     "execution_count": 127,
     "metadata": {},
     "output_type": "execute_result"
    }
   ],
   "source": [
    "#format  is arr_2d [row][col]\n",
    "arr_2d[0][1]\n",
    "          "
   ]
  },
  {
   "cell_type": "code",
   "execution_count": 125,
   "id": "0e952347",
   "metadata": {},
   "outputs": [
    {
     "data": {
      "text/plain": [
       "10"
      ]
     },
     "execution_count": 125,
     "metadata": {},
     "output_type": "execute_result"
    }
   ],
   "source": [
    "arr_2d[0,1]"
   ]
  },
  {
   "cell_type": "code",
   "execution_count": 128,
   "id": "bb853894",
   "metadata": {},
   "outputs": [
    {
     "data": {
      "text/plain": [
       "array([[ 5, 10,  5],\n",
       "       [20, 25, 30]])"
      ]
     },
     "execution_count": 128,
     "metadata": {},
     "output_type": "execute_result"
    }
   ],
   "source": [
    "# 2D  Slicing ( Rows , Colouns)\n",
    "arr_2d[:2,0:]\n"
   ]
  },
  {
   "cell_type": "code",
   "execution_count": 129,
   "id": "45abd101",
   "metadata": {},
   "outputs": [
    {
     "data": {
      "text/plain": [
       "array([35, 40, 45])"
      ]
     },
     "execution_count": 129,
     "metadata": {},
     "output_type": "execute_result"
    }
   ],
   "source": [
    "# shape bottom row\n",
    "\n",
    "arr_2d[2]"
   ]
  },
  {
   "cell_type": "markdown",
   "id": "d671ffb2",
   "metadata": {},
   "source": [
    "## Selction \n"
   ]
  },
  {
   "cell_type": "code",
   "execution_count": 133,
   "id": "a1e82e31",
   "metadata": {},
   "outputs": [
    {
     "data": {
      "text/plain": [
       "array([ True,  True,  True,  True,  True,  True, False, False,  True,\n",
       "        True,  True,  True,  True,  True,  True,  True,  True,  True,\n",
       "        True,  True,  True,  True,  True,  True,  True])"
      ]
     },
     "execution_count": 133,
     "metadata": {},
     "output_type": "execute_result"
    }
   ],
   "source": [
    "arr > 7 "
   ]
  },
  {
   "cell_type": "code",
   "execution_count": 134,
   "id": "ebc11bfe",
   "metadata": {},
   "outputs": [],
   "source": [
    "bool_arr = arr > 7\n"
   ]
  },
  {
   "cell_type": "code",
   "execution_count": 135,
   "id": "36ee20da",
   "metadata": {},
   "outputs": [
    {
     "data": {
      "text/plain": [
       "array([ True,  True,  True,  True,  True,  True, False, False,  True,\n",
       "        True,  True,  True,  True,  True,  True,  True,  True,  True,\n",
       "        True,  True,  True,  True,  True,  True,  True])"
      ]
     },
     "execution_count": 135,
     "metadata": {},
     "output_type": "execute_result"
    }
   ],
   "source": [
    "bool_arr"
   ]
  },
  {
   "cell_type": "code",
   "execution_count": 136,
   "id": "a9c2ba6d",
   "metadata": {},
   "outputs": [
    {
     "data": {
      "text/plain": [
       "array([99, 99, 99, 99, 99, 99,  8,  9, 10, 11, 12, 13, 14, 15, 16, 17, 18,\n",
       "       19, 20, 21, 22, 23, 24])"
      ]
     },
     "execution_count": 136,
     "metadata": {},
     "output_type": "execute_result"
    }
   ],
   "source": [
    "arr[bool_arr]"
   ]
  },
  {
   "cell_type": "code",
   "execution_count": 137,
   "id": "0bdb6819",
   "metadata": {},
   "outputs": [
    {
     "data": {
      "text/plain": [
       "array([99, 99, 99, 99, 99, 99,  6,  7,  8,  9, 10, 11, 12, 13, 14, 15, 16,\n",
       "       17, 18, 19, 20, 21, 22, 23, 24])"
      ]
     },
     "execution_count": 137,
     "metadata": {},
     "output_type": "execute_result"
    }
   ],
   "source": [
    "arr[arr>2]"
   ]
  },
  {
   "cell_type": "markdown",
   "id": "a5ac9cee",
   "metadata": {},
   "source": [
    "## Arthmetic"
   ]
  },
  {
   "cell_type": "code",
   "execution_count": 140,
   "id": "8b4960d4",
   "metadata": {},
   "outputs": [],
   "source": [
    "arr2=np.arange(0,30)"
   ]
  },
  {
   "cell_type": "code",
   "execution_count": 141,
   "id": "2a95be78",
   "metadata": {},
   "outputs": [
    {
     "data": {
      "text/plain": [
       "array([  0,   1,   4,   9,  16,  25,  36,  49,  64,  81, 100, 121, 144,\n",
       "       169, 196, 225, 256, 289, 324, 361, 400, 441, 484, 529, 576, 625,\n",
       "       676, 729, 784, 841])"
      ]
     },
     "execution_count": 141,
     "metadata": {},
     "output_type": "execute_result"
    }
   ],
   "source": [
    "arr2 * arr2"
   ]
  },
  {
   "cell_type": "code",
   "execution_count": 142,
   "id": "d1568fd4",
   "metadata": {},
   "outputs": [
    {
     "data": {
      "text/plain": [
       "array([ 0,  2,  4,  6,  8, 10, 12, 14, 16, 18, 20, 22, 24, 26, 28, 30, 32,\n",
       "       34, 36, 38, 40, 42, 44, 46, 48, 50, 52, 54, 56, 58])"
      ]
     },
     "execution_count": 142,
     "metadata": {},
     "output_type": "execute_result"
    }
   ],
   "source": [
    "arr2 + arr2"
   ]
  },
  {
   "cell_type": "code",
   "execution_count": 143,
   "id": "af419216",
   "metadata": {},
   "outputs": [
    {
     "name": "stderr",
     "output_type": "stream",
     "text": [
      "C:\\Users\\smart\\AppData\\Local\\Temp\\ipykernel_8568\\3053098687.py:1: RuntimeWarning: invalid value encountered in true_divide\n",
      "  arr2 / arr2\n"
     ]
    },
    {
     "data": {
      "text/plain": [
       "array([nan,  1.,  1.,  1.,  1.,  1.,  1.,  1.,  1.,  1.,  1.,  1.,  1.,\n",
       "        1.,  1.,  1.,  1.,  1.,  1.,  1.,  1.,  1.,  1.,  1.,  1.,  1.,\n",
       "        1.,  1.,  1.,  1.])"
      ]
     },
     "execution_count": 143,
     "metadata": {},
     "output_type": "execute_result"
    }
   ],
   "source": [
    "# warning divise by zero \n",
    "arr2 / arr2"
   ]
  },
  {
   "cell_type": "code",
   "execution_count": 144,
   "id": "65c4386f",
   "metadata": {},
   "outputs": [
    {
     "data": {
      "text/plain": [
       "array([0, 0, 0, 0, 0, 0, 0, 0, 0, 0, 0, 0, 0, 0, 0, 0, 0, 0, 0, 0, 0, 0,\n",
       "       0, 0, 0, 0, 0, 0, 0, 0])"
      ]
     },
     "execution_count": 144,
     "metadata": {},
     "output_type": "execute_result"
    }
   ],
   "source": [
    "arr2 - arr2"
   ]
  },
  {
   "cell_type": "code",
   "execution_count": 147,
   "id": "3f8ceda8",
   "metadata": {},
   "outputs": [
    {
     "data": {
      "text/plain": [
       "array([    0,     1,     8,    27,    64,   125,   216,   343,   512,\n",
       "         729,  1000,  1331,  1728,  2197,  2744,  3375,  4096,  4913,\n",
       "        5832,  6859,  8000,  9261, 10648, 12167, 13824, 15625, 17576,\n",
       "       19683, 21952, 24389], dtype=int32)"
      ]
     },
     "execution_count": 147,
     "metadata": {},
     "output_type": "execute_result"
    }
   ],
   "source": [
    "#power \n",
    "\n",
    "arr2 ** 3 "
   ]
  },
  {
   "cell_type": "code",
   "execution_count": 146,
   "id": "693ab9fc",
   "metadata": {},
   "outputs": [
    {
     "data": {
      "text/plain": [
       "array([0.        , 1.        , 1.41421356, 1.73205081, 2.        ,\n",
       "       2.23606798, 2.44948974, 2.64575131, 2.82842712, 3.        ,\n",
       "       3.16227766, 3.31662479, 3.46410162, 3.60555128, 3.74165739,\n",
       "       3.87298335, 4.        , 4.12310563, 4.24264069, 4.35889894,\n",
       "       4.47213595, 4.58257569, 4.69041576, 4.79583152, 4.89897949,\n",
       "       5.        , 5.09901951, 5.19615242, 5.29150262, 5.38516481])"
      ]
     },
     "execution_count": 146,
     "metadata": {},
     "output_type": "execute_result"
    }
   ],
   "source": [
    "np.sqrt(arr2)"
   ]
  },
  {
   "cell_type": "code",
   "execution_count": 149,
   "id": "c1039d86",
   "metadata": {},
   "outputs": [
    {
     "data": {
      "text/plain": [
       "array([1.00000000e+00, 2.71828183e+00, 7.38905610e+00, 2.00855369e+01,\n",
       "       5.45981500e+01, 1.48413159e+02, 4.03428793e+02, 1.09663316e+03,\n",
       "       2.98095799e+03, 8.10308393e+03, 2.20264658e+04, 5.98741417e+04,\n",
       "       1.62754791e+05, 4.42413392e+05, 1.20260428e+06, 3.26901737e+06,\n",
       "       8.88611052e+06, 2.41549528e+07, 6.56599691e+07, 1.78482301e+08,\n",
       "       4.85165195e+08, 1.31881573e+09, 3.58491285e+09, 9.74480345e+09,\n",
       "       2.64891221e+10, 7.20048993e+10, 1.95729609e+11, 5.32048241e+11,\n",
       "       1.44625706e+12, 3.93133430e+12])"
      ]
     },
     "execution_count": 149,
     "metadata": {},
     "output_type": "execute_result"
    }
   ],
   "source": [
    "np.exp(arr2)"
   ]
  },
  {
   "cell_type": "code",
   "execution_count": 150,
   "id": "6d0dd6b4",
   "metadata": {},
   "outputs": [
    {
     "data": {
      "text/plain": [
       "99"
      ]
     },
     "execution_count": 150,
     "metadata": {},
     "output_type": "execute_result"
    }
   ],
   "source": [
    "np.max(arr) # same as arr.max()"
   ]
  },
  {
   "cell_type": "code",
   "execution_count": 151,
   "id": "5b3dd81c",
   "metadata": {},
   "outputs": [
    {
     "data": {
      "text/plain": [
       "array([-0.99920683, -0.99920683, -0.99920683, -0.99920683, -0.99920683,\n",
       "       -0.99920683, -0.2794155 ,  0.6569866 ,  0.98935825,  0.41211849,\n",
       "       -0.54402111, -0.99999021, -0.53657292,  0.42016704,  0.99060736,\n",
       "        0.65028784, -0.28790332, -0.96139749, -0.75098725,  0.14987721,\n",
       "        0.91294525,  0.83665564, -0.00885131, -0.8462204 , -0.90557836])"
      ]
     },
     "execution_count": 151,
     "metadata": {},
     "output_type": "execute_result"
    }
   ],
   "source": [
    "np.sin(arr)"
   ]
  },
  {
   "cell_type": "code",
   "execution_count": 152,
   "id": "eb0da295",
   "metadata": {},
   "outputs": [
    {
     "data": {
      "text/plain": [
       "array([4.59511985, 4.59511985, 4.59511985, 4.59511985, 4.59511985,\n",
       "       4.59511985, 1.79175947, 1.94591015, 2.07944154, 2.19722458,\n",
       "       2.30258509, 2.39789527, 2.48490665, 2.56494936, 2.63905733,\n",
       "       2.7080502 , 2.77258872, 2.83321334, 2.89037176, 2.94443898,\n",
       "       2.99573227, 3.04452244, 3.09104245, 3.13549422, 3.17805383])"
      ]
     },
     "execution_count": 152,
     "metadata": {},
     "output_type": "execute_result"
    }
   ],
   "source": [
    "np.log(arr)"
   ]
  },
  {
   "cell_type": "code",
   "execution_count": 153,
   "id": "06dec53e",
   "metadata": {},
   "outputs": [
    {
     "data": {
      "text/plain": [
       "array([ 0.03982088,  0.03982088,  0.03982088,  0.03982088,  0.03982088,\n",
       "        0.03982088,  0.96017029,  0.75390225, -0.14550003, -0.91113026,\n",
       "       -0.83907153,  0.0044257 ,  0.84385396,  0.90744678,  0.13673722,\n",
       "       -0.75968791, -0.95765948, -0.27516334,  0.66031671,  0.98870462,\n",
       "        0.40808206, -0.54772926, -0.99996083, -0.53283302,  0.42417901])"
      ]
     },
     "execution_count": 153,
     "metadata": {},
     "output_type": "execute_result"
    }
   ],
   "source": [
    "np.cos(arr)"
   ]
  },
  {
   "cell_type": "code",
   "execution_count": null,
   "id": "3cfd55b7",
   "metadata": {},
   "outputs": [],
   "source": []
  }
 ],
 "metadata": {
  "kernelspec": {
   "display_name": "Python 3 (ipykernel)",
   "language": "python",
   "name": "python3"
  },
  "language_info": {
   "codemirror_mode": {
    "name": "ipython",
    "version": 3
   },
   "file_extension": ".py",
   "mimetype": "text/x-python",
   "name": "python",
   "nbconvert_exporter": "python",
   "pygments_lexer": "ipython3",
   "version": "3.9.12"
  }
 },
 "nbformat": 4,
 "nbformat_minor": 5
}
