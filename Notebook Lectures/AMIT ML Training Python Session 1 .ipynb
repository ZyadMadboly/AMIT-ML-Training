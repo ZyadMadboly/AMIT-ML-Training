{
 "cells": [
  {
   "cell_type": "markdown",
   "id": "642fb15f",
   "metadata": {},
   "source": [
    "This is A Notebook For ML Training - Session 1 - Python Syntax Basics"
   ]
  },
  {
   "cell_type": "code",
   "execution_count": 9,
   "id": "dcb35200",
   "metadata": {},
   "outputs": [
    {
     "data": {
      "text/plain": [
       "'\\nTo Make Documentation for the Whole Program\\n\\n'"
      ]
     },
     "execution_count": 9,
     "metadata": {},
     "output_type": "execute_result"
    }
   ],
   "source": [
    "'''\n",
    "To Make Documentation for the Whole Program\n",
    "\n",
    "'''"
   ]
  },
  {
   "cell_type": "code",
   "execution_count": 26,
   "id": "81a115f9",
   "metadata": {},
   "outputs": [],
   "source": [
    "import math "
   ]
  },
  {
   "cell_type": "code",
   "execution_count": 10,
   "id": "83d82298",
   "metadata": {},
   "outputs": [],
   "source": [
    "x=\"Zeiad\""
   ]
  },
  {
   "cell_type": "code",
   "execution_count": 11,
   "id": "027804bb",
   "metadata": {},
   "outputs": [
    {
     "name": "stdout",
     "output_type": "stream",
     "text": [
      "Zeiad\n"
     ]
    }
   ],
   "source": [
    "print(x)"
   ]
  },
  {
   "cell_type": "code",
   "execution_count": 12,
   "id": "ee97e1b6",
   "metadata": {},
   "outputs": [
    {
     "name": "stdout",
     "output_type": "stream",
     "text": [
      "Welcome Zeiad\n"
     ]
    }
   ],
   "source": [
    "print(\"Welcome\",x)"
   ]
  },
  {
   "cell_type": "code",
   "execution_count": 13,
   "id": "ae5744fd",
   "metadata": {},
   "outputs": [],
   "source": [
    "z=5 "
   ]
  },
  {
   "cell_type": "code",
   "execution_count": 14,
   "id": "9bc9e43d",
   "metadata": {},
   "outputs": [
    {
     "data": {
      "text/plain": [
       "str"
      ]
     },
     "execution_count": 14,
     "metadata": {},
     "output_type": "execute_result"
    }
   ],
   "source": [
    "type(x)"
   ]
  },
  {
   "cell_type": "code",
   "execution_count": 15,
   "id": "7908b42e",
   "metadata": {},
   "outputs": [
    {
     "data": {
      "text/plain": [
       "int"
      ]
     },
     "execution_count": 15,
     "metadata": {},
     "output_type": "execute_result"
    }
   ],
   "source": [
    "type(z)"
   ]
  },
  {
   "cell_type": "code",
   "execution_count": 16,
   "id": "46fd9cd4",
   "metadata": {},
   "outputs": [],
   "source": [
    "a=b=c=6"
   ]
  },
  {
   "cell_type": "code",
   "execution_count": 17,
   "id": "bf38a080",
   "metadata": {},
   "outputs": [
    {
     "data": {
      "text/plain": [
       "6"
      ]
     },
     "execution_count": 17,
     "metadata": {},
     "output_type": "execute_result"
    }
   ],
   "source": [
    "a"
   ]
  },
  {
   "cell_type": "code",
   "execution_count": 18,
   "id": "79f78543",
   "metadata": {},
   "outputs": [
    {
     "data": {
      "text/plain": [
       "6"
      ]
     },
     "execution_count": 18,
     "metadata": {},
     "output_type": "execute_result"
    }
   ],
   "source": [
    "b"
   ]
  },
  {
   "cell_type": "code",
   "execution_count": 19,
   "id": "b94ca99c",
   "metadata": {},
   "outputs": [
    {
     "data": {
      "text/plain": [
       "6"
      ]
     },
     "execution_count": 19,
     "metadata": {},
     "output_type": "execute_result"
    }
   ],
   "source": [
    "c"
   ]
  },
  {
   "cell_type": "code",
   "execution_count": 20,
   "id": "f6d39a1b",
   "metadata": {},
   "outputs": [
    {
     "name": "stdout",
     "output_type": "stream",
     "text": [
      "(123+12j)\n"
     ]
    }
   ],
   "source": [
    "print(complex(123,12)) "
   ]
  },
  {
   "cell_type": "code",
   "execution_count": 21,
   "id": "54a557bd",
   "metadata": {},
   "outputs": [],
   "source": [
    "x=23.1"
   ]
  },
  {
   "cell_type": "code",
   "execution_count": 22,
   "id": "05458822",
   "metadata": {},
   "outputs": [
    {
     "data": {
      "text/plain": [
       "float"
      ]
     },
     "execution_count": 22,
     "metadata": {},
     "output_type": "execute_result"
    }
   ],
   "source": [
    "type(x)"
   ]
  },
  {
   "cell_type": "code",
   "execution_count": 23,
   "id": "104feb27",
   "metadata": {},
   "outputs": [
    {
     "data": {
      "text/plain": [
       "23"
      ]
     },
     "execution_count": 23,
     "metadata": {},
     "output_type": "execute_result"
    }
   ],
   "source": [
    "int(x)"
   ]
  },
  {
   "cell_type": "code",
   "execution_count": 24,
   "id": "37a5c8c2",
   "metadata": {},
   "outputs": [
    {
     "data": {
      "text/plain": [
       "float"
      ]
     },
     "execution_count": 24,
     "metadata": {},
     "output_type": "execute_result"
    }
   ],
   "source": [
    "type(x)"
   ]
  },
  {
   "cell_type": "code",
   "execution_count": 27,
   "id": "297fc8db",
   "metadata": {},
   "outputs": [],
   "source": [
    "k=math.log(24)"
   ]
  },
  {
   "cell_type": "code",
   "execution_count": 28,
   "id": "6f388dad",
   "metadata": {},
   "outputs": [
    {
     "name": "stdout",
     "output_type": "stream",
     "text": [
      "3.1780538303479458\n"
     ]
    }
   ],
   "source": [
    "print(k)"
   ]
  },
  {
   "cell_type": "code",
   "execution_count": 29,
   "id": "5f39e39e",
   "metadata": {},
   "outputs": [],
   "source": [
    "i='Sayed'\n"
   ]
  },
  {
   "cell_type": "code",
   "execution_count": 30,
   "id": "041f1df1",
   "metadata": {},
   "outputs": [
    {
     "data": {
      "text/plain": [
       "str"
      ]
     },
     "execution_count": 30,
     "metadata": {},
     "output_type": "execute_result"
    }
   ],
   "source": [
    "type(i)"
   ]
  },
  {
   "cell_type": "code",
   "execution_count": 31,
   "id": "25564b9e",
   "metadata": {},
   "outputs": [
    {
     "data": {
      "text/plain": [
       "'d'"
      ]
     },
     "execution_count": 31,
     "metadata": {},
     "output_type": "execute_result"
    }
   ],
   "source": [
    "i[-1]"
   ]
  },
  {
   "cell_type": "code",
   "execution_count": 32,
   "id": "faf281d0",
   "metadata": {},
   "outputs": [
    {
     "data": {
      "text/plain": [
       "'y'"
      ]
     },
     "execution_count": 32,
     "metadata": {},
     "output_type": "execute_result"
    }
   ],
   "source": [
    "i[2]"
   ]
  },
  {
   "cell_type": "code",
   "execution_count": 33,
   "id": "20d2ba83",
   "metadata": {},
   "outputs": [
    {
     "data": {
      "text/plain": [
       "'Sa'"
      ]
     },
     "execution_count": 33,
     "metadata": {},
     "output_type": "execute_result"
    }
   ],
   "source": [
    "i[0:2]"
   ]
  },
  {
   "cell_type": "code",
   "execution_count": 34,
   "id": "1b24d179",
   "metadata": {},
   "outputs": [
    {
     "data": {
      "text/plain": [
       "'yed'"
      ]
     },
     "execution_count": 34,
     "metadata": {},
     "output_type": "execute_result"
    }
   ],
   "source": [
    "i[2:]"
   ]
  },
  {
   "cell_type": "code",
   "execution_count": 35,
   "id": "604b4c4a",
   "metadata": {},
   "outputs": [],
   "source": [
    "i= \"Sayed Ahmed\"\n"
   ]
  },
  {
   "cell_type": "code",
   "execution_count": 37,
   "id": "813027bc",
   "metadata": {},
   "outputs": [
    {
     "data": {
      "text/plain": [
       "'demhA deyaS'"
      ]
     },
     "execution_count": 37,
     "metadata": {},
     "output_type": "execute_result"
    }
   ],
   "source": [
    "i[::-1] # هيقلب الكلمه بالحروف"
   ]
  },
  {
   "cell_type": "code",
   "execution_count": 38,
   "id": "25c0b9ed",
   "metadata": {},
   "outputs": [
    {
     "data": {
      "text/plain": [
       "11"
      ]
     },
     "execution_count": 38,
     "metadata": {},
     "output_type": "execute_result"
    }
   ],
   "source": [
    "len(i)"
   ]
  },
  {
   "cell_type": "code",
   "execution_count": 39,
   "id": "d9185f47",
   "metadata": {},
   "outputs": [
    {
     "data": {
      "text/plain": [
       "''"
      ]
     },
     "execution_count": 39,
     "metadata": {},
     "output_type": "execute_result"
    }
   ],
   "source": [
    "i[0:3:-1]"
   ]
  },
  {
   "cell_type": "code",
   "execution_count": 40,
   "id": "b3638d29",
   "metadata": {},
   "outputs": [],
   "source": [
    "a=\"Zeiad\""
   ]
  },
  {
   "cell_type": "code",
   "execution_count": 41,
   "id": "930ebb86",
   "metadata": {},
   "outputs": [],
   "source": [
    "b=\"Mohamed\""
   ]
  },
  {
   "cell_type": "code",
   "execution_count": 42,
   "id": "a5673ef3",
   "metadata": {},
   "outputs": [],
   "source": [
    "z=a+b"
   ]
  },
  {
   "cell_type": "code",
   "execution_count": 43,
   "id": "4c0f69f7",
   "metadata": {},
   "outputs": [
    {
     "name": "stdout",
     "output_type": "stream",
     "text": [
      "ZeiadMohamed\n"
     ]
    }
   ],
   "source": [
    "print(z)"
   ]
  },
  {
   "cell_type": "code",
   "execution_count": 44,
   "id": "f86da315",
   "metadata": {},
   "outputs": [
    {
     "data": {
      "text/plain": [
       "True"
      ]
     },
     "execution_count": 44,
     "metadata": {},
     "output_type": "execute_result"
    }
   ],
   "source": [
    "a in z"
   ]
  },
  {
   "cell_type": "code",
   "execution_count": 45,
   "id": "305adf3e",
   "metadata": {},
   "outputs": [
    {
     "ename": "NameError",
     "evalue": "name 'm' is not defined",
     "output_type": "error",
     "traceback": [
      "\u001b[1;31m---------------------------------------------------------------------------\u001b[0m",
      "\u001b[1;31mNameError\u001b[0m                                 Traceback (most recent call last)",
      "Input \u001b[1;32mIn [45]\u001b[0m, in \u001b[0;36m<cell line: 1>\u001b[1;34m()\u001b[0m\n\u001b[1;32m----> 1\u001b[0m \u001b[43mm\u001b[49m \u001b[38;5;129;01min\u001b[39;00m memo\n",
      "\u001b[1;31mNameError\u001b[0m: name 'm' is not defined"
     ]
    }
   ],
   "source": [
    "m in memo"
   ]
  },
  {
   "cell_type": "code",
   "execution_count": 47,
   "id": "22bb3a91",
   "metadata": {},
   "outputs": [
    {
     "data": {
      "text/plain": [
       "True"
      ]
     },
     "execution_count": 47,
     "metadata": {},
     "output_type": "execute_result"
    }
   ],
   "source": [
    "\"m\" in \"memo\""
   ]
  },
  {
   "cell_type": "code",
   "execution_count": 48,
   "id": "0f1ad1e4",
   "metadata": {},
   "outputs": [
    {
     "data": {
      "text/plain": [
       "'ZeiadMohamedZeiadMohamed'"
      ]
     },
     "execution_count": 48,
     "metadata": {},
     "output_type": "execute_result"
    }
   ],
   "source": [
    "z*2\n"
   ]
  },
  {
   "cell_type": "code",
   "execution_count": 49,
   "id": "fae151a7",
   "metadata": {},
   "outputs": [],
   "source": [
    "l=\"             mezo       \""
   ]
  },
  {
   "cell_type": "code",
   "execution_count": 50,
   "id": "b3b6812f",
   "metadata": {},
   "outputs": [
    {
     "name": "stdout",
     "output_type": "stream",
     "text": [
      "mezo\n"
     ]
    }
   ],
   "source": [
    "print(l.strip())"
   ]
  },
  {
   "cell_type": "code",
   "execution_count": 51,
   "id": "3f2e09be",
   "metadata": {},
   "outputs": [
    {
     "data": {
      "text/plain": [
       "'mezo       '"
      ]
     },
     "execution_count": 51,
     "metadata": {},
     "output_type": "execute_result"
    }
   ],
   "source": [
    "l.lstrip()"
   ]
  },
  {
   "cell_type": "code",
   "execution_count": 52,
   "id": "527d3f7d",
   "metadata": {},
   "outputs": [
    {
     "data": {
      "text/plain": [
       "'             mezo'"
      ]
     },
     "execution_count": 52,
     "metadata": {},
     "output_type": "execute_result"
    }
   ],
   "source": [
    "l.rstrip()"
   ]
  },
  {
   "cell_type": "code",
   "execution_count": 53,
   "id": "9f503354",
   "metadata": {},
   "outputs": [
    {
     "data": {
      "text/plain": [
       "'             MEZO       '"
      ]
     },
     "execution_count": 53,
     "metadata": {},
     "output_type": "execute_result"
    }
   ],
   "source": [
    "l.upper()"
   ]
  },
  {
   "cell_type": "code",
   "execution_count": 54,
   "id": "be5ef6bf",
   "metadata": {},
   "outputs": [
    {
     "data": {
      "text/plain": [
       "'             mezo       '"
      ]
     },
     "execution_count": 54,
     "metadata": {},
     "output_type": "execute_result"
    }
   ],
   "source": [
    "l.lower()"
   ]
  },
  {
   "cell_type": "code",
   "execution_count": 56,
   "id": "350cc890",
   "metadata": {},
   "outputs": [
    {
     "name": "stdout",
     "output_type": "stream",
     "text": [
      "First Num 3\n"
     ]
    }
   ],
   "source": [
    "t=input(\"First Num \")"
   ]
  },
  {
   "cell_type": "code",
   "execution_count": 58,
   "id": "04b343e5",
   "metadata": {},
   "outputs": [
    {
     "name": "stdout",
     "output_type": "stream",
     "text": [
      "Enter First Number 3\n"
     ]
    }
   ],
   "source": [
    "t=int(input(\"Enter First Number \"))"
   ]
  },
  {
   "cell_type": "code",
   "execution_count": 59,
   "id": "459f2e11",
   "metadata": {},
   "outputs": [
    {
     "data": {
      "text/plain": [
       "int"
      ]
     },
     "execution_count": 59,
     "metadata": {},
     "output_type": "execute_result"
    }
   ],
   "source": [
    "type(t)"
   ]
  },
  {
   "cell_type": "code",
   "execution_count": 61,
   "id": "07730585",
   "metadata": {},
   "outputs": [
    {
     "name": "stdout",
     "output_type": "stream",
     "text": [
      "Please Enter First Number 6\n"
     ]
    }
   ],
   "source": [
    "a=int(input(\"Please Enter First Number \"))"
   ]
  },
  {
   "cell_type": "code",
   "execution_count": 62,
   "id": "fa467760",
   "metadata": {},
   "outputs": [
    {
     "name": "stdout",
     "output_type": "stream",
     "text": [
      "Please Enter Second Number 5\n"
     ]
    }
   ],
   "source": [
    "b=int(input(\"Please Enter Second Number \"))"
   ]
  },
  {
   "cell_type": "code",
   "execution_count": 63,
   "id": "3b1c8642",
   "metadata": {},
   "outputs": [
    {
     "name": "stdout",
     "output_type": "stream",
     "text": [
      "11\n"
     ]
    }
   ],
   "source": [
    "print(a+b)"
   ]
  },
  {
   "cell_type": "code",
   "execution_count": null,
   "id": "ac0cda5a",
   "metadata": {},
   "outputs": [],
   "source": []
  }
 ],
 "metadata": {
  "kernelspec": {
   "display_name": "Python 3 (ipykernel)",
   "language": "python",
   "name": "python3"
  },
  "language_info": {
   "codemirror_mode": {
    "name": "ipython",
    "version": 3
   },
   "file_extension": ".py",
   "mimetype": "text/x-python",
   "name": "python",
   "nbconvert_exporter": "python",
   "pygments_lexer": "ipython3",
   "version": "3.9.12"
  }
 },
 "nbformat": 4,
 "nbformat_minor": 5
}
