{
 "cells": [
  {
   "cell_type": "markdown",
   "id": "17e291c2",
   "metadata": {},
   "source": [
    "# Recursion Function\n"
   ]
  },
  {
   "cell_type": "code",
   "execution_count": 109,
   "id": "88fd3d35",
   "metadata": {},
   "outputs": [
    {
     "name": "stdout",
     "output_type": "stream",
     "text": [
      "format 1\n"
     ]
    }
   ],
   "source": [
    "\n",
    "def Factorial(num):\n",
    "    if num ==1 :\n",
    "        return 1\n",
    "    else :\n",
    "        return num * Factorial(num-1)\n",
    "    \n",
    "    \n",
    "\n",
    "        \n",
    "        \n",
    "    \n",
    "    "
   ]
  },
  {
   "cell_type": "code",
   "execution_count": 3,
   "id": "4cb71318",
   "metadata": {},
   "outputs": [
    {
     "name": "stdout",
     "output_type": "stream",
     "text": [
      "6\n"
     ]
    }
   ],
   "source": [
    "print(Factorial(3))"
   ]
  },
  {
   "cell_type": "markdown",
   "id": "e3be4a86",
   "metadata": {},
   "source": [
    "# Global And Local Scope"
   ]
  },
  {
   "cell_type": "code",
   "execution_count": 4,
   "id": "25ed5585",
   "metadata": {},
   "outputs": [
    {
     "name": "stdout",
     "output_type": "stream",
     "text": [
      "X inside => global\n",
      "x Outside => global\n"
     ]
    }
   ],
   "source": [
    "# X global = x inside\n",
    "x=\"global\" \n",
    "def foo():\n",
    "    print(f\"X inside => {x}\")\n",
    "    \n",
    "foo()\n",
    "print(f\"x Outside => {x}\")"
   ]
  },
  {
   "cell_type": "code",
   "execution_count": 5,
   "id": "03f26dfa",
   "metadata": {},
   "outputs": [
    {
     "name": "stdout",
     "output_type": "stream",
     "text": [
      "Y inside => local\n",
      "y Outside => global\n"
     ]
    }
   ],
   "source": [
    "# y global for all the program = > outside\n",
    "# y Local for the function = > inside\n",
    "y=\"global\"\n",
    "def foo():\n",
    "    y=\"local\"\n",
    "    print(f\"Y inside => {y}\")\n",
    "    \n",
    "foo()\n",
    "print(f\"y Outside => {y}\")"
   ]
  },
  {
   "cell_type": "code",
   "execution_count": 6,
   "id": "8309642a",
   "metadata": {},
   "outputs": [
    {
     "name": "stdout",
     "output_type": "stream",
     "text": [
      "z inside => changed\n",
      "z Outside => changed\n"
     ]
    }
   ],
   "source": [
    "# z global for all the program = > changed\n",
    "# z Local for the function = > changed cause u define the variable 'z' in the function scope as global\n",
    "z=\"global\"\n",
    "def foo():\n",
    "    global z\n",
    "    z=\"changed\"\n",
    "    print(f\"z inside => {z}\")\n",
    "    \n",
    "foo()\n",
    "print(f\"z Outside => {z}\")"
   ]
  },
  {
   "cell_type": "code",
   "execution_count": 9,
   "id": "64bdf884",
   "metadata": {},
   "outputs": [
    {
     "name": "stdout",
     "output_type": "stream",
     "text": [
      "Inner : nonlocal\n",
      "outer : local\n"
     ]
    }
   ],
   "source": [
    "def outer():\n",
    "    x=\"local\"\n",
    "    def inner():\n",
    "        x=\"nonlocal\"\n",
    "        print(f\"Inner : {x}\")\n",
    "    inner()\n",
    "    print(f\"outer : {x}\")\n",
    "outer()    "
   ]
  },
  {
   "cell_type": "code",
   "execution_count": 10,
   "id": "123375e0",
   "metadata": {},
   "outputs": [
    {
     "name": "stdout",
     "output_type": "stream",
     "text": [
      "Inner : nonlocal\n",
      "outer : nonlocal\n"
     ]
    }
   ],
   "source": [
    "def outer():\n",
    "    x=\"local\"\n",
    "    def inner():\n",
    "        nonlocal x\n",
    "        x=\"nonlocal\"\n",
    "        print(f\"Inner : {x}\")\n",
    "    inner()\n",
    "    print(f\"outer : {x}\")\n",
    "outer()    "
   ]
  },
  {
   "cell_type": "markdown",
   "id": "e20f6e64",
   "metadata": {},
   "source": [
    "# Try ... Except"
   ]
  },
  {
   "cell_type": "code",
   "execution_count": 11,
   "id": "e77e2d9b",
   "metadata": {},
   "outputs": [
    {
     "name": "stdout",
     "output_type": "stream",
     "text": [
      "There is An Exception\n"
     ]
    }
   ],
   "source": [
    "a =5\n",
    "try: \n",
    "    print(t)\n",
    "except :\n",
    "    print(\"There is An Exception\")"
   ]
  },
  {
   "cell_type": "code",
   "execution_count": 13,
   "id": "532e3b69",
   "metadata": {},
   "outputs": [
    {
     "name": "stdout",
     "output_type": "stream",
     "text": [
      "5\n"
     ]
    }
   ],
   "source": [
    "y=5 \n",
    "try: \n",
    "    print(a) # global variable in the cell above\n",
    "except:\n",
    "    print(\"An Exception Occured \")"
   ]
  },
  {
   "cell_type": "code",
   "execution_count": 14,
   "id": "94b451dc",
   "metadata": {},
   "outputs": [
    {
     "name": "stdout",
     "output_type": "stream",
     "text": [
      "5\n"
     ]
    }
   ],
   "source": [
    "try: \n",
    "    print(y)\n",
    "except NameError:\n",
    "    print(\"Variable y isn't defined\")\n",
    "except:\n",
    "    print(\"Something else went wrong\")"
   ]
  },
  {
   "cell_type": "code",
   "execution_count": 15,
   "id": "10a6af36",
   "metadata": {},
   "outputs": [
    {
     "name": "stdout",
     "output_type": "stream",
     "text": [
      "Something Went Wrong\n"
     ]
    }
   ],
   "source": [
    "try:\n",
    "    print(i)\n",
    "except:\n",
    "    print(\"Something Went Wrong\")\n",
    "else:\n",
    "    print(\"No Thing Happened\")"
   ]
  },
  {
   "cell_type": "code",
   "execution_count": 17,
   "id": "f0f31a12",
   "metadata": {},
   "outputs": [
    {
     "name": "stdout",
     "output_type": "stream",
     "text": [
      "Something Went Wrong\n",
      "The 'trey Except1' is finished\n"
     ]
    }
   ],
   "source": [
    "try:\n",
    "    print(Z)\n",
    "except:\n",
    "    print(\"Something Went Wrong\")\n",
    "finally:\n",
    "    print(\"The 'trey Except1' is finished\")"
   ]
  },
  {
   "cell_type": "markdown",
   "id": "a14a0a2c",
   "metadata": {},
   "source": [
    "# File Handling"
   ]
  },
  {
   "cell_type": "code",
   "execution_count": 25,
   "id": "35d65458",
   "metadata": {},
   "outputs": [
    {
     "name": "stdout",
     "output_type": "stream",
     "text": [
      "Youseef kmaar\n"
     ]
    }
   ],
   "source": [
    "f= open(\"C:/Users/smart/Desktop/test.txt\",\"r\")  #open(Directory of the file,Mode)\n",
    "print(f.read())\n",
    "f.close()"
   ]
  },
  {
   "cell_type": "code",
   "execution_count": 26,
   "id": "4652bf19",
   "metadata": {},
   "outputs": [
    {
     "name": "stdout",
     "output_type": "stream",
     "text": [
      "Youseef kmaar\n",
      "\n",
      "\n",
      "\n",
      "Iam Zeiad Madboly \n",
      "\n",
      "\n",
      "\n",
      "Iam MO SALAH\n"
     ]
    }
   ],
   "source": [
    "f1= open(\"C:/Users/smart/Desktop/test.txt\",\"r\")  #open(Directory of the file,Mode)\n",
    "all_lines= f1.readlines()\n",
    "for line in all_lines:\n",
    "    print(line)\n",
    "f1.close()"
   ]
  },
  {
   "cell_type": "code",
   "execution_count": 41,
   "id": "7c4afe53",
   "metadata": {},
   "outputs": [
    {
     "name": "stdout",
     "output_type": "stream",
     "text": [
      "Help\n"
     ]
    }
   ],
   "source": [
    "f2= open(\"C:/Users/smart/Desktop/hanaka.txt\",\"w\")  #open(Directory of the file,Mode)\n",
    "f2.write(\"Help\")\n",
    "f2.close()\n",
    "\n",
    "f2= open(\"C:/Users/smart/Desktop/hanaka.txt\",\"r\")  #open(Directory of the file,Mode)\n",
    "print(f2.read())\n",
    "f2.close()"
   ]
  },
  {
   "cell_type": "code",
   "execution_count": 42,
   "id": "8dac8c39",
   "metadata": {},
   "outputs": [],
   "source": [
    "f2= open(\"C:/Users/smart/Desktop/hanaka.txt\",\"a\")  #open(Directory of the file,Mode)\n",
    "for i in range(30):\n",
    "    f2.write(\"\\nI love Python\"+ str(i))\n",
    "    \n",
    "f2.close() "
   ]
  },
  {
   "cell_type": "markdown",
   "id": "6ee13597",
   "metadata": {},
   "source": [
    "# ًًََََQuiz"
   ]
  },
  {
   "cell_type": "code",
   "execution_count": 57,
   "id": "fc960fd2",
   "metadata": {},
   "outputs": [
    {
     "name": "stdout",
     "output_type": "stream",
     "text": [
      "['Help\\n', 'I love Python0\\n', 'I love Python1\\n', 'I love Python2\\n', 'I love Python3\\n', 'I love Python4\\n', 'I love Python5\\n', 'I love Python6\\n', 'I love Python7\\n', 'I love Python8\\n', 'I love Python9\\n', 'I love Python10\\n', 'I love Python11\\n', 'I love Python12\\n', 'I love Python13\\n', 'I love Python14\\n', 'I love Python15\\n', 'I love Python16\\n', 'I love Python17\\n', 'I love Python18\\n', 'I love Python19\\n', 'I love Python20\\n', 'I love Python21\\n', 'I love Python22\\n', 'I love Python23\\n', 'I love Python24\\n', 'I love Python25\\n', 'I love Python26\\n', 'I love Python27\\n', 'I love Python28\\n', 'I love Python29']\n"
     ]
    }
   ],
   "source": [
    "def file_read(fname):\n",
    "    with open(fname) as f:\n",
    "        content_list=f.readlines()\n",
    "        print(content_list) # عايزين نشيل ال \\n\n",
    "file_read(\"C:/Users/smart/Desktop/hanaka.txt\")        "
   ]
  },
  {
   "cell_type": "code",
   "execution_count": 72,
   "id": "27607fb1",
   "metadata": {},
   "outputs": [
    {
     "name": "stdout",
     "output_type": "stream",
     "text": [
      "Please Enter Your First Name mohamed\n",
      "Please Enter Your Last Name sayed\n",
      "Please Enter Your Gender m\n",
      "Please Enter Your ID '3 Only' mkms\n"
     ]
    },
    {
     "ename": "ValueError",
     "evalue": "invalid literal for int() with base 10: 'mkms'",
     "output_type": "error",
     "traceback": [
      "\u001b[1;31m---------------------------------------------------------------------------\u001b[0m",
      "\u001b[1;31mValueError\u001b[0m                                Traceback (most recent call last)",
      "Input \u001b[1;32mIn [72]\u001b[0m, in \u001b[0;36m<cell line: 4>\u001b[1;34m()\u001b[0m\n\u001b[0;32m      2\u001b[0m LastName\u001b[38;5;241m=\u001b[39m\u001b[38;5;28minput\u001b[39m(\u001b[38;5;124m\"\u001b[39m\u001b[38;5;124mPlease Enter Your Last Name \u001b[39m\u001b[38;5;124m\"\u001b[39m)\n\u001b[0;32m      3\u001b[0m Gender\u001b[38;5;241m=\u001b[39m\u001b[38;5;28minput\u001b[39m(\u001b[38;5;124m\"\u001b[39m\u001b[38;5;124mPlease Enter Your Gender \u001b[39m\u001b[38;5;124m\"\u001b[39m)\n\u001b[1;32m----> 4\u001b[0m ID\u001b[38;5;241m=\u001b[39m\u001b[38;5;28;43mint\u001b[39;49m\u001b[43m(\u001b[49m\u001b[38;5;28;43minput\u001b[39;49m\u001b[43m(\u001b[49m\u001b[38;5;124;43m\"\u001b[39;49m\u001b[38;5;124;43mPlease Enter Your ID \u001b[39;49m\u001b[38;5;124;43m'\u001b[39;49m\u001b[38;5;124;43m3 Only\u001b[39;49m\u001b[38;5;124;43m'\u001b[39;49m\u001b[38;5;124;43m \u001b[39;49m\u001b[38;5;124;43m\"\u001b[39;49m\u001b[43m)\u001b[49m\u001b[43m)\u001b[49m\n\u001b[0;32m      5\u001b[0m \u001b[38;5;28;01mif\u001b[39;00m \u001b[38;5;28mlen\u001b[39m(ID) \u001b[38;5;241m>\u001b[39m \u001b[38;5;241m3\u001b[39m:\n\u001b[0;32m      6\u001b[0m     \u001b[38;5;28mprint\u001b[39m(\u001b[38;5;124m\"\u001b[39m\u001b[38;5;124mYou Have Entered a wrong number\u001b[39m\u001b[38;5;124m\"\u001b[39m)\n",
      "\u001b[1;31mValueError\u001b[0m: invalid literal for int() with base 10: 'mkms'"
     ]
    }
   ],
   "source": [
    "FirstName=input(\"Please Enter Your First Name \") # ass \n",
    "LastName=input(\"Please Enter Your Last Name \")\n",
    "Gender=input(\"Please Enter Your Gender \")\n",
    "try:\n",
    "    ID=int(input(\"Please Enter Your ID '3 Only' \"))\n",
    "except: \n",
    "    \n",
    "\n",
    "    print(\"You Have Entered a wrong number\")\n",
    "    break\n",
    "List3=[]\n",
    "List3.append(FirstName)\n",
    "List3.append(LastName)\n",
    "List3.append(Gender)\n",
    "List3.append(ID)\n",
    "\n",
    "f3= open(\"C:/Users/smart/Desktop/hanaka.txt\",\"a\")  #open(Directory of the file,Mode)\n",
    "for element in List3:\n",
    "    f3.write(f\"{element}\\n\")\n",
    "f3.close()"
   ]
  },
  {
   "cell_type": "code",
   "execution_count": null,
   "id": "9d9393ef",
   "metadata": {},
   "outputs": [],
   "source": [
    "# function to write the user data to a file\n",
    "def gett (x,y,z,v):\n",
    "\n",
    "    f =open(\"C:/Users/smart/Desktop/hanaka.txt\",'a')\n",
    "    \n",
    "    f.write('\\n'+str(x))\n",
    "    f.write('\\n'+str(y))\n",
    "    f.write('\\n'+str(z))\n",
    "    f.write('\\n'+str(v))\n",
    "    f.close()\n",
    "\n",
    "gett (FirstName,LastName,Gender,ID )"
   ]
  },
  {
   "cell_type": "markdown",
   "id": "0f63d069",
   "metadata": {},
   "source": [
    "# Packages , Module, Libraries"
   ]
  },
  {
   "cell_type": "code",
   "execution_count": 64,
   "id": "e5d3ed71",
   "metadata": {},
   "outputs": [],
   "source": [
    "import numpy as np\n",
    "import pandas as pd\n",
    "#import keras as k\n",
    "#import tensorflow as tf \n",
    "import seaborn as sb"
   ]
  },
  {
   "cell_type": "markdown",
   "id": "352d76d7",
   "metadata": {},
   "source": [
    "# OOP \n"
   ]
  },
  {
   "cell_type": "code",
   "execution_count": 78,
   "id": "a5efa17f",
   "metadata": {},
   "outputs": [],
   "source": [
    "class Vehcile():\n",
    "    def __init__ (self,speed,color):\n",
    "        self.color=color\n",
    "        self.speed=speed\n",
    "    def what_color (self):\n",
    "        print(f\"My Color is: {self.color}\")\n",
    "    def drive (self):\n",
    "        print(f\"Driving with speed: {str(self.speed)}\")    \n",
    "        \n",
    "        "
   ]
  },
  {
   "cell_type": "code",
   "execution_count": 77,
   "id": "333a3221",
   "metadata": {},
   "outputs": [
    {
     "name": "stdout",
     "output_type": "stream",
     "text": [
      "Driving with speed: 100\n",
      "My Color is: red\n"
     ]
    },
    {
     "data": {
      "text/plain": [
       "'red'"
      ]
     },
     "execution_count": 77,
     "metadata": {},
     "output_type": "execute_result"
    }
   ],
   "source": [
    "hundai=Vehcile(100,\"red\")\n",
    "hundai.drive()\n",
    "hundai.what_color()\n",
    "hundai.color"
   ]
  },
  {
   "cell_type": "markdown",
   "id": "916d1d08",
   "metadata": {},
   "source": [
    "# Inhertance"
   ]
  },
  {
   "cell_type": "code",
   "execution_count": 87,
   "id": "454cd50e",
   "metadata": {},
   "outputs": [],
   "source": [
    "class Car(Vehcile): # Inherthace : Class Car (child class) inherted from class vehcile (parent)\n",
    "    \n",
    "    def drive(self):\n",
    "        print(\"Start with ur key and power me on\")\n",
    "        \n",
    "class Plane(Vehcile):# Inherthace : Plane Car (child class) inherted from class vehcile (parent)\n",
    "    \n",
    "    def drive(self):\n",
    "        print(\"Iam Flying\")"
   ]
  },
  {
   "cell_type": "code",
   "execution_count": 88,
   "id": "5ab9071a",
   "metadata": {},
   "outputs": [
    {
     "name": "stdout",
     "output_type": "stream",
     "text": [
      "Start with ur key and power me on\n"
     ]
    },
    {
     "data": {
      "text/plain": [
       "100"
      ]
     },
     "execution_count": 88,
     "metadata": {},
     "output_type": "execute_result"
    }
   ],
   "source": [
    "mitsupishi=Car(100,\"red\")\n",
    "\n",
    "mitsupishi.drive()\n",
    "mitsupishi.speed\n"
   ]
  },
  {
   "cell_type": "code",
   "execution_count": 89,
   "id": "9757c705",
   "metadata": {},
   "outputs": [],
   "source": [
    "plane1=Plane(700 , \"White\")"
   ]
  },
  {
   "cell_type": "code",
   "execution_count": 90,
   "id": "dd89a52c",
   "metadata": {},
   "outputs": [
    {
     "name": "stdout",
     "output_type": "stream",
     "text": [
      "Iam Flying\n"
     ]
    }
   ],
   "source": [
    "plane1.drive()"
   ]
  },
  {
   "cell_type": "markdown",
   "id": "f160d91e",
   "metadata": {},
   "source": [
    "# Task"
   ]
  },
  {
   "cell_type": "code",
   "execution_count": 1,
   "id": "c206b8a7",
   "metadata": {},
   "outputs": [],
   "source": [
    "class Calculator ():\n",
    "    def __init__(self,num1,num2):\n",
    "        self.num1=num1\n",
    "        self.num2=num2\n",
    "    def add (self):\n",
    "        print(f\"The Addation of two Numbers is {str(self.num1+self.num2)}\")\n",
    "    def sub (self):\n",
    "        print(f\"The Subtract of two Numbers is {str(self.num1-self.num2)}\")\n",
    "    def multiplication (self):\n",
    "        print(f\"The Multiplication of two Numbers is : {(self.num1*self.num2)}\")    \n",
    "  \n",
    "        "
   ]
  },
  {
   "cell_type": "code",
   "execution_count": 2,
   "id": "85685da3",
   "metadata": {},
   "outputs": [
    {
     "name": "stdout",
     "output_type": "stream",
     "text": [
      "The Subtract of two Numbers is -4\n",
      "The Addation of two Numbers is 8\n",
      "The Multiplication of two Numbers is : 12\n"
     ]
    }
   ],
   "source": [
    "calc=Calculator(2,6)\n",
    "calc.sub()\n",
    "calc.add()\n",
    "calc.multiplication()"
   ]
  },
  {
   "cell_type": "markdown",
   "id": "da3984e5",
   "metadata": {},
   "source": [
    "# Inhertance"
   ]
  },
  {
   "cell_type": "code",
   "execution_count": 111,
   "id": "a415ef25",
   "metadata": {},
   "outputs": [],
   "source": [
    "class scientific (Calculator):\n",
    "    def power(self):\n",
    "        return self.num1 ** self.num2\n",
    "    "
   ]
  },
  {
   "cell_type": "code",
   "execution_count": 112,
   "id": "61f0c215",
   "metadata": {},
   "outputs": [
    {
     "name": "stdout",
     "output_type": "stream",
     "text": [
      "The Addation of two Numbers is 50\n"
     ]
    }
   ],
   "source": [
    "x=scientific(20,30)\n",
    "x.add() # inhertaned from the parent class Calculator"
   ]
  },
  {
   "cell_type": "code",
   "execution_count": 113,
   "id": "acd40bbe",
   "metadata": {},
   "outputs": [
    {
     "name": "stdout",
     "output_type": "stream",
     "text": [
      "The Multiplication of two Numbers is 600\n"
     ]
    }
   ],
   "source": [
    "x.multiplication()   # inhertaned from the parent class Calculator"
   ]
  },
  {
   "cell_type": "code",
   "execution_count": 114,
   "id": "bd5b8196",
   "metadata": {},
   "outputs": [
    {
     "data": {
      "text/plain": [
       "1073741824000000000000000000000000000000"
      ]
     },
     "execution_count": 114,
     "metadata": {},
     "output_type": "execute_result"
    }
   ],
   "source": [
    "x.power()"
   ]
  },
  {
   "cell_type": "code",
   "execution_count": null,
   "id": "c63499aa",
   "metadata": {},
   "outputs": [],
   "source": []
  }
 ],
 "metadata": {
  "kernelspec": {
   "display_name": "Python 3 (ipykernel)",
   "language": "python",
   "name": "python3"
  },
  "language_info": {
   "codemirror_mode": {
    "name": "ipython",
    "version": 3
   },
   "file_extension": ".py",
   "mimetype": "text/x-python",
   "name": "python",
   "nbconvert_exporter": "python",
   "pygments_lexer": "ipython3",
   "version": "3.9.12"
  }
 },
 "nbformat": 4,
 "nbformat_minor": 5
}
