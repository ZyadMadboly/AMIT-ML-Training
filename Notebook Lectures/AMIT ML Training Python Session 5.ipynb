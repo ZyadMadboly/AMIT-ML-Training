{
 "cells": [
  {
   "cell_type": "markdown",
   "id": "a8163f78",
   "metadata": {},
   "source": [
    "# Add Two Vectors"
   ]
  },
  {
   "cell_type": "code",
   "execution_count": 2,
   "id": "d34ad11c",
   "metadata": {},
   "outputs": [],
   "source": [
    "def add_vector(vector1,vector2):\n",
    "    result=[]\n",
    "    for i in range (len(vector1)):\n",
    "        result.append(vector1[i]+vector2[i])\n",
    "    return result"
   ]
  },
  {
   "cell_type": "code",
   "execution_count": 3,
   "id": "b427f94a",
   "metadata": {},
   "outputs": [
    {
     "data": {
      "text/plain": [
       "[6, 10, 10]"
      ]
     },
     "execution_count": 3,
     "metadata": {},
     "output_type": "execute_result"
    }
   ],
   "source": [
    "add_vector([4,6,4],[2,4,6])"
   ]
  },
  {
   "cell_type": "code",
   "execution_count": 36,
   "id": "16317c88",
   "metadata": {},
   "outputs": [],
   "source": [
    "def add_vector_another(v,w):\n",
    "    assert len(v) == len (w)\n",
    "    return [v_i + w_i for v_i , w_i in zip (v,w)]\n",
    "assert add_vector_another([1,2,4],[4,5,6]) == [5,7,9]"
   ]
  },
  {
   "cell_type": "code",
   "execution_count": 39,
   "id": "e535492e",
   "metadata": {},
   "outputs": [
    {
     "data": {
      "text/plain": [
       "[6, 10]"
      ]
     },
     "execution_count": 39,
     "metadata": {},
     "output_type": "execute_result"
    }
   ],
   "source": [
    "add_vector_another([4,6],[2,4])"
   ]
  },
  {
   "cell_type": "markdown",
   "id": "cce81b3a",
   "metadata": {},
   "source": [
    "# Vector Multiplication "
   ]
  },
  {
   "cell_type": "markdown",
   "id": "b0a0c973",
   "metadata": {},
   "source": [
    "## Scaler Multiplicaiton"
   ]
  },
  {
   "cell_type": "code",
   "execution_count": 51,
   "id": "70c145d3",
   "metadata": {},
   "outputs": [],
   "source": [
    "def scaler_Multiplication (scaler_num,list1):\n",
    "    result=[]\n",
    "    for i in list1 :\n",
    "        result.append(i*scaler_num)\n",
    "    return result\n",
    "        "
   ]
  },
  {
   "cell_type": "code",
   "execution_count": 53,
   "id": "74d51e60",
   "metadata": {},
   "outputs": [
    {
     "data": {
      "text/plain": [
       "[4, 4, 4]"
      ]
     },
     "execution_count": 53,
     "metadata": {},
     "output_type": "execute_result"
    }
   ],
   "source": [
    "scaler_Multiplication(4,[1,1,1])"
   ]
  },
  {
   "cell_type": "code",
   "execution_count": 54,
   "id": "e7229b9b",
   "metadata": {},
   "outputs": [],
   "source": [
    "def scaler_Multiply(c,v):\n",
    "    return [c * v_i for v_i in v]\n",
    "assert scaler_Multiply(2,[1,2,3])==[2,4,6]"
   ]
  },
  {
   "cell_type": "code",
   "execution_count": 55,
   "id": "0b17d922",
   "metadata": {},
   "outputs": [
    {
     "data": {
      "text/plain": [
       "[12, 18, 9]"
      ]
     },
     "execution_count": 55,
     "metadata": {},
     "output_type": "execute_result"
    }
   ],
   "source": [
    "scaler_Multiply(3,[4,6,3])"
   ]
  },
  {
   "cell_type": "markdown",
   "id": "0122996c",
   "metadata": {},
   "source": [
    "## Dot Multiplication "
   ]
  },
  {
   "cell_type": "code",
   "execution_count": 13,
   "id": "e325d2d1",
   "metadata": {},
   "outputs": [],
   "source": [
    "def dot_multiplicaiton(list1,list2):\n",
    "    result=0\n",
    "    for i in range(len(list1)):\n",
    "        result+=list1[i]*list2[i]\n",
    "    return result\n"
   ]
  },
  {
   "cell_type": "code",
   "execution_count": 14,
   "id": "2c858ce8",
   "metadata": {},
   "outputs": [
    {
     "data": {
      "text/plain": [
       "18"
      ]
     },
     "execution_count": 14,
     "metadata": {},
     "output_type": "execute_result"
    }
   ],
   "source": [
    "dot_multiplicaiton([2,3,4],[4,2,1])"
   ]
  },
  {
   "cell_type": "code",
   "execution_count": 60,
   "id": "e0d6843c",
   "metadata": {},
   "outputs": [],
   "source": [
    "def dot_multiply(v,w):\n",
    "    assert len(v)==len(w)\n",
    "    return sum(v_i * w_i for v_i, w_i in zip(v,w))\n",
    "assert dot_multiply([1,2,3],[4,5,6])==32 \n"
   ]
  },
  {
   "cell_type": "code",
   "execution_count": 61,
   "id": "369fae3d",
   "metadata": {},
   "outputs": [
    {
     "data": {
      "text/plain": [
       "6"
      ]
     },
     "execution_count": 61,
     "metadata": {},
     "output_type": "execute_result"
    }
   ],
   "source": [
    "dot_multiply([2,3,1],[1,1,1])"
   ]
  },
  {
   "cell_type": "markdown",
   "id": "52a935a6",
   "metadata": {},
   "source": [
    "# Matrices\n"
   ]
  },
  {
   "cell_type": "markdown",
   "id": "3835008c",
   "metadata": {},
   "source": [
    "## Shape Of Metrices"
   ]
  },
  {
   "cell_type": "code",
   "execution_count": 5,
   "id": "367daaa9",
   "metadata": {},
   "outputs": [
    {
     "data": {
      "text/plain": [
       "(1, 3)"
      ]
     },
     "execution_count": 5,
     "metadata": {},
     "output_type": "execute_result"
    }
   ],
   "source": [
    "def shapeMatrix (Matrix):\n",
    "    Matrix_rows=len(Matrix)\n",
    "    Matrix_coloumns=len(Matrix[0]) \n",
    "    return Matrix_rows,Matrix_coloumns\n",
    "assert shapeMatrix([[1,2,3],[4,5,6]]) == ( 2, 3 )\n"
   ]
  },
  {
   "cell_type": "code",
   "execution_count": 9,
   "id": "dbd89dba",
   "metadata": {},
   "outputs": [
    {
     "data": {
      "text/plain": [
       "(2, 2)"
      ]
     },
     "execution_count": 9,
     "metadata": {},
     "output_type": "execute_result"
    }
   ],
   "source": [
    "shapeMatrix([[1,3],[4,2]])"
   ]
  },
  {
   "cell_type": "code",
   "execution_count": 3,
   "id": "99c87dc3",
   "metadata": {},
   "outputs": [
    {
     "name": "stdout",
     "output_type": "stream",
     "text": [
      "[[2, 4, 6], [8, 10, 12]]\n"
     ]
    }
   ],
   "source": [
    "a=[[1,2,3],[4,5,6]]\n",
    "b=[[1,2,3],[4,5,6]]\n",
    "def add_metrices(a,b):\n",
    "    c=[]\n",
    "    for i in range(len(a)):\n",
    "        c.append(add_vector(a[i],b[i]))\n",
    "    return c \n",
    "print(add_metrices(a,b))\n"
   ]
  },
  {
   "cell_type": "code",
   "execution_count": 5,
   "id": "2e4cceef",
   "metadata": {},
   "outputs": [
    {
     "data": {
      "text/plain": [
       "[[2, 4, 6], [8, 10, 12]]"
      ]
     },
     "execution_count": 5,
     "metadata": {},
     "output_type": "execute_result"
    }
   ],
   "source": [
    "add_metrices(a,b)"
   ]
  },
  {
   "cell_type": "code",
   "execution_count": 8,
   "id": "8230c53f",
   "metadata": {},
   "outputs": [],
   "source": [
    "def x():\n",
    "    \"help\"\n",
    "    return\n"
   ]
  },
  {
   "cell_type": "code",
   "execution_count": 10,
   "id": "c8f06e39",
   "metadata": {},
   "outputs": [
    {
     "name": "stdout",
     "output_type": "stream",
     "text": [
      "Help on function x in module __main__:\n",
      "\n",
      "x()\n",
      "    help\n",
      "\n",
      "None\n"
     ]
    }
   ],
   "source": [
    "print(help(x))"
   ]
  },
  {
   "cell_type": "code",
   "execution_count": null,
   "id": "7cd7b324",
   "metadata": {},
   "outputs": [],
   "source": []
  }
 ],
 "metadata": {
  "kernelspec": {
   "display_name": "Python 3 (ipykernel)",
   "language": "python",
   "name": "python3"
  },
  "language_info": {
   "codemirror_mode": {
    "name": "ipython",
    "version": 3
   },
   "file_extension": ".py",
   "mimetype": "text/x-python",
   "name": "python",
   "nbconvert_exporter": "python",
   "pygments_lexer": "ipython3",
   "version": "3.9.12"
  }
 },
 "nbformat": 4,
 "nbformat_minor": 5
}
