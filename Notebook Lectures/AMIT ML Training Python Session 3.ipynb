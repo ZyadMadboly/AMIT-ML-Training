{
 "cells": [
  {
   "cell_type": "markdown",
   "id": "2e65feb7",
   "metadata": {},
   "source": [
    "# ًWhile Loop "
   ]
  },
  {
   "cell_type": "code",
   "execution_count": 1,
   "id": "a5860425",
   "metadata": {},
   "outputs": [
    {
     "name": "stdout",
     "output_type": "stream",
     "text": [
      "X is currently: 0\n",
      "X is currently: 1\n",
      "X is currently: 2\n",
      "X is currently: 3\n",
      "X is currently: 4\n",
      "X is currently: 5\n",
      "X is currently: 6\n",
      "X is currently: 7\n",
      "X is currently: 8\n",
      "X is currently: 9\n",
      "X is currently: 10\n"
     ]
    }
   ],
   "source": [
    "x=0 \n",
    "\n",
    "while x<=10:\n",
    "    print (\"X is currently:\",x)\n",
    "    x+=1 #x=x+1\n",
    "    \n",
    "    "
   ]
  },
  {
   "cell_type": "code",
   "execution_count": 2,
   "id": "0adb3f0d",
   "metadata": {},
   "outputs": [
    {
     "name": "stdout",
     "output_type": "stream",
     "text": [
      "X is currently: 0\n",
      "X is still less than 10 , adding 1 to x\n",
      "X is currently: 1\n",
      "X is still less than 10 , adding 1 to x\n",
      "X is currently: 2\n",
      "X is still less than 10 , adding 1 to x\n",
      "X is currently: 3\n",
      "X is still less than 10 , adding 1 to x\n",
      "X is currently: 4\n",
      "X is still less than 10 , adding 1 to x\n",
      "X is currently: 5\n",
      "X is still less than 10 , adding 1 to x\n",
      "X is currently: 6\n",
      "X is still less than 10 , adding 1 to x\n",
      "X is currently: 7\n",
      "X is still less than 10 , adding 1 to x\n",
      "X is currently: 8\n",
      "X is still less than 10 , adding 1 to x\n",
      "X is currently: 9\n",
      "X is still less than 10 , adding 1 to x\n",
      "X is currently: 10\n",
      "X is still less than 10 , adding 1 to x\n",
      "All Done\n"
     ]
    }
   ],
   "source": [
    "x=0 \n",
    "\n",
    "while x<=10:\n",
    "    print (\"X is currently:\",x)\n",
    "    print (\"X is still less than 10 , adding 1 to x\")\n",
    "    x+=1 #x=x+1\n",
    "    \n",
    "else: # when statement is false the else statement excute \n",
    "    print(\"All Done\")"
   ]
  },
  {
   "cell_type": "code",
   "execution_count": 3,
   "id": "45be5050",
   "metadata": {},
   "outputs": [
    {
     "name": "stdout",
     "output_type": "stream",
     "text": [
      "1\n",
      "2\n",
      "3\n",
      "7\n",
      "10\n",
      "13\n",
      "14\n",
      "15\n",
      "19\n"
     ]
    }
   ],
   "source": [
    "myNumbers=[1,2,3,5,7,10,13,14,15,19]\n",
    "\n",
    "# Continue \n",
    "for number in myNumbers:\n",
    "    if number==5:\n",
    "        continue\n",
    "    print(number)"
   ]
  },
  {
   "cell_type": "markdown",
   "id": "2c97f6f9",
   "metadata": {},
   "source": [
    "# Quiz\n"
   ]
  },
  {
   "cell_type": "code",
   "execution_count": 3,
   "id": "d62db195",
   "metadata": {},
   "outputs": [
    {
     "name": "stdout",
     "output_type": "stream",
     "text": [
      "Please Enter Word \n",
      "  @media print {\n",
      "    .ms-editor-squiggles-container {\n",
      "      display:none !important;\n",
      "    }\n",
      "  }\n",
      "  .ms-editor-squiggles-container {\n",
      "    all: initial;\n",
      "  }mohamed mahmoud\n",
      "Iam Happy\n"
     ]
    }
   ],
   "source": [
    "x=input(\"Please Enter Word \")\n",
    "g=x.split()\n",
    "e=0\n",
    "if g[0][0]==g[1][0]:\n",
    "    print(\"Iam Happy\")\n",
    "else :\n",
    "    print(\"Iam Not Happy\")\n",
    "    "
   ]
  },
  {
   "cell_type": "markdown",
   "id": "587143fd",
   "metadata": {},
   "source": [
    "# Function"
   ]
  },
  {
   "cell_type": "code",
   "execution_count": 7,
   "id": "3241f111",
   "metadata": {},
   "outputs": [],
   "source": [
    "def say_hello():\n",
    "    print(f\"Hello\")"
   ]
  },
  {
   "cell_type": "code",
   "execution_count": 8,
   "id": "2ed7e31a",
   "metadata": {},
   "outputs": [
    {
     "name": "stdout",
     "output_type": "stream",
     "text": [
      "Hello\n"
     ]
    }
   ],
   "source": [
    "say_hello()"
   ]
  },
  {
   "cell_type": "code",
   "execution_count": 9,
   "id": "09e7fa60",
   "metadata": {},
   "outputs": [],
   "source": [
    "def greeting(name1,name2):\n",
    "    print(f\"Hello {name1} and also Hello {name2}\")\n",
    "    \n",
    "    \n",
    "    "
   ]
  },
  {
   "cell_type": "code",
   "execution_count": 11,
   "id": "e34d71cd",
   "metadata": {},
   "outputs": [
    {
     "name": "stdout",
     "output_type": "stream",
     "text": [
      "Please Enter name 1 Zeiad\n",
      "Please Enter Name 2 Mohamed\n",
      "Hello Zeiad and also Hello Mohamed\n"
     ]
    }
   ],
   "source": [
    "x=input(\"Please Enter name 1 \")\n",
    "y=input(\"Please Enter Name 2 \")\n",
    "\n",
    "greeting(x,y)"
   ]
  },
  {
   "cell_type": "code",
   "execution_count": 12,
   "id": "95682e6a",
   "metadata": {},
   "outputs": [],
   "source": [
    "def zeiad(num1,num2):\n",
    "    return num1+num2\n"
   ]
  },
  {
   "cell_type": "code",
   "execution_count": 16,
   "id": "e3196171",
   "metadata": {},
   "outputs": [
    {
     "name": "stdout",
     "output_type": "stream",
     "text": [
      "Please Enter First Number 34\n",
      "Please Enter Second Number 23\n"
     ]
    },
    {
     "data": {
      "text/plain": [
       "57"
      ]
     },
     "execution_count": 16,
     "metadata": {},
     "output_type": "execute_result"
    }
   ],
   "source": [
    "x=int(input(\"Please Enter First Number \"))\n",
    "y=int(input(\"Please Enter Second Number \"))\n",
    "\n",
    "result=zeiad(x,y)\n",
    "\n",
    "zeiad(x,y)\n"
   ]
  },
  {
   "cell_type": "markdown",
   "id": "6e627f3b",
   "metadata": {},
   "source": [
    "# Task "
   ]
  },
  {
   "cell_type": "code",
   "execution_count": 22,
   "id": "6cf611a9",
   "metadata": {},
   "outputs": [],
   "source": [
    "\n",
    "def Plus_Calculator(num1,num2,op):\n",
    "    if op == '+':\n",
    "        return(num1+num2)\n",
    "    \n",
    "def Sub_Calculator(num1,num2,op):\n",
    "    if op == '-':\n",
    "        return(num1-num2)\n",
    "     \n",
    "def Multi_Calculator(num1,num2,op):\n",
    "    if op == '*':\n",
    "        return(num1*num2) \n",
    "    \n",
    "def Div_Calculator(num1,num2,op):\n",
    "    if op == '/':\n",
    "        return(num1/num2)\n",
    "    \n",
    "\n",
    "    \n",
    "        "
   ]
  },
  {
   "cell_type": "code",
   "execution_count": null,
   "id": "53c19215",
   "metadata": {},
   "outputs": [],
   "source": [
    "number1=int(input(\"Please Enter First Number \"))\n",
    "number2=int(input(\"Please Enter Second Number \"))\n",
    "choice=input(\"Please Enter Your Choice \\t 1- For Add \\t 2- For Subtract \\t 3- For Multi \\t 4- For Divation \")\n",
    "\n",
    "\n",
    "if choice == \"1\" :\n",
    "    print(f\"Addation of the the Numbers is {Add_Calculator(num1,num2,op)}\" )\n",
    "\n"
   ]
  },
  {
   "cell_type": "markdown",
   "id": "b18c3f8e",
   "metadata": {},
   "source": [
    "# Map Functuion "
   ]
  },
  {
   "cell_type": "code",
   "execution_count": 1,
   "id": "9057ee5f",
   "metadata": {},
   "outputs": [],
   "source": [
    "def square (num):\n",
    "    return num**2\n",
    "\n"
   ]
  },
  {
   "cell_type": "code",
   "execution_count": 3,
   "id": "b4eca9b0",
   "metadata": {},
   "outputs": [
    {
     "data": {
      "text/plain": [
       "4"
      ]
     },
     "execution_count": 3,
     "metadata": {},
     "output_type": "execute_result"
    }
   ],
   "source": [
    "square(2)"
   ]
  },
  {
   "cell_type": "code",
   "execution_count": 4,
   "id": "939b26f5",
   "metadata": {},
   "outputs": [],
   "source": [
    "myNums=[1,2,3,4,5]"
   ]
  },
  {
   "cell_type": "code",
   "execution_count": 5,
   "id": "8a2b4cb0",
   "metadata": {},
   "outputs": [
    {
     "data": {
      "text/plain": [
       "<map at 0x1421a1e6a00>"
      ]
     },
     "execution_count": 5,
     "metadata": {},
     "output_type": "execute_result"
    }
   ],
   "source": [
    "map(square,myNums)"
   ]
  },
  {
   "cell_type": "code",
   "execution_count": 7,
   "id": "8ebc853a",
   "metadata": {},
   "outputs": [
    {
     "data": {
      "text/plain": [
       "[1, 4, 9, 16, 25]"
      ]
     },
     "execution_count": 7,
     "metadata": {},
     "output_type": "execute_result"
    }
   ],
   "source": [
    "list(map(square,myNums))"
   ]
  },
  {
   "cell_type": "code",
   "execution_count": 8,
   "id": "1265fc3a",
   "metadata": {},
   "outputs": [],
   "source": [
    "def splicer (ahmed):\n",
    "    if len(ahmed) % 2 == 0:\n",
    "        return \"Even\"\n",
    "    else: \n",
    "        return ahmed[0]"
   ]
  },
  {
   "cell_type": "code",
   "execution_count": 9,
   "id": "dea9ce3a",
   "metadata": {},
   "outputs": [
    {
     "data": {
      "text/plain": [
       "'a'"
      ]
     },
     "execution_count": 9,
     "metadata": {},
     "output_type": "execute_result"
    }
   ],
   "source": [
    "splicer('ahmed')"
   ]
  },
  {
   "cell_type": "code",
   "execution_count": 10,
   "id": "42cd99fe",
   "metadata": {},
   "outputs": [],
   "source": [
    "mynames=[\"John\",\"Cindy\",\"Sarah\",\"Kelly\",\"Mike\"]\n"
   ]
  },
  {
   "cell_type": "code",
   "execution_count": 11,
   "id": "a8b9bede",
   "metadata": {},
   "outputs": [
    {
     "data": {
      "text/plain": [
       "['Even', 'C', 'S', 'K', 'Even']"
      ]
     },
     "execution_count": 11,
     "metadata": {},
     "output_type": "execute_result"
    }
   ],
   "source": [
    "list(map(splicer,mynames))"
   ]
  },
  {
   "cell_type": "code",
   "execution_count": 13,
   "id": "f027e731",
   "metadata": {},
   "outputs": [],
   "source": [
    "def check_even (num):\n",
    "    return num % 2==0"
   ]
  },
  {
   "cell_type": "code",
   "execution_count": 14,
   "id": "3489267b",
   "metadata": {},
   "outputs": [
    {
     "data": {
      "text/plain": [
       "False"
      ]
     },
     "execution_count": 14,
     "metadata": {},
     "output_type": "execute_result"
    }
   ],
   "source": [
    "check_even(5)"
   ]
  },
  {
   "cell_type": "code",
   "execution_count": 15,
   "id": "1dd1ba7c",
   "metadata": {},
   "outputs": [],
   "source": [
    "nums=[0,1,2,3,4,5,6,7,9,10]"
   ]
  },
  {
   "cell_type": "code",
   "execution_count": 16,
   "id": "66094837",
   "metadata": {},
   "outputs": [
    {
     "data": {
      "text/plain": [
       "<filter at 0x1421a1e6670>"
      ]
     },
     "execution_count": 16,
     "metadata": {},
     "output_type": "execute_result"
    }
   ],
   "source": [
    "filter(check_even,nums)"
   ]
  },
  {
   "cell_type": "code",
   "execution_count": 17,
   "id": "97cc4f39",
   "metadata": {},
   "outputs": [
    {
     "data": {
      "text/plain": [
       "[0, 2, 4, 6, 10]"
      ]
     },
     "execution_count": 17,
     "metadata": {},
     "output_type": "execute_result"
    }
   ],
   "source": [
    "list(filter(check_even,nums))"
   ]
  },
  {
   "cell_type": "code",
   "execution_count": 19,
   "id": "51dd10f5",
   "metadata": {},
   "outputs": [],
   "source": [
    "def morethan(num):\n",
    "    return num>2"
   ]
  },
  {
   "cell_type": "code",
   "execution_count": 20,
   "id": "203c8860",
   "metadata": {},
   "outputs": [
    {
     "data": {
      "text/plain": [
       "False"
      ]
     },
     "execution_count": 20,
     "metadata": {},
     "output_type": "execute_result"
    }
   ],
   "source": [
    "morethan(2)"
   ]
  },
  {
   "cell_type": "code",
   "execution_count": 21,
   "id": "e5fcf956",
   "metadata": {},
   "outputs": [
    {
     "data": {
      "text/plain": [
       "[3, 4, 5, 6, 7, 9, 10]"
      ]
     },
     "execution_count": 21,
     "metadata": {},
     "output_type": "execute_result"
    }
   ],
   "source": [
    "list(filter(morethan,nums))"
   ]
  },
  {
   "cell_type": "markdown",
   "id": "8816a01e",
   "metadata": {},
   "source": [
    "# Lambda Function "
   ]
  },
  {
   "cell_type": "code",
   "execution_count": 22,
   "id": "91ea65d3",
   "metadata": {},
   "outputs": [],
   "source": [
    "x=lambda num : num**2"
   ]
  },
  {
   "cell_type": "code",
   "execution_count": 23,
   "id": "b85d4d18",
   "metadata": {},
   "outputs": [
    {
     "name": "stdout",
     "output_type": "stream",
     "text": [
      "4\n"
     ]
    }
   ],
   "source": [
    "print(x(2))"
   ]
  },
  {
   "cell_type": "code",
   "execution_count": null,
   "id": "691a4c10",
   "metadata": {},
   "outputs": [],
   "source": []
  }
 ],
 "metadata": {
  "kernelspec": {
   "display_name": "Python 3 (ipykernel)",
   "language": "python",
   "name": "python3"
  },
  "language_info": {
   "codemirror_mode": {
    "name": "ipython",
    "version": 3
   },
   "file_extension": ".py",
   "mimetype": "text/x-python",
   "name": "python",
   "nbconvert_exporter": "python",
   "pygments_lexer": "ipython3",
   "version": "3.9.12"
  }
 },
 "nbformat": 4,
 "nbformat_minor": 5
}
